{
 "cells": [
  {
   "cell_type": "code",
   "execution_count": null,
   "metadata": {},
   "outputs": [],
   "source": []
  },
  {
   "cell_type": "markdown",
   "metadata": {},
   "source": [
    "Problem Statement 1:\n",
    "\n",
    "A test is conducted which is consisting of 20 MCQs (multiple choices questions) with every MCQ having its four options out of which only one is correct. Determine the probability that a person undertaking that test has answered exactly 5 questions wrong.\n"
   ]
  },
  {
   "cell_type": "code",
   "execution_count": 55,
   "metadata": {},
   "outputs": [
    {
     "name": "stdout",
     "output_type": "stream",
     "text": [
      "The probability that the person has answered exactly 5 questions wrong out of 20  is 3.4264958230778575e-06\n"
     ]
    }
   ],
   "source": [
    "\n",
    "import numpy as np\n",
    "from math import factorial\n",
    "\n",
    "#Here in the above experiment we have 20 questions which is represented by n.\n",
    "#The count of successes that is to be attained in those ‘n’ trials is represented by 'k'\n",
    "#The failures is calculated as ‘n - k’.\n",
    "\n",
    "n = 20 \n",
    "fail= 5 # n-k=fail=5\n",
    "k=15\n",
    "\n",
    "#Probability of getting a correct answer for the question having 4 options = 1/4 \n",
    "prob_success=1/4\n",
    "\n",
    "#Probability of getting a correct answer for the question having 4 options = 1-1/4 = 3/4\n",
    "prob_failure=3/4\n",
    " \n",
    "#Therefore probability that thep person has answered exactly 5 questions wrong is given by\n",
    "\n",
    "result=(factorial(n)/(factorial(n-k)*factorial(k)))*np.power(prob_success,k)*np.power(prob_failure,n-k)\n",
    "\n",
    "print(\"The probability that the person has answered exactly {} questions wrong out of {}  is {}\".format(fail,n,result))"
   ]
  },
  {
   "cell_type": "code",
   "execution_count": null,
   "metadata": {},
   "outputs": [],
   "source": []
  },
  {
   "cell_type": "code",
   "execution_count": null,
   "metadata": {},
   "outputs": [],
   "source": []
  },
  {
   "cell_type": "markdown",
   "metadata": {},
   "source": [
    "Problem Statement 2:\n",
    "\n",
    "A die marked A to E is rolled 50 times. Find the probability of getting a “D” exactly 5 times.\n"
   ]
  },
  {
   "cell_type": "code",
   "execution_count": 54,
   "metadata": {},
   "outputs": [
    {
     "name": "stdout",
     "output_type": "stream",
     "text": [
      "The probability of getting a 'D' exactly 5 times out of 50 number of trails conducted is 0.029531204310524296\n"
     ]
    }
   ],
   "source": [
    "\n",
    "import numpy as np\n",
    "from math import factorial\n",
    "\n",
    "#Assume that in an experiment , 'n' represents the number of trials attempted,\n",
    "#The count of successes that is to be attained in those ‘n’ trials is represented by 'k'\n",
    "#The failures is calculated as ‘n - k’.\n",
    "\n",
    "n = 50 \n",
    "k =5 \n",
    "fail = n - k\n",
    "\n",
    "#Probability of getting a D in a single trial = 1/5 =0.2\n",
    "prob_success=1/5\n",
    "\n",
    "#Hence, the probability of Not getting a 'D' in a single trial= 1-1/5 = 4/5 =0.8\n",
    "prob_failure=4/5\n",
    " \n",
    "#Therefore probability of getting D exactly 5 times out of 50 rolls is given by\n",
    "\n",
    "result=(factorial(n)/(factorial(fail)*factorial(k)))*np.power(prob_success,k)*np.power(prob_failure,fail)\n",
    "\n",
    "print(\"The probability of getting a 'D' exactly {} times out of {} number of trails conducted is {}\".format(k,n,result))"
   ]
  },
  {
   "cell_type": "code",
   "execution_count": null,
   "metadata": {},
   "outputs": [],
   "source": []
  },
  {
   "cell_type": "code",
   "execution_count": null,
   "metadata": {},
   "outputs": [],
   "source": []
  },
  {
   "cell_type": "markdown",
   "metadata": {},
   "source": [
    "Problem Statement 3:\n",
    "\n",
    "Two balls are drawn at random in succession without replacement from an urn containing 4 red balls and 6 black balls.\n",
    "Find the probabilities of all the possible outcomes.\n"
   ]
  },
  {
   "cell_type": "code",
   "execution_count": null,
   "metadata": {},
   "outputs": [],
   "source": []
  },
  {
   "cell_type": "code",
   "execution_count": 53,
   "metadata": {},
   "outputs": [
    {
     "name": "stdout",
     "output_type": "stream",
     "text": [
      "Probability that the first ball picked is red and second ball picked is black is :  0.26666666666666666\n",
      "Probability that the first ball picked is black and second ball picked is red is :  0.26666666666666666\n",
      "Probability that both the balls picked are red                                   :  0.13333333333333333\n",
      "Probability that both the balls picked are black                                 :  0.3333333333333333\n"
     ]
    }
   ],
   "source": [
    "import numpy as np\n",
    "from math import factorial\n",
    "\n",
    "# Total numbers of balls= 4+6 = 10\n",
    "# Possible outcomes are { 1 Red ball & 1 Black ball, 1 Black ball & 1 Red ball, 2 Red balls, 2 Black balls}\n",
    "\n",
    "# CASE 1\n",
    "\n",
    "# The chances of picking a red ball first is 4 out of 10 balls.\n",
    "# So the probability is 4/10. prob_first_red_ball = red_ball / total_balls\n",
    "\n",
    "prob_first_red_ball = 4/10\n",
    "\n",
    "#The chances of picking a black ball second is 6 out of 9 balls.\n",
    "# So the probability is 6/9. prob_second_black_ball = black_ball / (total_balls - 1)\n",
    "\n",
    "prob_second_black_ball = 6/9\n",
    "\n",
    "print(\"Probability that the first ball picked is red and second ball picked is black is : \",prob_first_red_ball*prob_second_black_ball)\n",
    "\n",
    "# CASE 2\n",
    "#The chances of picking a black ball first is 6 out of 10 balls.\n",
    "# So the probability is 6/10. prob_first_black_ball = black_ball / total_balls\n",
    "\n",
    "prob_first_black_ball= 6/10\n",
    "\n",
    "#The chances of picking a red ball second is 4 out of 9 balls.\n",
    "# So the probability is 4/9. prob_second_red_ball = red_ball / (total_balls - 1) \n",
    "\n",
    "prob_second_red_ball = 4/9\n",
    "\n",
    "print(\"Probability that the first ball picked is black and second ball picked is red is : \",prob_first_black_ball*prob_second_red_ball)\n",
    "\n",
    "\n",
    "# CASE 3\n",
    "\n",
    "#Probability that both the balls are red is computed here as:\n",
    "# Total number of ways to select 2 red balls from the 4 is given as \n",
    "\n",
    "prob_two_red_balls = (factorial(4)/(factorial(4-2)*factorial(2)))/(factorial(10)/(factorial(10-2)*factorial(2)))\n",
    "\n",
    "print(\"Probability that both the balls picked are red                                   : \",prob_two_red_balls)\n",
    "\n",
    "\n",
    "# CASE 4\n",
    "\n",
    "#Probability that both the balls are black is computed here as:\n",
    "# Total number of ways to select 2 black balls from the 6 is given as \n",
    "\n",
    "prob_two_black_balls = (factorial(6)/(factorial(6-2)*factorial(2)))/(factorial(10)/(factorial(10-2)*factorial(2)))\n",
    "\n",
    "print(\"Probability that both the balls picked are black                                 : \",prob_two_black_balls)\n"
   ]
  },
  {
   "cell_type": "code",
   "execution_count": null,
   "metadata": {},
   "outputs": [],
   "source": []
  },
  {
   "cell_type": "code",
   "execution_count": null,
   "metadata": {},
   "outputs": [],
   "source": []
  },
  {
   "cell_type": "code",
   "execution_count": null,
   "metadata": {},
   "outputs": [],
   "source": []
  }
 ],
 "metadata": {
  "kernelspec": {
   "display_name": "Python 3",
   "language": "python",
   "name": "python3"
  },
  "language_info": {
   "codemirror_mode": {
    "name": "ipython",
    "version": 3
   },
   "file_extension": ".py",
   "mimetype": "text/x-python",
   "name": "python",
   "nbconvert_exporter": "python",
   "pygments_lexer": "ipython3",
   "version": "3.7.4"
  }
 },
 "nbformat": 4,
 "nbformat_minor": 2
}
