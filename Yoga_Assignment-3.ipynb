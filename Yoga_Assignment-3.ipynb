{
 "cells": [
  {
   "cell_type": "code",
   "execution_count": 1,
   "metadata": {},
   "outputs": [
    {
     "name": "stdout",
     "output_type": "stream",
     "text": [
      "Enter the integer : 0\n",
      "Number cannot be divided by zero\n",
      "Enter the integer : 5\n",
      "The value of b is: 1.0\n",
      "Division performed successfully\n"
     ]
    }
   ],
   "source": [
    "#  Task 1:\n",
    "# 1. Write a function to compute 5/0 and use try/except to catch the exceptions.\n",
    "\n",
    "\n",
    "\n",
    "\n",
    "\n",
    "def func():\n",
    "    while True:\n",
    "        try:\n",
    "            a=int(input(\"Enter the integer : \"))\n",
    "            b=5/a\n",
    "    \n",
    "        except ZeroDivisionError :\n",
    "            print(\"Number cannot be divided by zero\")\n",
    "     \n",
    "    \n",
    "    \n",
    "        except Exception as e:\n",
    "             print(\"Other exception  \"+str(e))\n",
    "    \n",
    "        else:\n",
    "            print(\"The value of b is:\",b)\n",
    "            print(\"Division performed successfully\")\n",
    "            break\n",
    "    \n",
    "\n",
    "\n",
    "func()"
   ]
  },
  {
   "cell_type": "code",
   "execution_count": 2,
   "metadata": {},
   "outputs": [
    {
     "name": "stdout",
     "output_type": "stream",
     "text": [
      "Americans Play Baseball.\n",
      "Americans Play cricket.\n",
      "Americans watch Baseball.\n",
      "Americans watch cricket.\n",
      "Indians Play Baseball.\n",
      "Indians Play cricket.\n",
      "Indians watch Baseball.\n",
      "Indians watch cricket.\n"
     ]
    }
   ],
   "source": [
    "\n",
    "#2. Implement a Python program to generate all sentences where subject is in [\"Americans\",\n",
    "# \"Indians\"] and verb is in [\"Play\", \"watch\"] and the object is in [\"Baseball\",\"cricket\"].\n",
    "# Hint: Subject,Verb and Object should be declared in the program as shown below.\n",
    "# subjects=[\"Americans \",\"Indians\"]\n",
    "# verbs=[\"play\",\"watch\"]\n",
    "# objects=[\"Baseball\",\"Cricket\"]\n",
    "# Output should come as below:\n",
    "# Americans play Baseball.\n",
    "# Americans play Cricket.\n",
    "# Americans watch Baseball.\n",
    "# Americans watch Cricket.\n",
    "# Indians play Baseball.\n",
    "# Indians play Cricket.\n",
    "# Indians watch Baseball.\n",
    "# Indians watch Cricket.\n",
    "\n",
    "\n",
    "subject=[\"Americans\", \"Indians\"]\n",
    "verb=[\"Play\", \"watch\"]\n",
    "obj=[\"Baseball\",\"cricket\"]\n",
    "\n",
    "sentences= [(i+\" \"+ j + \" \" + k+\".\") for i in subject for j in verb for k in obj]\n",
    "for sentence in sentences:\n",
    "    print (sentence)\n"
   ]
  },
  {
   "cell_type": "code",
   "execution_count": null,
   "metadata": {},
   "outputs": [],
   "source": [
    "# Task 2:\n",
    "# 1.Write a function so that the columns of the output matrix are powers of the input vector.\n",
    "# The order of the powers is determined by the increasing boolean argument. Specifically, when\n",
    "# increasing is False, the i-th output column is the input vector raised element-wise to the power\n",
    "# of N - i - 1.\n",
    "# HINT: Such a matrix with a geometric progression in each row is named for Alexandre-Theophile Vandermonde."
   ]
  },
  {
   "cell_type": "code",
   "execution_count": 4,
   "metadata": {},
   "outputs": [
    {
     "name": "stdout",
     "output_type": "stream",
     "text": [
      "Enter the number of elements : 4\n",
      "Enter the integer : 1\n",
      "Enter the integer : 2\n",
      "Enter the integer : 3\n",
      "Enter the integer : 5\n",
      "Enter the number of columns : 3\n"
     ]
    },
    {
     "data": {
      "text/plain": [
       "array([[ 1,  1,  1],\n",
       "       [ 4,  2,  1],\n",
       "       [ 9,  3,  1],\n",
       "       [25,  5,  1]], dtype=int32)"
      ]
     },
     "execution_count": 4,
     "metadata": {},
     "output_type": "execute_result"
    }
   ],
   "source": [
    "import numpy as np\n",
    "x=int(input(\"Enter the number of elements : \"))\n",
    "y=[]\n",
    "for i in range(0,x):\n",
    "    z=int(input(\"Enter the integer : \"))\n",
    "    y.append(z)\n",
    "    \n",
    "a=np.array(y)    \n",
    "n=int(input(\"Enter the number of columns : \"))\n",
    "np.column_stack([a**(n-i-1) for i in range(n)])"
   ]
  },
  {
   "cell_type": "code",
   "execution_count": null,
   "metadata": {},
   "outputs": [],
   "source": [
    "Session 3\n",
    "Assignment 1 Question\n",
    "Session 3: Assignment 1\n",
    "Table of Contents\n",
    "1. Introduction\n",
    "2. Problem Statement\n",
    "3. Output\n",
    "1. Introduction\n",
    "This assignment will help you to consolidate the concepts learnt in the session.\n",
    "2. Problem Statement\n",
    "Task 1:\n",
    "1.\n",
    "Write a function to compute 5/0 and use try/except to catch the exceptions.\n",
    "2.\n",
    "Implement a Python program to generate all sentences where subject is in [\"Americans\",\n",
    "\"Indians\"] and verb is in [\"Play\", \"watch\"] and the object is in [\"Baseball\",\"cricket\"].\n",
    "Hint: Subject,Verb and Object should be declared in the program as shown below.\n",
    "subjects=[\"Americans \",\"Indians\"]\n",
    "verbs=[\"play\",\"watch\"]\n",
    "objects=[\"Baseball\",\"Cricket\"]\n",
    "Output should come as below:\n",
    "Americans play Baseball.\n",
    "Americans play Cricket.\n",
    "Americans watch Baseball.\n",
    "Americans watch Cricket.\n",
    "Indians play Baseball.\n",
    "Indians play Cricket.\n",
    "Indians watch Baseball.\n",
    "Indians watch Cricket.\n",
    "Task 2:\n",
    "1.\n",
    "Write a function so that the columns of the output matrix are powers of the input vector.\n",
    "The order of the powers is determined by the increasing boolean argument. Specifically, when\n",
    "increasing is False, the i-th output column is the input vector raised element-wise to the power\n",
    "of N - i - 1.\n",
    "HINT: Such a matrix with a geometric progression in each row is named for Alexandre-\n",
    "Theophile Vandermonde.\n",
    "NOTE: The solution shared through Github should contain the source code used and the\n",
    "screenshot of the output.\n",
    "3. Output\n",
    "N/A"
   ]
  }
 ],
 "metadata": {
  "kernelspec": {
   "display_name": "Python 3",
   "language": "python",
   "name": "python3"
  },
  "language_info": {
   "codemirror_mode": {
    "name": "ipython",
    "version": 3
   },
   "file_extension": ".py",
   "mimetype": "text/x-python",
   "name": "python",
   "nbconvert_exporter": "python",
   "pygments_lexer": "ipython3",
   "version": "3.7.4"
  }
 },
 "nbformat": 4,
 "nbformat_minor": 2
}
