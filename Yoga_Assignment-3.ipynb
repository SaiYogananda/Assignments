{
 "cells": [
  {
   "cell_type": "code",
   "execution_count": 1,
   "metadata": {},
   "outputs": [
    {
     "name": "stdout",
     "output_type": "stream",
     "text": [
      "Enter the integer : 0\n",
      "Number cannot be divided by zero\n",
      "Enter the integer : 5\n",
      "The value of b is: 1.0\n",
      "Division performed successfully\n"
     ]
    }
   ],
   "source": [
    "def func():\n",
    "    while True:\n",
    "        try:\n",
    "            a=int(input(\"Enter the integer : \"))\n",
    "            b=5/a\n",
    "    \n",
    "        except ZeroDivisionError :\n",
    "            print(\"Number cannot be divided by zero\")\n",
    "     \n",
    "    \n",
    "    \n",
    "        except Exception as e:\n",
    "             print(\"Other exception  \"+str(e))\n",
    "    \n",
    "        else:\n",
    "            print(\"The value of b is:\",b)\n",
    "            print(\"Division performed successfully\")\n",
    "            break\n",
    "    \n",
    "\n",
    "\n",
    "func()"
   ]
  },
  {
   "cell_type": "code",
   "execution_count": 2,
   "metadata": {},
   "outputs": [
    {
     "name": "stdout",
     "output_type": "stream",
     "text": [
      "Americans Play Baseball.\n",
      "Americans Play cricket.\n",
      "Americans watch Baseball.\n",
      "Americans watch cricket.\n",
      "Indians Play Baseball.\n",
      "Indians Play cricket.\n",
      "Indians watch Baseball.\n",
      "Indians watch cricket.\n"
     ]
    }
   ],
   "source": [
    "subject=[\"Americans\", \"Indians\"]\n",
    "verb=[\"Play\", \"watch\"]\n",
    "obj=[\"Baseball\",\"cricket\"]\n",
    "\n",
    "sentences= [(i+\" \"+ j + \" \" + k+\".\") for i in subject for j in verb for k in obj]\n",
    "for sentence in sentences:\n",
    "    print (sentence)\n"
   ]
  },
  {
   "cell_type": "code",
   "execution_count": 3,
   "metadata": {},
   "outputs": [
    {
     "name": "stdout",
     "output_type": "stream",
     "text": [
      "Enter the number of elements : 4\n",
      "Enter the integer : 1\n",
      "Enter the integer : 2\n",
      "Enter the integer : 3\n",
      "Enter the integer : 5\n",
      "Enter the number of columns : 3\n"
     ]
    },
    {
     "data": {
      "text/plain": [
       "array([[ 1,  1,  1],\n",
       "       [ 4,  2,  1],\n",
       "       [ 9,  3,  1],\n",
       "       [25,  5,  1]], dtype=int32)"
      ]
     },
     "execution_count": 3,
     "metadata": {},
     "output_type": "execute_result"
    }
   ],
   "source": [
    "import numpy as np\n",
    "x=int(input(\"Enter the number of elements : \"))\n",
    "y=[]\n",
    "for i in range(0,x):\n",
    "    z=int(input(\"Enter the integer : \"))\n",
    "    y.append(z)\n",
    "    \n",
    "a=np.array(y)    \n",
    "n=int(input(\"Enter the number of columns : \"))\n",
    "np.vander(a,n,True)\n",
    "np.column_stack([a**(n-i-1) for i in range(n)])"
   ]
  },
  {
   "cell_type": "code",
   "execution_count": null,
   "metadata": {},
   "outputs": [],
   "source": []
  }
 ],
 "metadata": {
  "kernelspec": {
   "display_name": "Python 3",
   "language": "python",
   "name": "python3"
  },
  "language_info": {
   "codemirror_mode": {
    "name": "ipython",
    "version": 3
   },
   "file_extension": ".py",
   "mimetype": "text/x-python",
   "name": "python",
   "nbconvert_exporter": "python",
   "pygments_lexer": "ipython3",
   "version": "3.7.4"
  }
 },
 "nbformat": 4,
 "nbformat_minor": 2
}
