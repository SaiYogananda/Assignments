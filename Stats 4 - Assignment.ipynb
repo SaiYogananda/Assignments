{
 "cells": [
  {
   "cell_type": "markdown",
   "metadata": {},
   "source": [
    "Problem Statement 1:\n",
    "\n",
    "Is gender independent of education level? A random sample of 395 people were surveyed and each person was asked to report the highest education level they obtained. The data that resulted from the survey is summarized in the following table:\n",
    "\n",
    "                     High School\t  Bachelors\t  Masters    Ph.d.    Total\n",
    "\n",
    "\n",
    "Female(Observed)           60\t         54\t        46\t      41\t   201  (201 is approximately 51% of 395) \n",
    "\n",
    "\n",
    "Female(Expected)           51            50         50        50\n",
    "\n",
    "\n",
    "Male(Observed)             40\t         44\t        53\t      57\t   194  (194 is approximately 49% of 395)\n",
    "\n",
    "\n",
    "Male(Expected)             49            48         49        48\n",
    "\n",
    "\n",
    "Total                      100\t         98\t        99\t      98\t   395\n",
    "\n",
    "Question: Are gender and education level dependent at 5% level of significance? In other words, given the data collected above, is there a relationship between the gender of an individual and the level of education that they have obtained?\n"
   ]
  },
  {
   "attachments": {
    "image.png": {
     "image/png": "[encoded data removed]"
    }
   },
   "cell_type": "markdown",
   "metadata": {},
   "source": [
    "Null Hypothesis(H_0)      : There is no relationship between the gender of an individual and the level of education.\n",
    "\n",
    "Alternate Hypothesis(H_a) : There is relationship between the gender of an individual and the level of education.\n",
    "\n",
    "\n",
    "Given significance level = 0.05\n",
    "\n",
    "Chi-square test statistic is given by the below formula:\n",
    "\n",
    "\n",
    "![image.png](attachment:image.png)\n",
    "\n"
   ]
  },
  {
   "cell_type": "markdown",
   "metadata": {},
   "source": [
    "Chi-square = power(60-51,2)/51  + power(54-50,2)/50  + power(46-50,2)/50 + power(41-50,2)/50 + power(40-49,2)/49  \n",
    "             + power(44-48,2)/48  + power(53-49,2)/49 + power(57-48,2)/48\n",
    "             \n",
    "             \n",
    "            = 8.68\n",
    "            \n",
    "            \n",
    "  Degrees of freedom for the contigency table is (number of rows - 1) * (number of columns- 1) = (2-1) * (4-1) = 3\n",
    "  \n",
    "  Now we look for the value associated with significance level 0.05 and degrees of freedom 3 in the Chi-square value table\n",
    "  \n",
    "  We get the value as 7.82 \n",
    "  \n",
    "  At a critical value of 7.82 , the probability of getting that extreme i.e. 7.82 is 5%\n",
    "  \n",
    "  Now the Chi-square statistic which we have calculated falls into this rejection region,then we will reject the null   \n",
    "  hypothesis .\n",
    "  \n",
    "  As our calculated value i.e. 8.68 is greater than 7.82 , it will fall into the rejection region.\n",
    "  \n",
    "  So we will reject the null hypothesis.\n",
    "  \n",
    "  So there is relationship between the gender of an individual and the level of education at a 5% level of significance.\n",
    "   \n",
    "   "
   ]
  },
  {
   "cell_type": "code",
   "execution_count": null,
   "metadata": {},
   "outputs": [],
   "source": []
  },
  {
   "cell_type": "markdown",
   "metadata": {},
   "source": [
    "Problem Statement 2:\n",
    "\n",
    "Using the following data, perform a oneway analysis of variance using α=.05. Write up the results in APA format.\n",
    "\n",
    "\n",
    "[Group1: 51, 45, 33, 45, 67]\n",
    "[Group2: 23, 43, 23, 43, 45]\n",
    "[Group3: 56, 76, 74, 87, 56]\n"
   ]
  },
  {
   "cell_type": "markdown",
   "metadata": {},
   "source": [
    "Null Hypothesis(H_0) : All the means of the groups are equal.\n",
    "\n",
    "Alternate Hypothesis(H_a) : All the means of the groups are not equal."
   ]
  },
  {
   "cell_type": "markdown",
   "metadata": {},
   "source": [
    "\n",
    "           Group 1              Group 2            Group 3\n",
    "           51                    23                  56\n",
    "           45                    43                  76\n",
    "           33                    23                  74\n",
    "           45                    43                  87\n",
    "           67                    45                  56\n",
    "           \n",
    "  Sum      241                   177                349\n",
    "  \n",
    "  Mean     48.2                 35.4                69.8\n",
    "  \n",
    "  \n",
    "  Grand mean = (48.2 + 35.4 + 69.8)/3    = 51.13\n",
    "  \n",
    "  \n",
    "  Given alpha = 0.05\n",
    "  \n",
    "  If the critical value of F from table is less than the calculated value of F, we reject the null hypothesis.\n",
    "  \n",
    "  \n",
    "  \n",
    "  N = number of observations = 5 * 3 = 15\n",
    "  \n",
    "  k = 3\n",
    "  \n",
    "   DFbetween = k - 1 = 3 - 1 = 2\n",
    "   \n",
    "   DFwithin = N - k = 15 - 3 = 12\n",
    "   \n",
    "   DFtotal = N - 1  = 15-1 = 14\n",
    "   \n",
    "   \n",
    "   Sum of Squares(within) = (51-48.2)square + (45-48.2)square + (33-48.2)square + (45-48.2)square + (67-48.2)square +\n",
    "                            (23-35.4)square + (43-35.4)square + (23-35.4)square + (43-35.4)square + (45-35.4) square +\n",
    "                            (56-69.8)square + (76-69.8)square + (74-69.8)square + (87-69.8)square + (56-69.8)square \n",
    "                            \n",
    "                            \n",
    "                            \n",
    "                          = 1860.8\n",
    "                          \n",
    "                          \n",
    "                          \n",
    "   Sum of Squares(between) = (48.2-51.13)square + (48.2-51.13)square + (48.2-51.13)square +\n",
    "                             (35.4-51.13)square + (35.4-51.13)square + (35.4-51.13)square +\n",
    "                             (69.8-51.13)square + (69.8-51.13)square + (69.8-51.13)square \n",
    "                             \n",
    "                             \n",
    "                           =  3022.93\n",
    "                           \n",
    "                           \n",
    "                           \n",
    "    Sum of Squares(Total) = Sum of Squares(between) + Sum of Squares(within)\n",
    "    \n",
    "                          = 1860.8 + 3022.93 = 4883.73\n",
    "                          \n",
    "                          \n",
    "                          \n",
    "                          \n",
    "                      \n",
    "     Mean squares Between = Sum of Squares Between / DFbetween = 3022.93 / 2  = 1511.47\n",
    "     \n",
    "     Mean squares within  = Sum of Squares within / DFwithin  = 1860.8 / 12 = 155.07 \n",
    "     \n",
    "     \n",
    "     \n",
    "     F-statistic = Mean squares Between / Mean squares within  =  1511.47 / 155.07 = 9.75 \n",
    "     \n",
    "     \n",
    "     From the table of F distribution, the critical value of F for 0.05 significance and degrees of freedom of\n",
    "     (dfwithin = 12 and dfbetween = 2) we have:\n",
    "\n",
    "      F = 3.89\n",
    "\n",
    "Since the calculated(absolute value) of F is greater than the tabulated value, we reject the null hypothesis and conclude that all the means of the groups are not equal..\n",
    "                          \n",
    "                          \n",
    "                          \n",
    "     \n",
    "                               \n",
    "\n",
    "\n",
    "\n"
   ]
  },
  {
   "cell_type": "markdown",
   "metadata": {},
   "source": []
  },
  {
   "cell_type": "code",
   "execution_count": null,
   "metadata": {},
   "outputs": [],
   "source": []
  },
  {
   "cell_type": "markdown",
   "metadata": {},
   "source": [
    "Problem Statement 3:\n",
    "\n",
    "Calculate F Test for given 10, 20, 30, 40, 50 and 5,10,15, 20, 25.\n",
    "\n",
    "For 10, 20, 30, 40, 50:\n"
   ]
  },
  {
   "cell_type": "code",
   "execution_count": 1,
   "metadata": {},
   "outputs": [],
   "source": [
    "import numpy as np"
   ]
  },
  {
   "cell_type": "code",
   "execution_count": 7,
   "metadata": {},
   "outputs": [
    {
     "name": "stdout",
     "output_type": "stream",
     "text": [
      "The F-test value is :  4.0\n"
     ]
    }
   ],
   "source": [
    "first_set = [10,20,30,40,50]\n",
    "second_set= [5,10,15,20,25]\n",
    "\n",
    "# to calculate F-test\n",
    "# F_test = variance of first set / second set \n",
    "first_set_variance = np.var(first_set)\n",
    "\n",
    "second_set_variance = np.var(second_set)\n",
    "\n",
    "F_test= (first_set_variance/second_set_variance)\n",
    "\n",
    "print(\"The F-test value is : \",F_test)"
   ]
  },
  {
   "cell_type": "code",
   "execution_count": null,
   "metadata": {},
   "outputs": [],
   "source": []
  }
 ],
 "metadata": {
  "kernelspec": {
   "display_name": "Python 3",
   "language": "python",
   "name": "python3"
  },
  "language_info": {
   "codemirror_mode": {
    "name": "ipython",
    "version": 3
   },
   "file_extension": ".py",
   "mimetype": "text/x-python",
   "name": "python",
   "nbconvert_exporter": "python",
   "pygments_lexer": "ipython3",
   "version": "3.7.4"
  }
 },
 "nbformat": 4,
 "nbformat_minor": 2
}
