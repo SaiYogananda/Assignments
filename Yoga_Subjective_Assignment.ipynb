{
 "cells": [
  {
   "cell_type": "markdown",
   "metadata": {},
   "source": [
    "Q1. Write a Python program to get the string from the given string where all the occurrence of its first char has been changed to '$,' except first char itself?\n",
    "\n",
    "Sample String: 'prospect' \n",
    "Expected Result : 'pros$ect'"
   ]
  },
  {
   "cell_type": "code",
   "execution_count": 6,
   "metadata": {},
   "outputs": [
    {
     "name": "stdout",
     "output_type": "stream",
     "text": [
      "pros$ect\n"
     ]
    }
   ],
   "source": [
    "def change_first(s):\n",
    "    a = s[0]\n",
    "    s1 = s.replace(a, '$')\n",
    "    s1 = a + s1[1:]\n",
    "    return s1\n",
    "\n",
    "print(change_first('prospect'))\n"
   ]
  },
  {
   "cell_type": "markdown",
   "metadata": {},
   "source": [
    "Q2. Write a Python program to get the single string from the two given strings, and separated by the space and swap the first two characters of each string? \n",
    "Sample String : 'abc', 'xyz'.\n",
    "Expected Result: 'xyc abz'"
   ]
  },
  {
   "cell_type": "code",
   "execution_count": 7,
   "metadata": {},
   "outputs": [
    {
     "name": "stdout",
     "output_type": "stream",
     "text": [
      "enter the 1st string : abc\n",
      "enter the 2nd string : xyz\n",
      "xyc abz\n"
     ]
    }
   ],
   "source": [
    "x=input(\"enter the 1st string : \")\n",
    "y=input(\"enter the 2nd string : \")\n",
    "print(y[:2]+x[2:]+\" \"+x[:2]+y[2:])\n"
   ]
  },
  {
   "cell_type": "markdown",
   "metadata": {},
   "source": [
    "Q3. Write the Python program to add 'ing' at the end of the given string (length of the string should be at least 3).\n",
    "If given string already ends with 'ing,' then add 'ly' instead. \n",
    "If string length of the given string is less than 3, leave it unchanged?\n",
    "Sample string: ' abc ' \n",
    "Expected result: ' abcing ' \n",
    "Sample string: ' string ' \n",
    "Expected result: ' stringly '"
   ]
  },
  {
   "cell_type": "code",
   "execution_count": 8,
   "metadata": {},
   "outputs": [
    {
     "name": "stdout",
     "output_type": "stream",
     "text": [
      "enter the string : abc\n",
      "abcing\n"
     ]
    }
   ],
   "source": [
    "s=input(\"enter the string : \")\n",
    "\n",
    "if(len(s)>=3):\n",
    "    b=s.find(\"ing\")\n",
    "    if(s[b:]==\"ing\"):\n",
    "        print(s+\"ly\")\n",
    "        \n",
    "    else:\n",
    "        print(s+\"ing\")\n",
    "        \n",
    "else:\n",
    "    print(s)"
   ]
  },
  {
   "cell_type": "code",
   "execution_count": 9,
   "metadata": {},
   "outputs": [
    {
     "name": "stdout",
     "output_type": "stream",
     "text": [
      "enter the string : string\n",
      "stringly\n"
     ]
    }
   ],
   "source": [
    "s=input(\"enter the string : \")\n",
    "\n",
    "if(len(s)>=3):\n",
    "    b=s.find(\"ing\")\n",
    "    if(s[b:]==\"ing\"):\n",
    "        print(s+\"ly\")\n",
    "        \n",
    "    else:\n",
    "        print(s+\"ing\")\n",
    "        \n",
    "else:\n",
    "    print(s)"
   ]
  },
  {
   "cell_type": "markdown",
   "metadata": {},
   "source": [
    "Q4. Write the Python program to find the first appearance of the substring 'not' and 'poor' from the given string, if 'not' follows the 'poor', replace the whole 'not'...' poor' substring with 'good'.\n",
    "Return the resulting string.\n",
    "Sample string: 'The lyrics are not that poor!' 'The lyrics are poor!' \n",
    "Expected Result: 'The lyrics are good!' 'The lyrics are poor!'"
   ]
  },
  {
   "cell_type": "code",
   "execution_count": 10,
   "metadata": {},
   "outputs": [
    {
     "name": "stdout",
     "output_type": "stream",
     "text": [
      "The lyrics are good!\n",
      "The lyrics are poor!\n"
     ]
    }
   ],
   "source": [
    "def not_and_poor(s):\n",
    "    index1=s.find(\"not\")\n",
    "    index2=s.find(\"poor\")\n",
    "    if(index2>index1 and index1>0 and index2>0):\n",
    "        s=s.replace(s[index1:],\"good!\")\n",
    "        return s\n",
    "    else:\n",
    "        return s\n",
    "    \n",
    "    \n",
    "print(not_and_poor(\"The lyrics are not that poor!\"))\n",
    "print(not_and_poor(\"The lyrics are poor!\"))"
   ]
  },
  {
   "cell_type": "code",
   "execution_count": null,
   "metadata": {},
   "outputs": [],
   "source": [
    "\n",
    "Q5. Write the Python program to remove the characters which have odd index values of a given string."
   ]
  },
  {
   "cell_type": "code",
   "execution_count": 13,
   "metadata": {},
   "outputs": [
    {
     "name": "stdout",
     "output_type": "stream",
     "text": [
      "enter the string : datascience\n",
      "dtsine\n"
     ]
    }
   ],
   "source": [
    "s=input(\"enter the string : \")\n",
    "res=''\n",
    "for i in range(0,len(s)):\n",
    "    if i%2==0:\n",
    "        res=res+s[i]\n",
    "print(res)"
   ]
  },
  {
   "cell_type": "markdown",
   "metadata": {},
   "source": [
    "Q6. Write the Python function to get a string made of 4 copies of the last two characters of the specified string\n",
    "(length must be at least 2).\n",
    "Sample function and result :\n",
    "insert-end ('Python') -> abababab\n",
    "insert-end('Exercises') -> jkjkjkjk"
   ]
  },
  {
   "cell_type": "code",
   "execution_count": 14,
   "metadata": {},
   "outputs": [
    {
     "name": "stdout",
     "output_type": "stream",
     "text": [
      "onononon\n",
      "eseseses\n"
     ]
    }
   ],
   "source": [
    "def insert_end(s):\n",
    "    if(len(s)>=2):\n",
    "        print(s[-2:]*4)\n",
    "        \n",
    "\n",
    "insert_end('Python')\n",
    "insert_end('Exercises')"
   ]
  },
  {
   "cell_type": "markdown",
   "metadata": {},
   "source": [
    "Q7. Write the python function to get a string made of its first three characters of a specified string.\n",
    "If the length of the string is less than 3 then return the original string.\n",
    "Sample function and result :\n",
    "    first-three('ipy') -> ipy \n",
    "    first-three('python') -> pyt"
   ]
  },
  {
   "cell_type": "code",
   "execution_count": 15,
   "metadata": {},
   "outputs": [
    {
     "name": "stdout",
     "output_type": "stream",
     "text": [
      "ipy\n",
      "pyt\n"
     ]
    }
   ],
   "source": [
    "def first_three(s):\n",
    "    if(len(s)>=3):\n",
    "        return s[0:3]\n",
    "    else:\n",
    "        return s\n",
    "    \n",
    "    \n",
    "print(first_three(\"ipy\"))\n",
    "print(first_three(\"python\"))"
   ]
  },
  {
   "cell_type": "markdown",
   "metadata": {},
   "source": [
    "Q8. Write the python program to print the following floating numbers up to 2 decimal places?"
   ]
  },
  {
   "cell_type": "code",
   "execution_count": 16,
   "metadata": {},
   "outputs": [
    {
     "name": "stdout",
     "output_type": "stream",
     "text": [
      "enter the float variable : 21.4658\n",
      "21.47\n"
     ]
    }
   ],
   "source": [
    "c=float(input(\"enter the float variable : \"))\n",
    "print('%.2f'%c)"
   ]
  },
  {
   "cell_type": "markdown",
   "metadata": {},
   "source": [
    "Q9. Write the Python program to format a number with a percentage?"
   ]
  },
  {
   "cell_type": "code",
   "execution_count": 17,
   "metadata": {},
   "outputs": [
    {
     "name": "stdout",
     "output_type": "stream",
     "text": [
      "enter the float variable : 546.8\n",
      "54680.00%\n"
     ]
    }
   ],
   "source": [
    "x=float(input(\"enter the float variable : \"))\n",
    "print(\"{:.2%}\".format(x))"
   ]
  },
  {
   "cell_type": "markdown",
   "metadata": {},
   "source": [
    "Q10. Write the Python program to count occurrences of a substring in a String?"
   ]
  },
  {
   "cell_type": "code",
   "execution_count": 18,
   "metadata": {},
   "outputs": [
    {
     "name": "stdout",
     "output_type": "stream",
     "text": [
      "enter the string : datasciencedata\n",
      "enter the sub-string: data\n",
      "2\n"
     ]
    }
   ],
   "source": [
    "a=input(\"enter the string : \")\n",
    "b=input(\"enter the sub-string: \")\n",
    "print(a.count(b))"
   ]
  },
  {
   "cell_type": "markdown",
   "metadata": {},
   "source": [
    "\n",
    "   Q11. Write the Python program to count repeated characters in a string.\n",
    "   \n",
    "Sample string: ' thequickbrownjumpsoverthelazydog '\n",
    "Expected output: o 3 e 3 u 2 h 2"
   ]
  },
  {
   "cell_type": "code",
   "execution_count": 19,
   "metadata": {},
   "outputs": [
    {
     "name": "stdout",
     "output_type": "stream",
     "text": [
      "e 3\n",
      "t 2\n",
      "h 2\n",
      "o 3\n",
      "r 2\n",
      "u 2\n"
     ]
    }
   ],
   "source": [
    "s=list('thequickbrownjumpsoverthelazydog')\n",
    "s.sort()\n",
    "a=set(s)\n",
    "for i in a:                                         \n",
    "    b=s.count(i)\n",
    "    if(b>1):\n",
    "        print(i+\" \"+str(b))\n"
   ]
  },
  {
   "cell_type": "markdown",
   "metadata": {},
   "source": [
    "Q12. Write the Python program to print the square and cube symbol in the area of a rectangle and volume of a cylinder? \n",
    "Sample output- \n",
    "The area of the rectangle is 1256.66cm2 \n",
    "The volume of the cylinder is 1254.725cm3"
   ]
  },
  {
   "cell_type": "code",
   "execution_count": 20,
   "metadata": {},
   "outputs": [
    {
     "name": "stdout",
     "output_type": "stream",
     "text": [
      "The area of the rectangle is 1256.66cm²\n",
      "The volume of the cylinder is 1254.725cm³\n"
     ]
    }
   ],
   "source": [
    "area = 1256.66\n",
    "volume = 1254.725\n",
    "decimals = 2\n",
    "print(\"The area of the rectangle is {0:.{1}f}cm\\u00b2\".format(area, decimals))\n",
    "decimals = 3\n",
    "print(\"The volume of the cylinder is {0:.{1}f}cm\\u00b3\".format(volume, decimals))"
   ]
  },
  {
   "cell_type": "markdown",
   "metadata": {},
   "source": [
    "Q13. Write the Python program to check if a string contains all letters of the alphabet? "
   ]
  },
  {
   "cell_type": "code",
   "execution_count": 21,
   "metadata": {},
   "outputs": [
    {
     "name": "stdout",
     "output_type": "stream",
     "text": [
      "The string contains all the letters of alphabet\n"
     ]
    }
   ],
   "source": [
    "s=set('abcdefghijklmnopqrstuvwxyz')\n",
    "s3=set('thequickbrownfoxjumpsoverthelazydog')\n",
    "if(s.difference(s3)==set()):\n",
    "    print(\"The string contains all the letters of alphabet\")\n",
    "    \n",
    "else:\n",
    "    print(\"The string does not contain all the letters of alphabet\")"
   ]
  },
  {
   "cell_type": "markdown",
   "metadata": {},
   "source": [
    "Q14. Write the Python program to find the second most repeated word in a given string?"
   ]
  },
  {
   "cell_type": "code",
   "execution_count": 22,
   "metadata": {},
   "outputs": [
    {
     "name": "stdout",
     "output_type": "stream",
     "text": [
      "happy\n"
     ]
    }
   ],
   "source": [
    "s=\"i felt happy because i saw others were happy and because i knew i should feel happy\"\n",
    "#i is repeated four times\n",
    "#happy is repeated three times\n",
    "a=s.split(\" \")\n",
    "c=set(a)\n",
    "x=[]                                \n",
    "for i in c:\n",
    "    f=s.count(i)\n",
    "    x.append(f)\n",
    "\n",
    "x.sort()\n",
    "\n",
    "for j in c:\n",
    "    if a.count(j)==int(x[-2]):\n",
    "        print(j)"
   ]
  },
  {
   "cell_type": "markdown",
   "metadata": {},
   "source": [
    "Q15. Write the Python program to find the minimum window in the given string,\n",
    "which will contains all the characters of another given strings?\n",
    "Example 1 \n",
    "Input : string1 = \" PRWSOERIUSFK \" string2 = \" OSU \" \n",
    "Output: Minimum window is \"OERIUS\""
   ]
  },
  {
   "cell_type": "code",
   "execution_count": 26,
   "metadata": {},
   "outputs": [
    {
     "name": "stdout",
     "output_type": "stream",
     "text": [
      "Minimum window is OERIUS"
     ]
    }
   ],
   "source": [
    "import copy\n",
    "s=list('PRWSOERIUSFK')\n",
    "s1=copy.deepcopy(s)\n",
    "s2=list('OSU')\n",
    "x=[]\n",
    "for i in range(0,len(s1)):\n",
    "    for j in s2:\n",
    "        if j==s1[i]:\n",
    "            a=s1.index(j)\n",
    "            x.append(a)\n",
    "            s1.remove(j)\n",
    "            s1.insert(i,'$')\n",
    "\n",
    "\n",
    "x.sort()\n",
    "w=x[0]+1\n",
    "y=x[len(x)-1]+1\n",
    "print(\"Minimum window is \",end='')\n",
    "for k in range(w,y):\n",
    "    print(s[k],end='')"
   ]
  },
  {
   "cell_type": "markdown",
   "metadata": {},
   "source": [
    "Q16. Write the Python program to find smallest window that contains all characters of the given string?\n",
    "Original Strings: asdaewsqgtwwsa \n",
    "Smallest window that contains all characters of the said string:\n",
    "Daewsqgt"
   ]
  },
  {
   "cell_type": "code",
   "execution_count": 30,
   "metadata": {},
   "outputs": [
    {
     "name": "stdout",
     "output_type": "stream",
     "text": [
      "daewsqgt\n"
     ]
    }
   ],
   "source": [
    "import numpy as np\n",
    "import pandas as pd\n",
    "\n",
    "string = 'asdaewsqgtwwsa'\n",
    "string = list(string)\n",
    "\n",
    "unique_string = pd.unique(string)\n",
    "\n",
    "\n",
    "def listToString(s):   \n",
    "    str1 = \"\" \n",
    "    return (str1.join(s)) \n",
    "\n",
    "\n",
    "unique_string_len = len(listToString(pd.unique(unique_string)))\n",
    "\n",
    "\n",
    "\n",
    "def check_match(check_string):\n",
    "    j = 0\n",
    "    value= False\n",
    "    \n",
    "    for i in unique_string:\n",
    "        for k in check_string:\n",
    "            if i == k:\n",
    "                value = True\n",
    "                break\n",
    "            else:\n",
    "                value = False\n",
    "        if value == False:\n",
    "            return value\n",
    "        \n",
    "    return value\n",
    "\n",
    "\n",
    "\n",
    "\n",
    "j=0\n",
    "while(1):\n",
    "    for i in range(0,len(string)-len(unique_string) + 1 - j):\n",
    "        check_string = string[i:unique_string_len + i+j]\n",
    "        check_val = check_match(check_string)\n",
    "\n",
    "        if check_val == True:\n",
    "            print(listToString(check_string))\n",
    "            break\n",
    "        else:\n",
    "            pass\n",
    "        pass\n",
    "    if check_val == False:\n",
    "        j = j + 1\n",
    "    else:\n",
    "        break"
   ]
  },
  {
   "cell_type": "markdown",
   "metadata": {},
   "source": [
    "Q17. Write the Python program to count number of substrings from a given string of lowercase alphabets with exactly k distinct (given) characters?\n",
    "\n",
    "Input a string (lowercase alphabets): wolf \n",
    "Input k: 4 \n",
    "Number of substrings with exactly 4 distinct characters: 1"
   ]
  },
  {
   "cell_type": "code",
   "execution_count": 30,
   "metadata": {},
   "outputs": [
    {
     "name": "stdout",
     "output_type": "stream",
     "text": [
      "Enter the string : wolf\n",
      "enter the k value : 4\n",
      "Number of substrings with exactly 4 distinct characters :  1\n"
     ]
    }
   ],
   "source": [
    "from itertools import combinations\n",
    "s=input(\"Enter the string : \")\n",
    "k=int(input(\"enter the k value : \"))\n",
    "comb=combinations(s,k)\n",
    "a=0\n",
    "for i in list(comb):\n",
    "    a=a+1\n",
    "\n",
    "    \n",
    "print(\"Number of substrings with exactly \"+str(k)+\" distinct characters : \",a)"
   ]
  },
  {
   "cell_type": "markdown",
   "metadata": {},
   "source": [
    "Q18. Write the Python program to count number of non-empty substrings of the given string?\n",
    "Input a string: w3resource\n",
    "Number of substrings: 55"
   ]
  },
  {
   "cell_type": "code",
   "execution_count": 32,
   "metadata": {},
   "outputs": [
    {
     "name": "stdout",
     "output_type": "stream",
     "text": [
      "Enter the string : w3resource\n",
      "Number of substrings:  55\n"
     ]
    }
   ],
   "source": [
    "\n",
    "s=input(\"Enter the string : \")\n",
    "a1=len(s)\n",
    "print(\"Number of substrings: \",int((a1*(a1+1))/2))"
   ]
  },
  {
   "cell_type": "markdown",
   "metadata": {},
   "source": [
    "Q19. Write the Python program to count number of substrings with same first and last characters of the given string?\n",
    "Input a string: abcd \n",
    "4"
   ]
  },
  {
   "cell_type": "code",
   "execution_count": 33,
   "metadata": {},
   "outputs": [
    {
     "name": "stdout",
     "output_type": "stream",
     "text": [
      "4\n"
     ]
    }
   ],
   "source": [
    "s='abcd'\n",
    "count=0\n",
    "for i in range(len(s)):\n",
    "    for j in range(i,len(s)):\n",
    "        if (s[i]==s[j]):\n",
    "            count=count+1\n",
    "            \n",
    "            \n",
    "\n",
    "print(count)"
   ]
  },
  {
   "cell_type": "markdown",
   "metadata": {},
   "source": [
    "Q20. Write the Python program to count the number of strings where the string length is 2 or more,\n",
    "and first and last character are same from a given list of strings.\n",
    "Sample List : ['abc', 'xyz', 'wxw', '1331'] \n",
    "Expected Result: 2"
   ]
  },
  {
   "cell_type": "code",
   "execution_count": 34,
   "metadata": {},
   "outputs": [
    {
     "name": "stdout",
     "output_type": "stream",
     "text": [
      "2\n"
     ]
    }
   ],
   "source": [
    "list1=['abc','xyz','wxw','1331']\n",
    "count=0\n",
    "for i in list1:\n",
    "    if(i[0]==i[-1]):\n",
    "        count=count+1\n",
    "        \n",
    "        \n",
    "\n",
    "print(count)"
   ]
  },
  {
   "cell_type": "markdown",
   "metadata": {},
   "source": [
    "Q21. Write the Python program to get a list, sorted in increasing order by the last element in each tuple from the given list of non-empty tuples?\n",
    "Sample List - [ (2, 5), (1, 2), (4, 4), (2, 3), (2, 1) ]\n",
    "Expected Result - [ (2, 1), (1, 2), (2, 3), (4, 4), (2, 5) ]"
   ]
  },
  {
   "cell_type": "code",
   "execution_count": 35,
   "metadata": {},
   "outputs": [
    {
     "name": "stdout",
     "output_type": "stream",
     "text": [
      "[(2, 1), (1, 2), (2, 3), (4, 4), (2, 5)]\n"
     ]
    }
   ],
   "source": [
    "lst3=[(2,5),(1,2),(4,4),(2,3),(2,1)]\n",
    "l=[]\n",
    "k=1\n",
    "\n",
    "for j in range(len(lst3)):\n",
    "    for i in range(len(lst3)):\n",
    "        if lst3[i][1]==k:\n",
    "            l.append(lst3[i])\n",
    "            k=k+1\n",
    "            \n",
    "            \n",
    "print(l)"
   ]
  },
  {
   "cell_type": "markdown",
   "metadata": {},
   "source": [
    "\n",
    "Q22. Write the Python program to remove duplicates from a list? "
   ]
  },
  {
   "cell_type": "code",
   "execution_count": 36,
   "metadata": {},
   "outputs": [
    {
     "name": "stdout",
     "output_type": "stream",
     "text": [
      "[1, 3, 4, 5, 6, 8, 9, 'b', 'a']\n"
     ]
    }
   ],
   "source": [
    "lst2=['a','a',1,1,3,4,5,6,3,4,8,9,'b']\n",
    "b1=list(set(lst2))\n",
    "print(b1)"
   ]
  },
  {
   "cell_type": "markdown",
   "metadata": {},
   "source": [
    "Q23. Write the Python program to find the list of words that are longer than n from a given list of words?"
   ]
  },
  {
   "cell_type": "code",
   "execution_count": 37,
   "metadata": {},
   "outputs": [
    {
     "name": "stdout",
     "output_type": "stream",
     "text": [
      "Enter the n value : 3\n",
      "['abcd', 'abcde', 'abcdef']\n"
     ]
    }
   ],
   "source": [
    "lst2=['a','ab','abc','abcd','abcde','abcdef']\n",
    "n=int(input(\"Enter the n value : \"))\n",
    "c=[]\n",
    "for i in lst2:\n",
    "    if len(i)>n:\n",
    "        c.append(i)\n",
    "        \n",
    "print(c)"
   ]
  },
  {
   "cell_type": "markdown",
   "metadata": {},
   "source": [
    "Q24. Write the Python program to print a specified list after removing the 0th, 4th, and 5th elements?\n",
    "Sample List - ['Red', 'Green', 'White', 'Black', 'Pink', 'Yellow'] \n",
    "Expected Output - ['Green', 'White', 'Black']"
   ]
  },
  {
   "cell_type": "code",
   "execution_count": 43,
   "metadata": {},
   "outputs": [
    {
     "name": "stdout",
     "output_type": "stream",
     "text": [
      "['Green', 'White', 'Black']\n"
     ]
    }
   ],
   "source": [
    "color = ['Red', 'Green', 'White', 'Black', 'Pink', 'Yellow']\n",
    "color = [x for (i,x) in enumerate(color) if i not in (0,4,5)]\n",
    "print(color)"
   ]
  },
  {
   "cell_type": "markdown",
   "metadata": {},
   "source": [
    "Q25. Write the Python program to generate all permutations of a list in Python?"
   ]
  },
  {
   "cell_type": "code",
   "execution_count": 44,
   "metadata": {},
   "outputs": [
    {
     "name": "stdout",
     "output_type": "stream",
     "text": [
      "[('a', 'b', 'c', 'd'), ('a', 'b', 'd', 'c'), ('a', 'c', 'b', 'd'), ('a', 'c', 'd', 'b'), ('a', 'd', 'b', 'c'), ('a', 'd', 'c', 'b'), ('b', 'a', 'c', 'd'), ('b', 'a', 'd', 'c'), ('b', 'c', 'a', 'd'), ('b', 'c', 'd', 'a'), ('b', 'd', 'a', 'c'), ('b', 'd', 'c', 'a'), ('c', 'a', 'b', 'd'), ('c', 'a', 'd', 'b'), ('c', 'b', 'a', 'd'), ('c', 'b', 'd', 'a'), ('c', 'd', 'a', 'b'), ('c', 'd', 'b', 'a'), ('d', 'a', 'b', 'c'), ('d', 'a', 'c', 'b'), ('d', 'b', 'a', 'c'), ('d', 'b', 'c', 'a'), ('d', 'c', 'a', 'b'), ('d', 'c', 'b', 'a')]\n"
     ]
    }
   ],
   "source": [
    "from itertools import permutations\n",
    "s=['a','b','c','d']\n",
    "perm=permutations(s)\n",
    "print(list(perm))"
   ]
  },
  {
   "cell_type": "markdown",
   "metadata": {},
   "source": [
    "Q26. Write the Python program to convert a pair of values into a sorted unique array? \n",
    "Original List- [ (1, 2), (3, 4), (1, 2), (5, 6), (7, 8), (1, 2), (3, 4), (3, 4), (7, 8), (9, 10) ] \n",
    "Sorted Unique Data- [ 1, 2, 3, 4, 5, 6, 7, 8, 9, 10 ]"
   ]
  },
  {
   "cell_type": "code",
   "execution_count": 45,
   "metadata": {},
   "outputs": [
    {
     "name": "stdout",
     "output_type": "stream",
     "text": [
      "[1, 2, 3, 4, 5, 6, 7, 8, 9, 10]\n"
     ]
    }
   ],
   "source": [
    "q=[(1,2),(3,4),(1,2),(5,6),(7,8),(1,2),(3,4),(3,4),(7,8),(9,10)]\n",
    "set1=set()\n",
    "for i in q:\n",
    "    for j in i:\n",
    "        set1.add(j)\n",
    "        \n",
    "        \n",
    "lst4=list(set1)\n",
    "lst4.sort()\n",
    "print(lst4)\n"
   ]
  },
  {
   "cell_type": "markdown",
   "metadata": {},
   "source": [
    "Q27. Write the Python class to convert an integer to a roman numeral?"
   ]
  },
  {
   "cell_type": "code",
   "execution_count": 46,
   "metadata": {},
   "outputs": [
    {
     "name": "stdout",
     "output_type": "stream",
     "text": [
      "I\n",
      "IV\n",
      "V\n",
      "IX\n",
      "X\n",
      "XL\n",
      "L\n",
      "XC\n",
      "C\n",
      "CD\n",
      "D\n",
      "CM\n",
      "M\n"
     ]
    }
   ],
   "source": [
    "class conversion1:\n",
    "    def int_to_roman(self,number):\n",
    "        roman_values=[\"I\", \"IV\", \"V\", \"IX\", \"X\", \"XL\", \"L\", \"XC\", \"C\", \"CD\", \"D\", \"CM\", \"M\"]\n",
    "        num_values=[1, 4, 5, 9, 10, 40, 50, 90,100, 400, 500, 900, 1000]\n",
    "        i=12\n",
    "        while number:\n",
    "            quotient=number//num_values[i]\n",
    "            number%=num_values[i]\n",
    "            \n",
    "            while quotient:\n",
    "                print(roman_values[i],end='')\n",
    "                quotient-=1\n",
    "                \n",
    "            i-=1\n",
    "        print()    \n",
    "        \n",
    "                \n",
    "conversion1().int_to_roman(1)  \n",
    "conversion1().int_to_roman(4)\n",
    "conversion1().int_to_roman(5)\n",
    "conversion1().int_to_roman(9)\n",
    "conversion1().int_to_roman(10)\n",
    "conversion1().int_to_roman(40)\n",
    "conversion1().int_to_roman(50)\n",
    "conversion1().int_to_roman(90)\n",
    "conversion1().int_to_roman(100)\n",
    "conversion1().int_to_roman(400)\n",
    "conversion1().int_to_roman(500)\n",
    "conversion1().int_to_roman(900)\n",
    "conversion1().int_to_roman(1000)"
   ]
  },
  {
   "cell_type": "markdown",
   "metadata": {},
   "source": [
    "Q28 Write the Python class to convert a Roman numeral to an integer?"
   ]
  },
  {
   "cell_type": "code",
   "execution_count": 47,
   "metadata": {},
   "outputs": [
    {
     "name": "stdout",
     "output_type": "stream",
     "text": [
      "1\n",
      "4\n",
      "5\n",
      "9\n",
      "10\n",
      "40\n",
      "50\n",
      "90\n",
      "100\n",
      "400\n",
      "500\n",
      "900\n",
      "1000\n"
     ]
    }
   ],
   "source": [
    "class conversion:\n",
    "    def roman_to_int(self, s):\n",
    "        rom_value = {'I': 1, 'V': 5, 'X': 10, 'L': 50, 'C': 100, 'D': 500, 'M': 1000}\n",
    "        res=0\n",
    "        for i in range(len(s)):\n",
    "            if(i>0 and rom_value[s[i]]>rom_value[s[i-1]]):\n",
    "                res=res+rom_value[s[i]]-2*rom_value[s[i-1]]\n",
    "            else:\n",
    "                res=res+rom_value[s[i]]\n",
    "                \n",
    "        return res\n",
    "                \n",
    "        \n",
    "print(conversion().roman_to_int('I'))\n",
    "print(conversion().roman_to_int('IV'))\n",
    "print(conversion().roman_to_int('V'))\n",
    "print(conversion().roman_to_int('IX'))\n",
    "print(conversion().roman_to_int('X'))\n",
    "print(conversion().roman_to_int('XL'))\n",
    "print(conversion().roman_to_int('L'))\n",
    "print(conversion().roman_to_int('XC'))\n",
    "print(conversion().roman_to_int('C'))\n",
    "print(conversion().roman_to_int('CD'))\n",
    "print(conversion().roman_to_int('D'))\n",
    "print(conversion().roman_to_int('CM'))\n",
    "print(conversion().roman_to_int('M'))"
   ]
  },
  {
   "cell_type": "markdown",
   "metadata": {},
   "source": [
    "Q29. Write the Python class to find the validity of the string of the parentheses,\n",
    "'(', ')', '{', '}', '[' and '] and the brackets must be closed in the correct order, \n",
    "example - \"()\" and \"()[]{}\" are valid but \"[)\", \"({[)]\" and \"{{{\" are invalid."
   ]
  },
  {
   "cell_type": "code",
   "execution_count": 48,
   "metadata": {},
   "outputs": [
    {
     "name": "stdout",
     "output_type": "stream",
     "text": [
      "True\n",
      "True\n",
      "False\n",
      "False\n",
      "False\n"
     ]
    }
   ],
   "source": [
    "\n",
    "class validity:\n",
    "    def val_brackets(self ,s):\n",
    "        brackets={\")\":\"(\",\"}\":\"{\",\"]\":\"[\"}\n",
    "        stack=[]\n",
    "        for i in s:\n",
    "            if i in brackets:\n",
    "                top=stack.pop() if stack else '#'\n",
    "                if brackets[i]!=top:\n",
    "                    return False\n",
    "            \n",
    "            else:\n",
    "                stack.append(i)\n",
    "            \n",
    "        return not stack\n",
    "\n",
    "\n",
    "print(validity().val_brackets(\"(){}[]\"))\n",
    "print(validity().val_brackets(\"()\"))\n",
    "print(validity().val_brackets(\"[)\"))\n",
    "print(validity().val_brackets(\"({[)]\"))\n",
    "print(validity().val_brackets(\"{{{\"))"
   ]
  },
  {
   "cell_type": "markdown",
   "metadata": {},
   "source": [
    "Q30. Write the Python class to get all possible unique subsets from a set of distinct integers?\n",
    "Input - [4, 5, 6] \n",
    "Output - [[], [6], [5], [5, 6], [4], [4, 6], [4, 5], [4, 5, 6]]"
   ]
  },
  {
   "cell_type": "code",
   "execution_count": 49,
   "metadata": {},
   "outputs": [
    {
     "name": "stdout",
     "output_type": "stream",
     "text": [
      "[[], [4], [5], [6], [4, 5], [4, 6], [5, 6], [4, 5, 6]]\n"
     ]
    }
   ],
   "source": [
    "from itertools import combinations\n",
    "\n",
    "class subset_integers:\n",
    "    \n",
    "    def func(self,lst):\n",
    "        l=[]\n",
    "        for i in range(len(lst)+1):\n",
    "            comb2=combinations(lst,i)\n",
    "            for j in list(comb2):\n",
    "                l.append(list(j))\n",
    "                \n",
    "        return l\n",
    "    \n",
    "    \n",
    "    \n",
    "input_list=[4,5,6]\n",
    "print(subset_integers().func(input_list))\n"
   ]
  },
  {
   "cell_type": "markdown",
   "metadata": {},
   "source": [
    "Q31. Write the Python class to find a pair of elements (indices of the two numbers) from a given array whose sum equals the specific target number?\n",
    "Input: numbers- [10,20,10,40,50,60,70], target=50 \n",
    "Output- 3, 4"
   ]
  },
  {
   "cell_type": "code",
   "execution_count": 50,
   "metadata": {},
   "outputs": [
    {
     "name": "stdout",
     "output_type": "stream",
     "text": [
      "3,4\n"
     ]
    }
   ],
   "source": [
    "class A:\n",
    "    def find_pair(self,lst,target):\n",
    "        for i in range(len(lst)-1):\n",
    "            if lst[i]+lst[i+1]==target:\n",
    "                print(str(i+1)+\",\"+str(i+2))\n",
    "                \n",
    "                \n",
    "lst=[10,20,10,40,50,60,70]\n",
    "target=50\n",
    "A().find_pair(lst,target)"
   ]
  },
  {
   "cell_type": "markdown",
   "metadata": {},
   "source": [
    "Q32. Write the Python class to find the three elements that sum to zero from the set of n real numbers?\n",
    "Input array- [-25, -10, -7, -3, 2, 4, 8, 10]\n",
    "Output - [[-10, 2, 8], [-7, -3, 10]]"
   ]
  },
  {
   "cell_type": "code",
   "execution_count": 51,
   "metadata": {},
   "outputs": [
    {
     "name": "stdout",
     "output_type": "stream",
     "text": [
      "[[-10, 2, 8], [-7, -3, 10]]\n"
     ]
    }
   ],
   "source": [
    "\n",
    "class B:\n",
    "    def sum_zero(self,lst):\n",
    "        l=[]\n",
    "        for i in range(0,len(lst)-2):\n",
    "            for j in range(i+1,len(lst)-1):\n",
    "                for k in range(j+1,len(lst)):\n",
    "                    if lst[i]+lst[j]+lst[k]==0:\n",
    "                        l.append([lst[i],lst[j],lst[k]])\n",
    "                        \n",
    "        return l\n",
    "    \n",
    "lst=[-25,-10,-7,-3,2,4,8,10]\n",
    "print(B().sum_zero(lst))"
   ]
  },
  {
   "cell_type": "markdown",
   "metadata": {},
   "source": [
    "Q33. Write the Python class to implement pow(x, n)?"
   ]
  },
  {
   "cell_type": "code",
   "execution_count": 52,
   "metadata": {},
   "outputs": [
    {
     "name": "stdout",
     "output_type": "stream",
     "text": [
      "enter the base : 10\n",
      "enter the power : 2\n",
      "100\n"
     ]
    }
   ],
   "source": [
    "class C:\n",
    "    def my_pow(self,x,n):\n",
    "        return a**b\n",
    "    \n",
    "    \n",
    "a=int(input(\"enter the base : \"))\n",
    "b=int(input(\"enter the power : \"))\n",
    "print(C().my_pow(a,b))"
   ]
  },
  {
   "cell_type": "markdown",
   "metadata": {},
   "source": [
    " Q34. Write the Python class which has two methods get_String and print_String. \n",
    " get_String accept the string from the user and print_String print the string in upper case."
   ]
  },
  {
   "cell_type": "code",
   "execution_count": 53,
   "metadata": {},
   "outputs": [
    {
     "name": "stdout",
     "output_type": "stream",
     "text": [
      "Enter the string : machine\n",
      "MACHINE\n"
     ]
    }
   ],
   "source": [
    "\n",
    "class string:\n",
    "    \n",
    "    def get_String(self):\n",
    "        a=input(\"Enter the string : \")\n",
    "        return a\n",
    "    \n",
    "    def print_String(self,s):\n",
    "        print(s.upper())\n",
    "        \n",
    "        \n",
    "b=string().get_String()\n",
    "string().print_String(b)\n"
   ]
  },
  {
   "cell_type": "markdown",
   "metadata": {},
   "source": [
    "Q35. Write the Python class named Rectangle constructed by a length and width and the method which will compute the area of the rectangle?"
   ]
  },
  {
   "cell_type": "code",
   "execution_count": 54,
   "metadata": {},
   "outputs": [
    {
     "name": "stdout",
     "output_type": "stream",
     "text": [
      "enter the length : 12\n",
      "enter the width : 7\n",
      "Area of the Rectangle is :  84.0\n"
     ]
    }
   ],
   "source": [
    "class Rectangle:\n",
    "    \n",
    "    def __init__(self,length,width):\n",
    "        self.length=length\n",
    "        self.width=width\n",
    "        \n",
    "        \n",
    "    def calculate_area(self,length,width):\n",
    "        return length*width\n",
    "    \n",
    "    \n",
    "length=float(input(\"enter the length : \"))\n",
    "width=float(input(\"enter the width : \"))\n",
    "print(\"Area of the Rectangle is : \",Rectangle(length,width).calculate_area(length,width))\n"
   ]
  },
  {
   "cell_type": "markdown",
   "metadata": {},
   "source": [
    "Q36. Write the Python class named Circle constructed by the radius and two methods which will compute the area and perimeter of the circle?"
   ]
  },
  {
   "cell_type": "code",
   "execution_count": 55,
   "metadata": {},
   "outputs": [
    {
     "name": "stdout",
     "output_type": "stream",
     "text": [
      "enter the radius : 14\n",
      "Perimeter of the Circle is :  87.96459430051421\n",
      "Area of the Circle is :  615.7521601035994\n"
     ]
    }
   ],
   "source": [
    "\n",
    "from math import pi\n",
    "class Circle:\n",
    "    \n",
    "    def __init__(self,radius):\n",
    "        self.radius=radius\n",
    "        \n",
    "        \n",
    "    def calculate_perimeter(self,radius):\n",
    "        return 2*pi*(self.radius)\n",
    "        \n",
    "        \n",
    "    def calculate_area(self,radius):\n",
    "        return pi*(self.radius**2)\n",
    "    \n",
    "    \n",
    "radius=float(input(\"enter the radius : \"))\n",
    "print(\"Perimeter of the Circle is : \",Circle(radius).calculate_perimeter(radius))\n",
    "print(\"Area of the Circle is : \",Circle(radius).calculate_area(radius))"
   ]
  },
  {
   "cell_type": "markdown",
   "metadata": {},
   "source": [
    "Q37. Write the Python program to get the class name of an instance in Python? "
   ]
  },
  {
   "cell_type": "code",
   "execution_count": 56,
   "metadata": {},
   "outputs": [
    {
     "data": {
      "text/plain": [
       "'A'"
      ]
     },
     "execution_count": 56,
     "metadata": {},
     "output_type": "execute_result"
    }
   ],
   "source": [
    "\n",
    "class A:\n",
    "    \n",
    "    \n",
    "    def simple(self):\n",
    "        pass\n",
    "    \n",
    "    \n",
    "s=A()\n",
    "s.__class__.__name__"
   ]
  },
  {
   "cell_type": "markdown",
   "metadata": {},
   "source": [
    "Q38. Write the Python program to count the number of students of individual class?\n",
    "Sample data- classes = ( ('V', 1), ('VI', 1), ('V', 2), ('VI', 2), ('VI', 3), ('VII', 1), ) \n",
    "Expected Output- Counter({'VI': 3, 'V': 2, 'VII': 1})"
   ]
  },
  {
   "cell_type": "code",
   "execution_count": 57,
   "metadata": {},
   "outputs": [
    {
     "name": "stdout",
     "output_type": "stream",
     "text": [
      "Counter({'VI': 3, 'V': 2, 'VII': 1})\n"
     ]
    }
   ],
   "source": [
    "from collections import Counter\n",
    "classes=(('V',1),('VI',1),('V',2),('VI',2),('VI',3),('VII',1))\n",
    "students=Counter(class_name for class_name,no_students in classes)\n",
    "print(students)\n"
   ]
  },
  {
   "cell_type": "markdown",
   "metadata": {},
   "source": [
    "Q39. Write the Python program to create an instance of an OrderedDict using the given dictionary and sort dictionary during the creation and print members of the dictionary in reverse order?\n",
    "Expected Output-\n",
    "\n",
    "Angola 244. \n",
    "Andorra 376. \n",
    "Algeria 213. \n",
    "Afghanistan 93. \n",
    "Albania 355.\n",
    "In reverse order- \n",
    "\n",
    "Albania 355. \n",
    "Afghanistan 93.\n",
    "Algeria 213. \n",
    "Andorra 376.\n",
    "Angola 244."
   ]
  },
  {
   "cell_type": "code",
   "execution_count": 58,
   "metadata": {},
   "outputs": [
    {
     "name": "stdout",
     "output_type": "stream",
     "text": [
      "Angola 244\n",
      "Andorra 376\n",
      "Algeria 213\n",
      "Afghanistan 93\n",
      "Albania 355\n",
      "\n",
      "In reverse order :\n",
      "Albania 355\n",
      "Afghanistan 93\n",
      "Algeria 213\n",
      "Andorra 376\n",
      "Angola 244\n"
     ]
    }
   ],
   "source": [
    "from collections import OrderedDict\n",
    "dict={\"Angola\":244,\"Andorra\":376,\"Algeria\":213,\"Afghanistan\":93,\"Albania\":355}\n",
    "new_dict=OrderedDict(dict.items())\n",
    "for key in new_dict:\n",
    "    print(key,new_dict[key])\n",
    "    \n",
    "print(\"\\nIn reverse order :\")\n",
    "for key in reversed(new_dict):\n",
    "    print(key,new_dict[key])"
   ]
  },
  {
   "cell_type": "markdown",
   "metadata": {},
   "source": [
    "Q40. Write the Python program to compare two unordered lists (not sets)?\n",
    "Expected Output: False"
   ]
  },
  {
   "cell_type": "code",
   "execution_count": 59,
   "metadata": {},
   "outputs": [
    {
     "name": "stdout",
     "output_type": "stream",
     "text": [
      "False\n"
     ]
    }
   ],
   "source": [
    "lst1=['a','b','c','d','e']\n",
    "lst2=['e','d','c','b','a']\n",
    "if len(lst1)==len(lst2):\n",
    "    for i in range(len(lst1)):\n",
    "        if lst1.pop()!=lst2.pop():\n",
    "            print(\"False\")\n",
    "            break\n",
    "            \n",
    "else:\n",
    "    print(\"False\")"
   ]
  },
  {
   "cell_type": "markdown",
   "metadata": {},
   "source": [
    "Q41. Write the Python program to get an array buffer information?\n",
    "Expected Output- Array buffer start address in memory and number of elements. (25855056, 2)"
   ]
  },
  {
   "cell_type": "code",
   "execution_count": 60,
   "metadata": {},
   "outputs": [
    {
     "name": "stdout",
     "output_type": "stream",
     "text": [
      "Array buffer start address in memory and number of elements :\n",
      " (2053367120512, 2)\n"
     ]
    }
   ],
   "source": [
    "from array import array\n",
    "a=array('I',(35,45))\n",
    "print(\"Array buffer start address in memory and number of elements :\\n\",a.buffer_info())"
   ]
  },
  {
   "cell_type": "markdown",
   "metadata": {},
   "source": [
    " Q42. Write the Python program to convert an array to an array of machine values and return the bytes representation?\n",
    "Expected Output- Original array- A1: array('i', [1, 2, 3, 4, 5, 6]) \n",
    "Array of bytes: b'010000000200000003000000040000000500000006000000'"
   ]
  },
  {
   "cell_type": "code",
   "execution_count": 61,
   "metadata": {},
   "outputs": [
    {
     "name": "stdout",
     "output_type": "stream",
     "text": [
      "Original array :\n",
      "A1 : array('i', [1, 2, 3, 4, 5, 6])\n",
      "Array of bytes :\n",
      "b'010000000200000003000000040000000500000006000000'\n"
     ]
    }
   ],
   "source": [
    "from array import array\n",
    "import binascii\n",
    "b=array('i',[1,2,3,4,5,6])\n",
    "print(\"Original array :\")\n",
    "print(\"A1 :\",b)\n",
    "bytes_array=b.tobytes()\n",
    "print(\"Array of bytes :\\n\",binascii.hexlify(bytes_array),sep='')"
   ]
  },
  {
   "cell_type": "markdown",
   "metadata": {},
   "source": [
    "Q43. Write the Python program to read a string and interpreting the string as an array of machine values?\n",
    "\n",
    "Expected Output-\n",
    "array1- array('i', [7, 8, 9, 10])\n",
    "Bytes- b'0700000008000000090000000a000000'\n",
    "array2- array('i', [7, 8, 9, 10])"
   ]
  },
  {
   "cell_type": "code",
   "execution_count": 62,
   "metadata": {},
   "outputs": [
    {
     "name": "stdout",
     "output_type": "stream",
     "text": [
      "array1-  array('i', [7, 8, 9, 10])\n",
      "Bytes : b'0700000008000000090000000a000000'\n",
      "array2-  array('i', [7, 8, 9, 10])\n"
     ]
    }
   ],
   "source": [
    "from array import array\n",
    "import binascii\n",
    "array1=array('i',[7,8,9,10])\n",
    "print(\"array1- \",array1)\n",
    "array1_array=array1.tobytes()\n",
    "print(\"Bytes : \",binascii.hexlify(array1_array),sep='')\n",
    "array2=array('i')\n",
    "array2.frombytes(array1_array)\n",
    "print(\"array2- \",array2)"
   ]
  },
  {
   "cell_type": "markdown",
   "metadata": {},
   "source": [
    "Q44. Write the Python program to push three items into the heap and return the smallest item from the heap. Also, return and pop the smallest item from the heap?\n",
    "\n",
    "Expected Output-\n",
    "Items in the heap-\n",
    "('VI', 1). \n",
    "('VII', 3).\n",
    "('VIII', 2)\n",
    "\n",
    "---------------------- \n",
    "The smallest item in the heap:\n",
    "\n",
    "('VI', 1).\n",
    "\n",
    " ----------------------\n",
    "Pop the smallest item in the heap: \n",
    "('VII', 2). \n",
    "('VIII', 3)."
   ]
  },
  {
   "cell_type": "code",
   "execution_count": 63,
   "metadata": {},
   "outputs": [
    {
     "name": "stdout",
     "output_type": "stream",
     "text": [
      "Items in the heap- \n",
      "('VI', 1)\n",
      "('VII', 3)\n",
      "('VIII', 2)\n",
      "---------------------------------------\n",
      "The smallest element in the heap: \n",
      "('VI', 1)\n",
      "---------------------------------------\n",
      "\n",
      "\n",
      "Pop the smallest element in the heap :\n",
      "('VII', 3)\n",
      "('VIII', 2)\n"
     ]
    }
   ],
   "source": [
    "\n",
    "import heapq\n",
    "heap=[]\n",
    "heapq.heappush(heap,('VI',1))\n",
    "heapq.heappush(heap,('VII',3))\n",
    "heapq.heappush(heap,('VIII',2))\n",
    "print(\"Items in the heap- \")\n",
    "for i in heap:\n",
    "    print(i)\n",
    "    \n",
    "print(\"---------------------------------------\")\n",
    "print(\"The smallest element in the heap: \\n\",heap[0],sep='')\n",
    "print(\"---------------------------------------\")\n",
    "print(\"\\n\\nPop the smallest element in the heap :\")\n",
    "heapq.heappop(heap)\n",
    "for i in heap:\n",
    "    print(i)\n"
   ]
  },
  {
   "cell_type": "markdown",
   "metadata": {},
   "source": [
    "Q45. Write the Python program to locate the left insertion point for a specified value in sorted order?\n",
    "Expected Output: 4 2"
   ]
  },
  {
   "cell_type": "code",
   "execution_count": 64,
   "metadata": {},
   "outputs": [
    {
     "name": "stdout",
     "output_type": "stream",
     "text": [
      "1\n",
      "2\n",
      "3\n",
      "4\n"
     ]
    }
   ],
   "source": [
    "import bisect as bs\n",
    "def find_index(lst,element):\n",
    "    i=bs.bisect_left(lst,element)\n",
    "    return i\n",
    "\n",
    "\n",
    "lst=[1,3,5,7]\n",
    "print(find_index(lst,2))\n",
    "print(find_index(lst,4))\n",
    "print(find_index(lst,6))\n",
    "print(find_index(lst,8))"
   ]
  },
  {
   "cell_type": "markdown",
   "metadata": {},
   "source": [
    "Q46. Write the Python program to create the FIFO queue?\n",
    "Expected Output: 0 1 2 3\n"
   ]
  },
  {
   "cell_type": "code",
   "execution_count": 65,
   "metadata": {},
   "outputs": [
    {
     "name": "stdout",
     "output_type": "stream",
     "text": [
      "0 1 2 3 "
     ]
    }
   ],
   "source": [
    "s=\"0123\"\n",
    "queue=[]\n",
    "for i in s:\n",
    "    queue.append(i)\n",
    "    \n",
    "for j in range(0,len(queue)):\n",
    "    print(queue.pop(0),end=' ')\n"
   ]
  },
  {
   "cell_type": "markdown",
   "metadata": {},
   "source": [
    "Q47. Write the Python program to calculate the harmonic sum of n-1. \n",
    "Note: The harmonic sum is the sum of reciprocals of the positive Integers?"
   ]
  },
  {
   "cell_type": "code",
   "execution_count": 66,
   "metadata": {},
   "outputs": [
    {
     "name": "stdout",
     "output_type": "stream",
     "text": [
      "2.7178571428571425\n",
      "1.8333333333333333\n"
     ]
    }
   ],
   "source": [
    "def harmonic_sum(n):\n",
    "    if n<2:\n",
    "        return 1\n",
    "    else:\n",
    "        return 1/n + (harmonic_sum(n-1))\n",
    "    \n",
    "    \n",
    "print(harmonic_sum(8))\n",
    "print(harmonic_sum(3))"
   ]
  },
  {
   "cell_type": "markdown",
   "metadata": {},
   "source": [
    "Q48. Write the NumPy program to create a 2d array with 6 on the border and 0 inside?\n",
    "Expected Output-\n",
    "Original array-\n",
    "[ [6 6 6 6 6] \n",
    "[ 6 6 6 6 6] \n",
    "[ 6 6 6 6 6 ]\n",
    "[ 6 6 6 6 6 ] \n",
    "[ 6 6 6 6 ] ].\n",
    "6 on the border and 0 inside in the array- \n",
    "[[ 6 6 6 6 6]\n",
    "[ 6 0 0 0 6]\n",
    "[ 6 0 0 0 6]\n",
    "[ 6 0 0 0 6]\n",
    "[ 6 6 6 6 6]]."
   ]
  },
  {
   "cell_type": "code",
   "execution_count": 67,
   "metadata": {},
   "outputs": [
    {
     "name": "stdout",
     "output_type": "stream",
     "text": [
      "The original array is :\n",
      " [[6 6 6 6 6]\n",
      " [6 6 6 6 6]\n",
      " [6 6 6 6 6]\n",
      " [6 6 6 6 6]\n",
      " [6 6 6 6 6]]\n",
      "\n",
      "The expected output is :\n",
      " [[6 6 6 6 6]\n",
      " [6 0 0 0 6]\n",
      " [6 0 0 0 6]\n",
      " [6 0 0 0 6]\n",
      " [6 6 6 6 6]]\n"
     ]
    }
   ],
   "source": [
    "import numpy as np\n",
    "a=np.full([5,5],6)\n",
    "print(\"The original array is :\\n\",a)\n",
    "a[1:-1,1:-1]=0\n",
    "print(\"\\nThe expected output is :\\n\",a)\n"
   ]
  },
  {
   "cell_type": "markdown",
   "metadata": {},
   "source": [
    "Q49. Write the NumPy program to create a 8x8 matrix and fill it with the checkerboard pattern?\n",
    "Checkerboard pattern-\n",
    "[[3 9 3 9 3 9 3 9] \n",
    "[9 3 9 3 9 3 9 3] \n",
    "[3 9 3 9 3 9 3 9] \n",
    "[9 3 9 3 9 3 9 3] \n",
    "[3 9 3 9 3 9 3 9] \n",
    "[9 3 9 3 9 3 9 3]\n",
    "[3 9 3 9 3 9 3 9]\n",
    "[9 3 9 3 9 3 9 3]]."
   ]
  },
  {
   "cell_type": "code",
   "execution_count": 68,
   "metadata": {},
   "outputs": [
    {
     "name": "stdout",
     "output_type": "stream",
     "text": [
      "\n",
      " Checkerboard pattern :\n",
      "\n",
      " [[3 9 3 9 3 9 3 9]\n",
      " [9 3 9 3 9 3 9 3]\n",
      " [3 9 3 9 3 9 3 9]\n",
      " [9 3 9 3 9 3 9 3]\n",
      " [3 9 3 9 3 9 3 9]\n",
      " [9 3 9 3 9 3 9 3]\n",
      " [3 9 3 9 3 9 3 9]\n",
      " [9 3 9 3 9 3 9 3]]\n"
     ]
    }
   ],
   "source": [
    "\n",
    "import numpy as np\n",
    "a=np.full([8,8],9)\n",
    "a[::2,::2]=3\n",
    "a[1::2,1::2]=3\n",
    "print(\"\\n Checkerboard pattern :\\n\\n\",a)"
   ]
  },
  {
   "cell_type": "markdown",
   "metadata": {},
   "source": [
    "Q50. Write the NumPy program to create an empty and a full array. \n",
    "Expected Output- \n",
    "[[4.45057637e-308 1.78021527e-306 8.45549797e-307 1.37962049e-306] \n",
    "[1.11260619e-306 1.78010255e-306 9.79054228e-307 4.45057637e-308]\n",
    "[8.45596650e-307 9.34602321e-307 4.94065646e-322 0.00000000e+000]] \n",
    "\n",
    "[[6 6 6]\n",
    "[6 6 6]\n",
    "[6 6 6]]"
   ]
  },
  {
   "cell_type": "code",
   "execution_count": 69,
   "metadata": {},
   "outputs": [
    {
     "name": "stdout",
     "output_type": "stream",
     "text": [
      "\n",
      " Empty array :\n",
      "\n",
      " [[0. 0. 0. 0.]\n",
      " [0. 0. 0. 0.]\n",
      " [0. 0. 0. 0.]]\n",
      "\n",
      " Full array :\n",
      "\n",
      " [[10 10 10 10]\n",
      " [10 10 10 10]\n",
      " [10 10 10 10]\n",
      " [10 10 10 10]]\n"
     ]
    }
   ],
   "source": [
    "import numpy as np\n",
    "a=np.empty([3,4])\n",
    "print(\"\\n Empty array :\\n\\n\",a)\n",
    "b=np.full([4,4],10)\n",
    "print(\"\\n Full array :\\n\\n\",b)"
   ]
  },
  {
   "cell_type": "markdown",
   "metadata": {},
   "source": [
    "Q51. Write the NumPy program to convert the values of Centigrade degrees into the Fahrenheit degrees and the centigrade values are stored in the NumPy array.\n",
    "Sample Array -\n",
    "[0, 12, 45.21 ,34, 99.91] \n",
    "Expected Output- Values in Fahrenheit degrees-\n",
    "[ 0. 12. 45.21 34. 99.91]\n",
    "Values in Centigrade degrees-\n",
    "[-17.77777778 -11.11111111 7.33888889 1.11111111 37.72777778]\n",
    "\n"
   ]
  },
  {
   "cell_type": "code",
   "execution_count": 70,
   "metadata": {},
   "outputs": [
    {
     "name": "stdout",
     "output_type": "stream",
     "text": [
      "Values in Fahrenheit degrees-\n",
      " [ 0.   12.   45.21 34.   99.91]\n",
      "Values in Centrigrade degrees-\n",
      " [-17.77777778 -11.11111111   7.33888889   1.11111111  37.72777778]\n"
     ]
    }
   ],
   "source": [
    "import numpy as np\n",
    "a=np.array([0,12,45.21,34,99.91])\n",
    "b=(a-32)*5/9\n",
    "print(\"Values in Fahrenheit degrees-\\n\",a)\n",
    "print(\"Values in Centrigrade degrees-\\n\",b)"
   ]
  },
  {
   "cell_type": "markdown",
   "metadata": {},
   "source": [
    "Q52. Write the NumPy program to find the real and imaginary parts of an array of complex numbers?\n",
    "Expected Output-\n",
    "Original array [ 1.00000000+0.j 0.70710678+0.70710678j]\n",
    "Real part of the array- [ 1. 0.70710678] \n",
    "Imaginary part of the array- [ 0. 0.70710678]"
   ]
  },
  {
   "cell_type": "code",
   "execution_count": 71,
   "metadata": {},
   "outputs": [
    {
     "name": "stdout",
     "output_type": "stream",
     "text": [
      "Original array\n",
      " [1.        +0.j         0.70710678+0.70710678j]\n",
      "\n",
      "Real part of the array\n",
      " [1.         0.70710678]\n",
      "\n",
      "Imaginary part of the array\n",
      " [0.         0.70710678]\n"
     ]
    }
   ],
   "source": [
    "import numpy as np\n",
    "c=np.array([1.00000000+0.j,0.70710678+0.70710678j])\n",
    "print(\"Original array\\n\",c)\n",
    "print(\"\\nReal part of the array\\n\",c.real)\n",
    "print(\"\\nImaginary part of the array\\n\",c.imag)"
   ]
  },
  {
   "cell_type": "markdown",
   "metadata": {},
   "source": [
    "Q53. Write the NumPy program to test whether each element of a 1-D array is also present in the second array?\n",
    "Expected Output- \n",
    "Array1: [ 0 10 20 40 60]\n",
    "Array2: [0, 40] \n",
    "Compare each element of array1 and array2 [ True False False True False]"
   ]
  },
  {
   "cell_type": "code",
   "execution_count": 72,
   "metadata": {},
   "outputs": [
    {
     "name": "stdout",
     "output_type": "stream",
     "text": [
      "Array1\n",
      " [ 0 10 20 40 60]\n",
      "\n",
      "Array2\n",
      " [10 40]\n",
      "\n",
      "compare each element of array1 and array2\n",
      " [False  True False  True False]\n"
     ]
    }
   ],
   "source": [
    "import numpy as np\n",
    "arr1=np.array([0,10,20,40,60])\n",
    "arr2=np.array([10,40])\n",
    "print(\"Array1\\n\",arr1)\n",
    "print(\"\\nArray2\\n\",arr2)\n",
    "print(\"\\ncompare each element of array1 and array2\\n\",np.in1d(arr1,arr2))"
   ]
  },
  {
   "cell_type": "markdown",
   "metadata": {},
   "source": [
    "Q54. Write the NumPy program to find common values between two arrays? \n",
    "Expected Output-\n",
    "Array1: [ 0 10 20 40 60]\n",
    "Array2: [10, 30, 40]\n",
    "Common values between two arrays- [10 40]\n"
   ]
  },
  {
   "cell_type": "code",
   "execution_count": 73,
   "metadata": {},
   "outputs": [
    {
     "name": "stdout",
     "output_type": "stream",
     "text": [
      "Array1\n",
      " [ 0 10 20 40 60]\n",
      "\n",
      "Array2\n",
      " [10 30 40]\n",
      "\n",
      "common values between two arrays\n",
      " [10 40]\n"
     ]
    }
   ],
   "source": [
    "import numpy as np\n",
    "arr1=np.array([0,10,20,40,60])\n",
    "arr2=np.array([10,30,40])\n",
    "print(\"Array1\\n\",arr1)\n",
    "print(\"\\nArray2\\n\",arr2)\n",
    "print(\"\\ncommon values between two arrays\\n\",np.intersect1d(arr1,arr2))"
   ]
  },
  {
   "cell_type": "markdown",
   "metadata": {},
   "source": [
    "Q55. Write the NumPy program to get the unique elements of an array?\n",
    "Expected Output- \n",
    "Original array- [10 10 20 20 30 30]\n",
    "Unique elements of the above array- [10 20 30]\n",
    "Original array- [[1 1] [2 3]]\n",
    "Unique elements of the above array- [1 2 3] "
   ]
  },
  {
   "cell_type": "code",
   "execution_count": 74,
   "metadata": {},
   "outputs": [
    {
     "name": "stdout",
     "output_type": "stream",
     "text": [
      "Original Array\n",
      " [10 10 20 20 30 30]\n",
      "\n",
      "Unique elements of the above array\n",
      " [10 20 30]\n",
      "\n",
      "Original Array\n",
      " [[1 1]\n",
      " [2 3]]\n",
      "\n",
      "Unique elements of the above array\n",
      " [1 2 3]\n"
     ]
    }
   ],
   "source": [
    "import numpy as np\n",
    "arr1=np.array([10,10,20,20,30,30])\n",
    "arr2=np.array([[1,1],[2,3]])\n",
    "print(\"Original Array\\n\",arr1)\n",
    "print(\"\\nUnique elements of the above array\\n\",np.unique(arr1))\n",
    "print(\"\\nOriginal Array\\n\",arr2)\n",
    "print(\"\\nUnique elements of the above array\\n\",np.unique(arr2))"
   ]
  },
  {
   "cell_type": "markdown",
   "metadata": {},
   "source": [
    "Q56. Write the NumPy program to find the set exclusive-or of two arrays. Set exclusive-or will return the sorted, unique values that are in only one (not both) of the input arrays?\n",
    "Array1- [ 0 10 20 40 60 80]\n",
    "Array2- [10, 30, 40, 50, 70] \n",
    "Unique values that are in only one (not both) of the input arrays- [ 0 20 30 50 60 70 80]"
   ]
  },
  {
   "cell_type": "code",
   "execution_count": 75,
   "metadata": {},
   "outputs": [
    {
     "name": "stdout",
     "output_type": "stream",
     "text": [
      "\n",
      "Array 1\n",
      " [ 0 10 20 40 60 80]\n",
      "\n",
      "Array 2\n",
      " [10 30 40 50 70]\n",
      "\n",
      "Unique values that are in only one (not both) of the input arrays\n",
      " [ 0 20 30 50 60 70 80]\n"
     ]
    }
   ],
   "source": [
    "import numpy as np\n",
    "arr1=np.array([0,10,20,40,60,80])\n",
    "arr2=np.array([10,30,40,50,70])\n",
    "print(\"\\nArray 1\\n\",arr1)\n",
    "print(\"\\nArray 2\\n\",arr2)\n",
    "print(\"\\nUnique values that are in only one (not both) of the input arrays\\n\",np.setxor1d(arr1,arr2))"
   ]
  },
  {
   "cell_type": "markdown",
   "metadata": {},
   "source": [
    "Q57. Write the NumPy program to test if all elements in an array evaluate to True ? Note: 0 evaluates to False in NumPy."
   ]
  },
  {
   "cell_type": "code",
   "execution_count": 76,
   "metadata": {},
   "outputs": [
    {
     "name": "stdout",
     "output_type": "stream",
     "text": [
      "array 1 is:\n",
      " [ 0 10 20 40 60 80]\n",
      "False\n",
      "\n",
      "array 2 is :\n",
      " [20 40 60 80]\n",
      "True\n"
     ]
    }
   ],
   "source": [
    "import numpy as np\n",
    "arr1=np.array([0,10,20,40,60,80])\n",
    "arr2=np.array([20,40,60,80])\n",
    "print(\"array 1 is:\\n\",arr1)\n",
    "print(np.all(arr1))\n",
    "print(\"\\narray 2 is :\\n\",arr2)\n",
    "print(np.all(arr2))"
   ]
  },
  {
   "cell_type": "markdown",
   "metadata": {},
   "source": [
    "Q58 Write the NumPy program to test whether any array element along the given axis evaluates to True?\n",
    "Note: 0 evaluates to False in NumPy."
   ]
  },
  {
   "cell_type": "code",
   "execution_count": 77,
   "metadata": {},
   "outputs": [
    {
     "name": "stdout",
     "output_type": "stream",
     "text": [
      "array 1 is:\n",
      " [ 0 10 20 40 60 80]\n",
      "True\n",
      "\n",
      "array 2 is :\n",
      " [0 0 0 0]\n",
      "False\n"
     ]
    }
   ],
   "source": [
    "import numpy as np\n",
    "arr1=np.array([0,10,20,40,60,80])\n",
    "arr2=np.array([0,0,0,0])\n",
    "print(\"array 1 is:\\n\",arr1)\n",
    "print(np.any(arr1))\n",
    "print(\"\\narray 2 is :\\n\",arr2)\n",
    "print(np.any(arr2))"
   ]
  },
  {
   "cell_type": "markdown",
   "metadata": {},
   "source": [
    " Q59. Write the NumPy program to construct an array by repeating? \n",
    " Sample array- [1, 2, 3, 4]\n",
    " Expected Output- \n",
    " Original array [1, 2, 3, 4]\n",
    " Repeating 2 times [1 2 3 4 1 2 3 4]\n",
    "Repeating 3 times [1 2 3 4 1 2 3 4 1 2 3 4]"
   ]
  },
  {
   "cell_type": "code",
   "execution_count": 78,
   "metadata": {},
   "outputs": [
    {
     "name": "stdout",
     "output_type": "stream",
     "text": [
      "Original array : \n",
      " [1 2 3 4]\n",
      "\n",
      " Repeating 2 times :\n",
      " [1 2 3 4 1 2 3 4]\n",
      "\n",
      " Repeating 3 times :\n",
      " [1 2 3 4 1 2 3 4 1 2 3 4]\n"
     ]
    }
   ],
   "source": [
    "import numpy as np\n",
    "a=np.array([1,2,3,4])\n",
    "print(\"Original array : \\n\",a)\n",
    "print(\"\\n Repeating 2 times :\\n\",np.tile(a,2))\n",
    "print(\"\\n Repeating 3 times :\\n\",np.tile(a,3))"
   ]
  },
  {
   "cell_type": "markdown",
   "metadata": {},
   "source": [
    "Q60. Write the NumPy program to find the indices of the maximum and minimum values with the given axis of an array?\n",
    "Original array-\n",
    "[1 2 3 4 5 6] \n",
    "Maximum Values- 5\n",
    "Minimum Values- 0\n"
   ]
  },
  {
   "cell_type": "code",
   "execution_count": 79,
   "metadata": {},
   "outputs": [
    {
     "name": "stdout",
     "output_type": "stream",
     "text": [
      "Index of maximum value in array\n",
      " 5\n",
      "Index of minimum value in array\n",
      " 0\n"
     ]
    }
   ],
   "source": [
    "import numpy as np\n",
    "arr=[1,2,3,4,5,6]\n",
    "print(\"Index of maximum value in array\\n\",np.argmax(arr))\n",
    "print(\"Index of minimum value in array\\n\",np.argmin(arr))"
   ]
  },
  {
   "cell_type": "markdown",
   "metadata": {},
   "source": [
    "Q61. Write the NumPy program compare two arrays using numpy?\n",
    "Array a- [1 2] \n",
    "Array b- [4 5] \n",
    "a > b [False False] \n",
    "a >= b [False False]\n",
    "a < b [ True True] \n",
    "a <= b [ True True]\n"
   ]
  },
  {
   "cell_type": "code",
   "execution_count": 80,
   "metadata": {},
   "outputs": [
    {
     "name": "stdout",
     "output_type": "stream",
     "text": [
      "a>b\n",
      " [False False]\n",
      "\n",
      "a>=b\n",
      " [False False]\n",
      "\n",
      "a<b\n",
      " [ True  True]\n",
      "\n",
      "a<=b\n",
      " [ True  True]\n"
     ]
    }
   ],
   "source": [
    "import numpy as np\n",
    "a=np.array([1,2])\n",
    "b=np.array([4,5])\n",
    "print(\"a>b\\n\",a>b)\n",
    "print(\"\\na>=b\\n\",a>=b)\n",
    "print(\"\\na<b\\n\",a<b)\n",
    "print(\"\\na<=b\\n\",a<=b)"
   ]
  },
  {
   "cell_type": "markdown",
   "metadata": {},
   "source": [
    "Q62. Write the NumPy program to sort an along the first, last axis of an array? Sample array- [[2,5],[4,4]] Expected Output- Original array: \n",
    "[[4 6] [2 1]] \n",
    "Sort along the first axis: \n",
    "[[2 1] [4 6]]\n",
    "\n",
    "Sort along the last axis-\n",
    "[[1 2] [4 6]]"
   ]
  },
  {
   "cell_type": "code",
   "execution_count": 81,
   "metadata": {},
   "outputs": [
    {
     "name": "stdout",
     "output_type": "stream",
     "text": [
      "Original array :\n",
      " [[4 6]\n",
      " [2 1]]\n",
      "\n",
      "Sort along the first axis :\n",
      " [[2 1]\n",
      " [4 6]]\n",
      "\n",
      "Sort along the last axis :\n",
      " [[1 2]\n",
      " [4 6]]\n"
     ]
    }
   ],
   "source": [
    "import numpy as np\n",
    "a=np.array([[4,6],[2,1]])\n",
    "b=np.sort(a,axis=0)\n",
    "c=np.sort(b,axis=1)\n",
    "print(\"Original array :\\n\",a)\n",
    "print(\"\\nSort along the first axis :\\n\",b)\n",
    "print(\"\\nSort along the last axis :\\n\",c)"
   ]
  },
  {
   "cell_type": "markdown",
   "metadata": {},
   "source": [
    "Q63. Write the NumPy program to sort pairs of first name and last name return their indices (first by last name, then by first name).\n",
    "first_names - ( Betsey, Shelley, Lanell, Genesis, Margery ) \n",
    "last_names - ( Battle, Brien, Plotner, Stahl, Woolum ) \n",
    "Expected Output- [1 3 2 4 0]"
   ]
  },
  {
   "cell_type": "code",
   "execution_count": 82,
   "metadata": {},
   "outputs": [
    {
     "name": "stdout",
     "output_type": "stream",
     "text": [
      "[1 3 2 4 0]\n"
     ]
    }
   ],
   "source": [
    "import numpy as np\n",
    "first_names =    ('Margery', 'Betsey', 'Shelley', 'Lanell', 'Genesis')\n",
    "last_names = ('Woolum', 'Battle', 'Plotner', 'Brien', 'Stahl')\n",
    "a=np.lexsort((first_names,last_names))\n",
    "print(a)"
   ]
  },
  {
   "cell_type": "markdown",
   "metadata": {},
   "source": [
    "Q64. Write the NumPy program to get the values and indices of the elements that are bigger than 10 in the given array?\n",
    "Original array- \n",
    "[[ 0 10 20]\n",
    "[20 30 40]] \n",
    "Values bigger than 10 = [20 20 30 40] \n",
    "Their indices are (array([0, 1, 1, 1]), array([2, 0, 1, 2]))"
   ]
  },
  {
   "cell_type": "code",
   "execution_count": 83,
   "metadata": {},
   "outputs": [
    {
     "name": "stdout",
     "output_type": "stream",
     "text": [
      "original array :\n",
      " [[ 0 10 20]\n",
      " [20 30 40]]\n",
      "\n",
      "values bigger than 10 :\n",
      " [20 20 30 40]\n",
      "\n",
      "Their indices are :\n",
      " (array([0, 1, 1, 1], dtype=int64), array([2, 0, 1, 2], dtype=int64))\n"
     ]
    }
   ],
   "source": [
    "import numpy as np\n",
    "a=np.array([[0,10,20],[20,30,40]])\n",
    "print(\"original array :\\n\",a)\n",
    "print(\"\\nvalues bigger than 10 :\\n\",a[a>10])\n",
    "print(\"\\nTheir indices are :\\n\",np.nonzero(a>10))"
   ]
  },
  {
   "cell_type": "markdown",
   "metadata": {},
   "source": [
    "   \n",
    " Q65. Write the NumPy program to find the memory size of a NumPy array?\n",
    "Expected Output- 128 bytes\n"
   ]
  },
  {
   "cell_type": "code",
   "execution_count": 86,
   "metadata": {},
   "outputs": [
    {
     "name": "stdout",
     "output_type": "stream",
     "text": [
      "Number of bytes occupied is :\n",
      " 128\n"
     ]
    }
   ],
   "source": [
    "import numpy as np\n",
    "a=np.ones((4,4))\n",
    "print(\"Number of bytes occupied is :\\n\",a.size*a.itemsize)\n"
   ]
  },
  {
   "cell_type": "markdown",
   "metadata": {},
   "source": [
    "Q66. Write the NumPy program to create an array of ones and an array of zeros?\n",
    "Expected Output- \n",
    "Create an array of zeros \n",
    "Default type is float [[ 0. 0.]] \n",
    "Type changes to int [[0 0]] \n",
    "Create an array of ones \n",
    "Default type is float [[ 1. 1.]]\n",
    "Type changes to int [[1 1]]"
   ]
  },
  {
   "cell_type": "code",
   "execution_count": 87,
   "metadata": {},
   "outputs": [
    {
     "name": "stdout",
     "output_type": "stream",
     "text": [
      "create an array of  zeros\n",
      "\n",
      "Default type is float :\n",
      " [[0. 0. 0. 0.]\n",
      " [0. 0. 0. 0.]\n",
      " [0. 0. 0. 0.]\n",
      " [0. 0. 0. 0.]]\n",
      "\n",
      "Type changes to int :\n",
      " [[0 0 0 0]\n",
      " [0 0 0 0]\n",
      " [0 0 0 0]\n",
      " [0 0 0 0]]\n",
      "\n",
      "create an array of  ones\n",
      "\n",
      "Default type is float :\n",
      " [[1. 1. 1. 1.]\n",
      " [1. 1. 1. 1.]\n",
      " [1. 1. 1. 1.]\n",
      " [1. 1. 1. 1.]]\n",
      "\n",
      "Type changes to int :\n",
      " [[1 1 1 1]\n",
      " [1 1 1 1]\n",
      " [1 1 1 1]\n",
      " [1 1 1 1]]\n"
     ]
    }
   ],
   "source": [
    "import numpy as np\n",
    "print(\"create an array of  zeros\")\n",
    "print(\"\\nDefault type is float :\\n\",np.zeros((4,4)))\n",
    "print(\"\\nType changes to int :\\n\",np.zeros((4,4),dtype=\"int\"))\n",
    "print(\"\\ncreate an array of  ones\")\n",
    "print(\"\\nDefault type is float :\\n\",np.ones((4,4)))\n",
    "print(\"\\nType changes to int :\\n\",np.ones((4,4),dtype=\"int\"))"
   ]
  },
  {
   "cell_type": "markdown",
   "metadata": {},
   "source": [
    "Q67. Write the NumPy program to change the dimension of an array?\n",
    "Expected Output- \n",
    "6 rows and 0 columns\n",
    "(6,) \n",
    "(3, 3) -> 3 rows and 3 columns\n",
    "[[1 2 3]\n",
    "[4 5 6] \n",
    "[7 8 9]] \n",
    "Change array shape to (3, 3) -> 3 rows and 3 columns \n",
    "[[1 2 3]\n",
    "[4 5 6] \n",
    "[7 8 9]]"
   ]
  },
  {
   "cell_type": "code",
   "execution_count": 88,
   "metadata": {},
   "outputs": [
    {
     "name": "stdout",
     "output_type": "stream",
     "text": [
      "6 rows and 0 columns\n",
      "(6,)\n",
      "\n",
      "(3,3) -> 3 rows and 3 columns\n",
      "  [[1 2 3]\n",
      " [4 5 6]\n",
      " [7 8 9]]\n",
      "\n",
      "change array shape to (3,3) -> 3 rows and 3 columns\n",
      "  [[1 2 3]\n",
      " [4 5 6]\n",
      " [7 8 9]]\n"
     ]
    }
   ],
   "source": [
    "import numpy as np\n",
    "arr=np.array([1,2,3,4,5,6])\n",
    "print(\"6 rows and 0 columns\")\n",
    "print(arr.shape)\n",
    "arr1=np.array([[1,2,3],[4,5,6],[7,8,9]])\n",
    "print(\"\\n(3,3) -> 3 rows and 3 columns\\n \",arr1)\n",
    "arr2=np.array([1,2,3,4,5,6,7,8,9])\n",
    "print(\"\\nchange array shape to (3,3) -> 3 rows and 3 columns\\n \",arr2.reshape(3,3))"
   ]
  },
  {
   "cell_type": "markdown",
   "metadata": {},
   "source": [
    "Q68. Write the NumPy program to create a new shape to an array without changing its data ?\n",
    "Reshape 3x2-\n",
    "[[1 2] \n",
    "[3 4] \n",
    "[5 6]] \n",
    "Reshape 2x3- \n",
    "[[1 2 3]\n",
    "[4 5 6]]"
   ]
  },
  {
   "cell_type": "code",
   "execution_count": 89,
   "metadata": {},
   "outputs": [
    {
     "name": "stdout",
     "output_type": "stream",
     "text": [
      "Reshape 3*2\n",
      "  [[1 2]\n",
      " [3 4]\n",
      " [5 6]]\n",
      "\n",
      "Reshape 2*3\n",
      "  [[1 2 3]\n",
      " [4 5 6]]\n"
     ]
    }
   ],
   "source": [
    "import numpy as np\n",
    "arr=np.array([1,2,3,4,5,6])\n",
    "print(\"Reshape 3*2\\n \",arr.reshape(3,2))\n",
    "print(\"\\nReshape 2*3\\n \",arr.reshape(2,3))"
   ]
  },
  {
   "cell_type": "markdown",
   "metadata": {},
   "source": [
    "Q69. Write the NumPy program to create a new array of 3*5, filled with 2?\n",
    "\n",
    "Expected Output-\n",
    "[[2 2 2 2 2]\n",
    "[2 2 2 2 2]\n",
    "[2 2 2 2 2]] \n"
   ]
  },
  {
   "cell_type": "code",
   "execution_count": 90,
   "metadata": {},
   "outputs": [
    {
     "name": "stdout",
     "output_type": "stream",
     "text": [
      "[[2 2 2 2 2]\n",
      " [2 2 2 2 2]\n",
      " [2 2 2 2 2]]\n"
     ]
    }
   ],
   "source": [
    "\n",
    "import numpy as np\n",
    "arr=np.full((3,5),2)\n",
    "print(arr)"
   ]
  },
  {
   "cell_type": "markdown",
   "metadata": {},
   "source": [
    "Q70. Write the NumPy program to create a 3-D array with ones on a diagonal and zeros elsewhere?\n",
    "Expected Output-\n",
    "[[ 1. 0. 0.]\n",
    "[ 0. 1. 0.] \n",
    "[ 0. 0. 1.]] "
   ]
  },
  {
   "cell_type": "code",
   "execution_count": 91,
   "metadata": {},
   "outputs": [
    {
     "name": "stdout",
     "output_type": "stream",
     "text": [
      "[[1. 0. 0.]\n",
      " [0. 1. 0.]\n",
      " [0. 0. 1.]]\n"
     ]
    }
   ],
   "source": [
    "\n",
    "import numpy as np\n",
    "arr=np.eye(3)\n",
    "print(arr)"
   ]
  },
  {
   "cell_type": "markdown",
   "metadata": {},
   "source": [
    "Q71. Write the NumPy program to split an array of 14 elements into the 3 arrays and each of which has 2, 4, and 8 elements in original order?\n",
    "Expected Output- Original array- [ 1 2 3 4 5 6 7 8 9 10 11 12 13 14] \n",
    "After splitting- [array([1, 2]), array([3, 4, 5, 6]), array([ 7, 8, 9, 10, 11, 12, 13, 14])] "
   ]
  },
  {
   "cell_type": "code",
   "execution_count": 92,
   "metadata": {},
   "outputs": [
    {
     "name": "stdout",
     "output_type": "stream",
     "text": [
      "Original array :\n",
      " [ 1  2  3  4  5  6  7  8  9 10 11 12 13 14]\n",
      "\n",
      "After splitting the array :\n",
      " [array([1, 2]), array([3, 4, 5, 6]), array([ 7,  8,  9, 10, 11, 12, 13, 14])]\n"
     ]
    }
   ],
   "source": [
    "import numpy as np\n",
    "arr=np.array([1,2,3,4,5,6,7,8,9,10,11,12,13,14])\n",
    "print(\"Original array :\\n\",arr)\n",
    "print(\"\\nAfter splitting the array :\\n\",np.split(arr,[2,6]))"
   ]
  },
  {
   "cell_type": "markdown",
   "metadata": {},
   "source": [
    "Q72. Write the NumPy program to split of an array of shape 4x4 it into two arrays along the second axis ?\n",
    "Sample array - \n",
    "[[ 0 1 2 3] \n",
    "[ 4 5 6 7]\n",
    "[ 8 9 10 11]\n",
    "[12 13 14 15]]\n",
    "Expected Output-\n",
    "[array([[ 0, 1],\n",
    "[ 4, 5], \n",
    "[ 8, 9], \n",
    "[12, 13]]), array([[ 2, 3],\n",
    " [ 6, 7],\n",
    " [10, 11], \n",
    " [14, 15]]), array([], shape=(4, 0), dtype=int64)]\n"
   ]
  },
  {
   "cell_type": "code",
   "execution_count": 93,
   "metadata": {},
   "outputs": [
    {
     "name": "stdout",
     "output_type": "stream",
     "text": [
      "Original array :\n",
      " [[ 0  1  2  3]\n",
      " [ 4  5  6  7]\n",
      " [ 8  9 10 11]\n",
      " [12 13 14 15]]\n",
      "\n",
      "After splitting the array :\n",
      " [array([[ 0,  1],\n",
      "       [ 4,  5],\n",
      "       [ 8,  9],\n",
      "       [12, 13]]), array([[ 2,  3],\n",
      "       [ 6,  7],\n",
      "       [10, 11],\n",
      "       [14, 15]]), array([], shape=(4, 0), dtype=int32)]\n"
     ]
    }
   ],
   "source": [
    "import numpy as np\n",
    "arr=np.arange(16).reshape(4,4)\n",
    "\n",
    "print(\"Original array :\\n\",arr)\n",
    "print(\"\\nAfter splitting the array :\\n\",np.hsplit(arr,[2,4]))"
   ]
  },
  {
   "cell_type": "markdown",
   "metadata": {},
   "source": [
    "Q73. Write the NumPy program to create a 5x5 matrix with row values ranging from 0 to 4?\n",
    "Original array-\n",
    "[[ 0. 0. 0. 0. 0.]\n",
    "[ 0. 0. 0. 0. 0.]\n",
    "[ 0. 0. 0. 0. 0.]\n",
    "[ 0. 0. 0. 0. 0.]\n",
    "[ 0. 0. 0. 0. 0.]]\n",
    "\n",
    "Row values ranging from 0 to 4.\n",
    "[[ 0. 1. 2. 3. 4.]\n",
    "[ 0. 1. 2. 3. 4.] \n",
    "[ 0. 1. 2. 3. 4.]\n",
    "[ 0. 1. 2. 3. 4.] \n",
    "[ 0. 1. 2. 3. 4.]]\n"
   ]
  },
  {
   "cell_type": "code",
   "execution_count": 94,
   "metadata": {},
   "outputs": [
    {
     "name": "stdout",
     "output_type": "stream",
     "text": [
      "Original array-\n",
      " [[0. 0. 0. 0. 0.]\n",
      " [0. 0. 0. 0. 0.]\n",
      " [0. 0. 0. 0. 0.]\n",
      " [0. 0. 0. 0. 0.]\n",
      " [0. 0. 0. 0. 0.]]\n",
      "\n",
      " Row values ranging from 0 to 4.\n",
      " [[0. 1. 2. 3. 4.]\n",
      " [0. 1. 2. 3. 4.]\n",
      " [0. 1. 2. 3. 4.]\n",
      " [0. 1. 2. 3. 4.]\n",
      " [0. 1. 2. 3. 4.]]\n"
     ]
    }
   ],
   "source": [
    "import numpy as np\n",
    "arr=np.zeros((5,5))\n",
    "print(\"Original array-\\n\",arr)\n",
    "arr+=np.arange(0,5)\n",
    "print(\"\\n Row values ranging from 0 to 4.\\n\",arr)"
   ]
  },
  {
   "cell_type": "markdown",
   "metadata": {},
   "source": [
    "Q74. Write the NumPy program to create an array of zeros and three column types (integer, float, character)?\n",
    "Expected Output- [(1, 2., b'Albert Einstein') (2, 2., b'Edmond Halley') (3, 3., b'Gertrude B. Elion')]\n"
   ]
  },
  {
   "cell_type": "code",
   "execution_count": 95,
   "metadata": {},
   "outputs": [
    {
     "name": "stdout",
     "output_type": "stream",
     "text": [
      "[(1, 2., b'Albert Einstein') (2, 2., b'Edmond Halley')\n",
      " (3, 3., b'Gertrude B. Elion')]\n"
     ]
    }
   ],
   "source": [
    "\n",
    "import numpy as np\n",
    "x = np.zeros(3, dtype=('i4,f4,a40'))\n",
    "new_data = [(1, 2., \"Albert Einstein\"), (2, 2., \"Edmond Halley\"), (3, 3., \"Gertrude B. Elion\")]\n",
    "x[:] = new_data\n",
    "print(x)"
   ]
  },
  {
   "cell_type": "markdown",
   "metadata": {},
   "source": [
    "Q75. Write the NumPy program to remove the negative values in the numpy array with 0?\n",
    "Expected Output- \n",
    "Original array: [-1 -4 0 2 3 4 5 -6]\n",
    "Replace the negative values of the said array with 0-\n",
    "[0 0 0 2 3 4 5 0]\n"
   ]
  },
  {
   "cell_type": "code",
   "execution_count": 96,
   "metadata": {},
   "outputs": [
    {
     "name": "stdout",
     "output_type": "stream",
     "text": [
      "original array :\n",
      " [-1 -4  0  2  3  4  5 -6]\n",
      "Replace the negative values of the array with 0:\n",
      " [0 0 0 2 3 4 5 0]\n"
     ]
    }
   ],
   "source": [
    "import numpy as np\n",
    "arr=np.array([-1,-4,0,2,3,4,5,-6])\n",
    "print(\"original array :\\n\",arr)\n",
    "arr[arr<0]=0\n",
    "print(\"Replace the negative values of the array with 0:\\n\",arr)"
   ]
  },
  {
   "cell_type": "markdown",
   "metadata": {},
   "source": [
    "Q76. Write the NumPy program to compute the histogram of a set of data? "
   ]
  },
  {
   "cell_type": "code",
   "execution_count": 97,
   "metadata": {},
   "outputs": [
    {
     "data": {
      "image/png": "[encoded data removed]",
      "text/plain": [
       "<Figure size 432x288 with 1 Axes>"
      ]
     },
     "metadata": {
      "needs_background": "light"
     },
     "output_type": "display_data"
    }
   ],
   "source": [
    "import numpy as np\n",
    "import pandas as pd\n",
    "import matplotlib.pyplot as plt\n",
    "plt.hist([1, 2, 1], bins=np.arange(0,6))\n",
    "plt.show()"
   ]
  },
  {
   "cell_type": "markdown",
   "metadata": {},
   "source": [
    "Q77. Write the NumPy program to compute the line graph of a set of data?\n"
   ]
  },
  {
   "cell_type": "code",
   "execution_count": 98,
   "metadata": {},
   "outputs": [
    {
     "data": {
      "image/png": "[encoded data removed]",
      "text/plain": [
       "<Figure size 432x288 with 1 Axes>"
      ]
     },
     "metadata": {
      "needs_background": "light"
     },
     "output_type": "display_data"
    }
   ],
   "source": [
    "import numpy as np\n",
    "import matplotlib.pyplot as plt\n",
    "arr = np.random.randint(1, 50, 10)\n",
    "y, x = np.histogram(arr, bins=np.arange(51))\n",
    "fig, ax = plt.subplots()\n",
    "ax.plot(x[:-1], y)\n",
    "fig.show()"
   ]
  },
  {
   "cell_type": "markdown",
   "metadata": {},
   "source": [
    "Q78. Write the NumPy program to extracts all the elements from second row from given (4x4) array?\n",
    "Sample Output-\n",
    "Original array- \n",
    "[[ 0 1 2 3]\n",
    "[ 4 5 6 7] \n",
    "[ 8 9 10 11] \n",
    "[12 13 14 15]]\n",
    "\n",
    "Extracted data- Second row\n",
    "[4 5 6 7] "
   ]
  },
  {
   "cell_type": "code",
   "execution_count": 99,
   "metadata": {},
   "outputs": [
    {
     "name": "stdout",
     "output_type": "stream",
     "text": [
      "Original array is :\n",
      " [[ 0  1  2  3]\n",
      " [ 4  5  6  7]\n",
      " [ 8  9 10 11]\n",
      " [12 13 14 15]]\n",
      "\n",
      "Extracted data-Second row\n",
      " [4 5 6 7]\n"
     ]
    }
   ],
   "source": [
    "import numpy as np\n",
    "arr=np.arange(16).reshape(4,4)\n",
    "print(\"Original array is :\\n\",arr)\n",
    "print(\"\\nExtracted data-Second row\\n\",arr[1])"
   ]
  },
  {
   "cell_type": "markdown",
   "metadata": {},
   "source": [
    "Q79. Write the NumPy program to extract first element of the second row and fourth element of fourth row from a given (4x4) array? \n",
    "Sample Output-\n",
    "Original array-\n",
    "[[ 0 1 2 3]\n",
    "[ 4 5 6 7] \n",
    "[ 8 9 10 11]\n",
    "[12 13 14 15]] \n",
    "Extracted data- First element of the second row and fourth element of fourth row\n",
    "[ 4 15] "
   ]
  },
  {
   "cell_type": "code",
   "execution_count": 100,
   "metadata": {},
   "outputs": [
    {
     "name": "stdout",
     "output_type": "stream",
     "text": [
      "Original array is :\n",
      " [[ 0  1  2  3]\n",
      " [ 4  5  6  7]\n",
      " [ 8  9 10 11]\n",
      " [12 13 14 15]]\n",
      "\n",
      "Extracted data- First element of the second row and fourth element of fourth row\n",
      " [ 4 15]\n"
     ]
    }
   ],
   "source": [
    "import numpy as np\n",
    "arr=np.arange(16).reshape(4,4)\n",
    "print(\"Original array is :\\n\",arr)\n",
    "print(\"\\nExtracted data- First element of the second row and fourth element of fourth row\\n\",arr[[1,3],[0,3]])\n"
   ]
  },
  {
   "cell_type": "markdown",
   "metadata": {},
   "source": [
    "Q80. Write the NumPy program to add two arrays A and B of sizes (3,3) and (,3)?\n",
    "Sample Output- Original array- \n",
    "Array-1 \n",
    "[[1 1 1]\n",
    "[1 1 1]\n",
    "[1 1 1]]\n",
    "Array-2\n",
    "[0 1 2]\n",
    "A + B:\n",
    "[[1 2 3]\n",
    "[1 2 3]\n",
    "[1 2 3]] "
   ]
  },
  {
   "cell_type": "code",
   "execution_count": 102,
   "metadata": {},
   "outputs": [
    {
     "name": "stdout",
     "output_type": "stream",
     "text": [
      "Array 1 is :\n",
      " [[1 1 1]\n",
      " [1 1 1]\n",
      " [1 1 1]]\n",
      "\n",
      "Array 2 is :\n",
      " [0 1 2]\n",
      "\n",
      "A+B\n",
      " [[1 2 3]\n",
      " [1 2 3]\n",
      " [1 2 3]]\n"
     ]
    }
   ],
   "source": [
    "import numpy as np\n",
    "arr1=np.ones([3,3],dtype=\"int\")\n",
    "arr2=np.arange(3)\n",
    "print(\"Array 1 is :\\n\",arr1)\n",
    "print(\"\\nArray 2 is :\\n\",arr2)\n",
    "print(\"\\nA+B\\n\",arr1+arr2)"
   ]
  },
  {
   "cell_type": "markdown",
   "metadata": {},
   "source": [
    "Q81. Write the NumPy program to copy data from a given array to another array?\n",
    "Sample Output- \n",
    "Original array- [24 27 30 29 18 14]\n",
    "Copy of the said array- [24 27 30 29 18 14] "
   ]
  },
  {
   "cell_type": "code",
   "execution_count": 103,
   "metadata": {},
   "outputs": [
    {
     "name": "stdout",
     "output_type": "stream",
     "text": [
      "Original Array is :\n",
      " [0 1 2 3 4 5 6]\n",
      "\n",
      "Copy of the said array :\n",
      " [0 1 2 3 4 5 6]\n"
     ]
    }
   ],
   "source": [
    "import numpy as np\n",
    "arr1=np.arange(7)\n",
    "arr2=arr1.copy()\n",
    "print(\"Original Array is :\\n\",arr1)\n",
    "print(\"\\nCopy of the said array :\\n\",arr2)"
   ]
  },
  {
   "cell_type": "markdown",
   "metadata": {},
   "source": [
    "Q82. Write the NumPy program to calculate the sum of all columns of the 2D numpy array? \n",
    "Sample Output- \n",
    "Original array- \n",
    "[[ 0 1 2 3 4 5 6 7 8]\n",
    "[ 9 10 11 12 13 14 15 16 17]\n",
    "[18 19 20 21 22 23 24 25 26]\n",
    "[27 28 29 30 31 32 33 34 35]] \n",
    "\n",
    "Sum of all columns- \n",
    "[54 58 62 66 70 74 78 82 86]"
   ]
  },
  {
   "cell_type": "code",
   "execution_count": 104,
   "metadata": {},
   "outputs": [
    {
     "name": "stdout",
     "output_type": "stream",
     "text": [
      "Original Array is :\n",
      " [[ 0  1  2  3  4  5  6  7  8]\n",
      " [ 9 10 11 12 13 14 15 16 17]\n",
      " [18 19 20 21 22 23 24 25 26]\n",
      " [27 28 29 30 31 32 33 34 35]]\n",
      "\n",
      "Sum of all columns :\n",
      "\n",
      "[54 58 62 66 70 74 78 82 86]\n"
     ]
    }
   ],
   "source": [
    "import numpy as np\n",
    "arr1=np.arange(36).reshape(4,9)\n",
    "print(\"Original Array is :\\n\",arr1)\n",
    "print(\"\\nSum of all columns :\\n\")\n",
    "print(arr1.sum(axis=0))"
   ]
  },
  {
   "cell_type": "markdown",
   "metadata": {},
   "source": [
    "Q83. Write the NumPy program to calculate averages without NaNs along the given array?\n",
    "Sample Output-\n",
    "Original array- \n",
    "[[10. 20. 30.]\n",
    "[40. 50. nan]\n",
    "[nan 6. nan] \n",
    "[nan nan nan]]\n",
    "\n",
    "Averages without NaNs along the said array-\n",
    "[20. 45. 6. nan] "
   ]
  },
  {
   "cell_type": "code",
   "execution_count": 105,
   "metadata": {},
   "outputs": [
    {
     "name": "stdout",
     "output_type": "stream",
     "text": [
      "Original array:\n",
      "[[10. 20. 30.]\n",
      " [40. 50. nan]\n",
      " [nan  6. nan]\n",
      " [nan nan nan]]\n",
      "\n",
      "Averages without NaNs along the said array:\n",
      "[20. 45.  6. nan]\n"
     ]
    }
   ],
   "source": [
    "\n",
    "import numpy as np\n",
    "arr1 = np.array([[10, 20 ,30], [40, 50, np.nan], [np.nan, 6, np.nan], [np.nan, np.nan, np.nan]])\n",
    "print(\"Original array:\")\n",
    "print(arr1)\n",
    "removing_nanvalues= np.ma.masked_array(arr1,np.isnan(arr1))\n",
    "result = np.mean(removing_nanvalues, axis=1)\n",
    "print(\"\\nAverages without NaNs along the said array:\")\n",
    "print(result.filled(np.nan))"
   ]
  },
  {
   "cell_type": "markdown",
   "metadata": {},
   "source": [
    "Q84. Create two arrays of six elements. Write the NumPy program to count the number of instances of a value occurring in one array on the condition of another array.\n",
    "Sample Output-\n",
    "Original arrays- \n",
    "[ 10 -10 10 -10 -10 10]\n",
    "[0.85 0.45 0.9 0.8 0.12 0.6 ]\n",
    "\n",
    "Number of instances of a value occurring in one array on the condition of another array:\n",
    "3 "
   ]
  },
  {
   "cell_type": "code",
   "execution_count": 106,
   "metadata": {},
   "outputs": [
    {
     "name": "stdout",
     "output_type": "stream",
     "text": [
      "Original arrays-\n",
      "[ 10 -10  10 -10 -10  10]\n",
      "[0.85 0.45 0.9  0.8  0.12 0.6 ]\n",
      "\n",
      "Number of instances of a value occuring in one array on the condition of another array :\n",
      " 3\n"
     ]
    }
   ],
   "source": [
    "\n",
    "a=np.array([10,-10,10,-10,-10,10])\n",
    "b=np.array([0.85,0.45,0.9,0.8,0.12,0.6])\n",
    "print(\"Original arrays-\")\n",
    "print(a)\n",
    "print(b)\n",
    "print(\"\\nNumber of instances of a value occuring in one array on the condition of another array :\\n\",np.sum((a>0) & (b>.5)))"
   ]
  },
  {
   "cell_type": "markdown",
   "metadata": {},
   "source": [
    "Q85. Write the NumPy program to convert a Python dictionary to a Numpy ndarray ?\n",
    "Original dictionary- \n",
    "{'column0': {'a': 1, 'b': 0.0, 'c': 0.0, 'd': 2.0}, 'column1': {'a': 3.0, 'b': 1, 'c': 0.0, 'd': -1.0}, 'column2': {'a': 4, 'b': 1, 'c': 5.0, 'd': -1.0}, 'column3': {'a': 3.0, 'b': -1.0, 'c': -1.0, 'd': -1.0}}\n",
    "Type: <class 'dict'>\n",
    "\n",
    "ndarray-\n",
    "[[ 1. 0. 0. 2.] \n",
    "[ 3. 1. 0. -1.]\n",
    "[ 4. 1. 5. -1.]\n",
    "[ 3. -1. -1. -1.]]\n",
    "\n",
    "Type: <class 'numpy.ndarray'>\n"
   ]
  },
  {
   "cell_type": "code",
   "execution_count": 107,
   "metadata": {},
   "outputs": [
    {
     "name": "stdout",
     "output_type": "stream",
     "text": [
      "\n",
      "Original dictionary:\n",
      "{'column0': {'a': 1, 'b': 0.0, 'c': 0.0, 'd': 2.0}, 'column1': {'a': 3.0, 'b': 1, 'c': 0.0, 'd': -1.0}, 'column2': {'a': 4, 'b': 1, 'c': 5.0, 'd': -1.0}, 'column3': {'a': 3.0, 'b': -1.0, 'c': -1.0, 'd': -1.0}}\n",
      "Type:  <class 'dict'>\n",
      "\n",
      "ndarray:\n",
      "[[ 1.  0.  0.  2.]\n",
      " [ 3.  1.  0. -1.]\n",
      " [ 4.  1.  5. -1.]\n",
      " [ 3. -1. -1. -1.]]\n",
      "Type:  <class 'numpy.ndarray'>\n"
     ]
    }
   ],
   "source": [
    "import numpy as np\n",
    "from ast import literal_eval\n",
    "diction = \"\"\"{\"column0\":{\"a\":1,\"b\":0.0,\"c\":0.0,\"d\":2.0},\n",
    "   \"column1\":{\"a\":3.0,\"b\":1,\"c\":0.0,\"d\":-1.0},\n",
    "   \"column2\":{\"a\":4,\"b\":1,\"c\":5.0,\"d\":-1.0},\n",
    "   \"column3\":{\"a\":3.0,\"b\":-1.0,\"c\":-1.0,\"d\":-1.0}\n",
    "  }\"\"\"\n",
    "t = literal_eval(diction)\n",
    "print(\"\\nOriginal dictionary:\")\n",
    "print(t)\n",
    "print(\"Type: \",type(t))\n",
    "result_array = np.array([[v[j] for j in ['a', 'b', 'c', 'd']] for k, v in t.items()])\n",
    "print(\"\\nndarray:\")\n",
    "print(result_array)\n",
    "print(\"Type: \",type(result_array))"
   ]
  },
  {
   "cell_type": "markdown",
   "metadata": {},
   "source": [
    "Q86. Write the Numpy program to find and store the non-zero unique rows in an array after comparing each row with other row in the given matrix?\n",
    "\n",
    "Original array- \n",
    "[[ 1 1 0]\n",
    "[ 0 0 0] \n",
    "[ 0 2 3]\n",
    "[ 0 0 0]\n",
    "[ 0 -1 1]\n",
    "[ 0 0 0]]\n",
    "\n",
    "Non-zero unique rows-\n",
    "[[ 1 1 0] \n",
    "[ 0 2 3]\n",
    "[ 0 -1 1]]\n"
   ]
  },
  {
   "cell_type": "code",
   "execution_count": 108,
   "metadata": {},
   "outputs": [
    {
     "name": "stdout",
     "output_type": "stream",
     "text": [
      "Original array :\n",
      " [[ 1  1  0]\n",
      " [ 0  0  0]\n",
      " [ 0  2  3]\n",
      " [ 0  0  0]\n",
      " [ 0 -1  1]\n",
      " [ 0  0  0]]\n",
      "\n",
      "Non zero unique rows :\n",
      "\n",
      "[1 1 0]\n",
      "[0 2 3]\n",
      "[ 0 -1  1]\n"
     ]
    }
   ],
   "source": [
    "import numpy as np\n",
    "arr=np.array([1,1,0,0,0,0,0,2,3,0,0,0,0,-1,1,0,0,0]).reshape(6,3)\n",
    "print(\"Original array :\\n\",arr)\n",
    "print(\"\\nNon zero unique rows :\\n\")\n",
    "for i in arr:\n",
    "    if np.any(i):\n",
    "        print(i)"
   ]
  },
  {
   "cell_type": "markdown",
   "metadata": {},
   "source": [
    "Q87. Write the NumPy program to multiply the matrix by another matrix of complex numbers and create a new matrix of complex numbers?\n",
    "Sample output- \n",
    "First array- [ 1.+2.j 3.+4.j]\n",
    "\n",
    "Second array- [ 5.+6.j 7.+8.j] \n",
    "\n",
    "Product of above two arrays- \n",
    "(70-8j)\n"
   ]
  },
  {
   "cell_type": "code",
   "execution_count": 109,
   "metadata": {},
   "outputs": [
    {
     "name": "stdout",
     "output_type": "stream",
     "text": [
      "First array :\n",
      " [1.+2.j 3.+4.j]\n",
      "\n",
      "Second array :\n",
      " [5.+6.j 7.+8.j]\n",
      "\n",
      "Product of two arrays :\n",
      " (70-8j)\n"
     ]
    }
   ],
   "source": [
    "import numpy as np\n",
    "arr1=np.array([1+2.j,3+4.j])\n",
    "arr2=np.array([5+6.j,7+8.j])\n",
    "print(\"First array :\\n\",arr1)\n",
    "print(\"\\nSecond array :\\n\",arr2)\n",
    "print(\"\\nProduct of two arrays :\\n\",np.vdot(arr1,arr2))"
   ]
  },
  {
   "cell_type": "markdown",
   "metadata": {},
   "source": [
    "Q88. Write a NumPy program to generate the matrix product of two Arrays?\n",
    "Sample Output- \n",
    "Matrices and vectors.\n",
    "x- \n",
    "[[1, 0], [1, 1]]\n",
    "\n",
    "y- \n",
    "[[3, 1], [2, 2]] \n",
    "\n",
    "Matrix product of above two arrays-\n",
    "[[3 1] \n",
    "[5 3]]\n"
   ]
  },
  {
   "cell_type": "code",
   "execution_count": 110,
   "metadata": {},
   "outputs": [
    {
     "name": "stdout",
     "output_type": "stream",
     "text": [
      "Matrices and vectors.\n",
      "\n",
      "x-\n",
      " [[1, 0], [1, 1]]\n",
      "\n",
      "y-\n",
      " [[3, 1], [2, 2]]\n",
      "\n",
      "Matrix product of above two arrays:\n",
      " [[3 1]\n",
      " [5 3]]\n"
     ]
    }
   ],
   "source": [
    "import numpy as np\n",
    "x = [[1, 0], [1, 1]]\n",
    "y = [[3, 1], [2, 2]]\n",
    "print(\"Matrices and vectors.\")\n",
    "print(\"\\nx-\\n\",x)\n",
    "print(\"\\ny-\\n\",y)\n",
    "print(\"\\nMatrix product of above two arrays:\\n\",np.matmul(x,y))"
   ]
  },
  {
   "cell_type": "markdown",
   "metadata": {},
   "source": [
    "Q89. Write the NumPy program to find roots of the following Polynomials?\n",
    "a) (x2 - 2x + 1)\n",
    "b) x4 - 11x3 + 9x2 + 11x - 10 \n",
    "\n",
    "Sample output- \n",
    "Roots of the first polynomial-\n",
    "[ 1. 1.] \n",
    "Roots of the second polynomial-\n",
    "[ 11.04461946+0.j -0.87114210+0.j 0.91326132+0.4531004j 0.91326132-0.4531004j ] "
   ]
  },
  {
   "cell_type": "code",
   "execution_count": 111,
   "metadata": {},
   "outputs": [
    {
     "name": "stdout",
     "output_type": "stream",
     "text": [
      "Roots of the polynomial x2-2x+1:\n",
      " [1. 1.]\n",
      "\n",
      "Roots of the polynomial x4-11x3+9x2+11x-10:\n",
      " [10.+0.0000000e+00j -1.+0.0000000e+00j  1.+9.6357437e-09j\n",
      "  1.-9.6357437e-09j]\n"
     ]
    }
   ],
   "source": [
    "\n",
    "import numpy as np\n",
    "print(\"Roots of the polynomial x2-2x+1:\\n\",np.roots([1, -2, 1]))\n",
    "print(\"\\nRoots of the polynomial x4-11x3+9x2+11x-10:\\n\",np.roots([1,-11,9,11,-10]))"
   ]
  },
  {
   "cell_type": "markdown",
   "metadata": {},
   "source": [
    "Q90. Write the NumPy program to calculate inverse of sine, cosine, and inverse tangent for all elements in a given array?\n",
    "Sample output- \n",
    "Inverse sine- [-1.57079633 0. 1.57079633]\n",
    "Inverse cosine- [3.14159265 1.57079633 0. ]\n",
    "Inverse tangent- [-0.78539816 0. 0.78539816] "
   ]
  },
  {
   "cell_type": "code",
   "execution_count": 112,
   "metadata": {},
   "outputs": [
    {
     "name": "stdout",
     "output_type": "stream",
     "text": [
      "Inverse sine: [-1.57079633  0.          1.57079633]\n",
      "Inverse cosine: [3.14159265 1.57079633 0.        ]\n",
      "Inverse tangent: [-0.78539816  0.          0.78539816]\n"
     ]
    }
   ],
   "source": [
    "import numpy as np\n",
    "x = np.array([-1., 0, 1.])\n",
    "print(\"Inverse sine:\", np.arcsin(x))\n",
    "print(\"Inverse cosine:\", np.arccos(x))\n",
    "print(\"Inverse tangent:\", np.arctan(x))"
   ]
  },
  {
   "cell_type": "markdown",
   "metadata": {},
   "source": [
    "Q91. Write the NumPy program to calculate the difference between in neighbouring elements, element-wise of a given array? Sample output-\n",
    "Original array-\n",
    "\n",
    "[1 3 5 7 0] \n",
    "\n",
    "Difference between neighbouring elements, element-wise of the said array-\n",
    "\n",
    "[ 2 2 2 -7]\n",
    "\n"
   ]
  },
  {
   "cell_type": "code",
   "execution_count": 113,
   "metadata": {},
   "outputs": [
    {
     "name": "stdout",
     "output_type": "stream",
     "text": [
      "Original array-\n",
      " [1 3 5 7 0]\n",
      "\n",
      "Difference between neighbouring elements,element-wise of the said array-\n",
      " [ 2  2  2 -7]\n"
     ]
    }
   ],
   "source": [
    "import numpy as np\n",
    "arr1=np.array([1,3,5,7,0])\n",
    "print(\"Original array-\\n\",arr1)\n",
    "print(\"\\nDifference between neighbouring elements,element-wise of the said array-\\n\",np.diff(arr1))"
   ]
  },
  {
   "cell_type": "markdown",
   "metadata": {},
   "source": [
    "Q92. Write the Python program to find the maximum and the minimum value of a given flattened array?\n",
    "Expected Output- \n",
    "\n",
    "Original flattened array- [[0 1] [2 3]]\n",
    "\n",
    "Maximum value of the above flattened array- 3\n",
    "\n",
    "Minimum value of the above flattened array- 0 "
   ]
  },
  {
   "cell_type": "code",
   "execution_count": 114,
   "metadata": {},
   "outputs": [
    {
     "name": "stdout",
     "output_type": "stream",
     "text": [
      "Original array :\n",
      " [[0 1]\n",
      " [2 3]]\n",
      "\n",
      "Original flattened array :\n",
      " [0 1 2 3]\n",
      "\n",
      "Maximum value of above flattened array :\n",
      " 3\n",
      "\n",
      "Minimum value of above flattened array :\n",
      " 0\n"
     ]
    }
   ],
   "source": [
    "import numpy as np\n",
    "arr=np.arange(4).reshape(2,2)\n",
    "arr_flat=arr.flatten()\n",
    "print(\"Original array :\\n\",arr)\n",
    "print(\"\\nOriginal flattened array :\\n\",arr_flat)\n",
    "print(\"\\nMaximum value of above flattened array :\\n\",max(arr_flat))\n",
    "print(\"\\nMinimum value of above flattened array :\\n\",min(arr_flat))"
   ]
  },
  {
   "cell_type": "markdown",
   "metadata": {},
   "source": [
    "Q93. Write the NumPy program to calculate the difference between in the maximum and the minimum values of a given array along the second axis ?\n",
    "\n",
    "Expected Output-\n",
    "Original array- \n",
    "[[ 0 1 2 3 4 5]\n",
    "[ 6 7 8 9 10 11]] \n",
    "\n",
    "Difference between the maximum and the minimum values of the said array- \n",
    "[5 5] "
   ]
  },
  {
   "cell_type": "code",
   "execution_count": 115,
   "metadata": {},
   "outputs": [
    {
     "name": "stdout",
     "output_type": "stream",
     "text": [
      "\n",
      "Original array:\n",
      "[[ 0  1  2  3  4  5]\n",
      " [ 6  7  8  9 10 11]]\n",
      "\n",
      "Difference between the maximum and the minimum values of the said array:\n",
      "[5 5]\n"
     ]
    }
   ],
   "source": [
    "import numpy as np\n",
    "x = np.arange(12).reshape((2, 6))\n",
    "print(\"\\nOriginal array:\")\n",
    "print(x)\n",
    "r1 = np.ptp(x, axis=1)\n",
    "print(\"\\nDifference between the maximum and the minimum values of the said array:\")\n",
    "print(r1)\n"
   ]
  },
  {
   "cell_type": "markdown",
   "metadata": {},
   "source": [
    "Q94. Write the NumPy program to compute the weighted of the given array ?\n",
    "\n",
    "Sample Output-\n",
    "Original array- [0 1 2 3 4] \n",
    "Weighted average of the said array- \n",
    "1.0\n",
    "\n"
   ]
  },
  {
   "cell_type": "code",
   "execution_count": 116,
   "metadata": {},
   "outputs": [
    {
     "name": "stdout",
     "output_type": "stream",
     "text": [
      "Original array :\n",
      " [0 1 2 3 4]\n",
      "weighted average of the said array :\n",
      " 1.0\n"
     ]
    }
   ],
   "source": [
    "import numpy as np\n",
    "arr=np.arange(5)\n",
    "print(\"Original array :\\n\",arr)\n",
    "print(\"weighted average of the said array :\\n\",np.average(arr,weights=range(4,-1,-1)))"
   ]
  },
  {
   "cell_type": "markdown",
   "metadata": {},
   "source": [
    "Q95. Write the NumPy program to compute the mean, standard deviation, and the variance of a given array along the second axis?\n",
    "Sample output- \n",
    "Original array- [0 1 2 3 4 5]\n",
    "Mean- 2.5 \n",
    "std- 1.707825127659933\n",
    "variance- 2.9166666666666665\n"
   ]
  },
  {
   "cell_type": "code",
   "execution_count": 117,
   "metadata": {},
   "outputs": [
    {
     "name": "stdout",
     "output_type": "stream",
     "text": [
      "Original array :\n",
      " [0 1 2 3 4 5]\n",
      "Mean :\n",
      " 2.5\n",
      "\n",
      "standard deviation :\n",
      " 1.707825127659933\n",
      "\n",
      "Variance :\n",
      " 2.9166666666666665\n"
     ]
    }
   ],
   "source": [
    "import numpy as np\n",
    "arr=np.arange(6)\n",
    "print(\"Original array :\\n\",arr)\n",
    "print(\"Mean :\\n\",np.mean(arr))\n",
    "print(\"\\nstandard deviation :\\n\",np.std(arr))\n",
    "print(\"\\nVariance :\\n\",np.var(arr))"
   ]
  },
  {
   "cell_type": "markdown",
   "metadata": {},
   "source": [
    "Q96. Write the Numpy program to compute the covariance matrix of the two given arrays?\n",
    "\n",
    "Sample Output-\n",
    "Original array1-\n",
    "[0 1 2] \n",
    "Original array2- \n",
    "[2 1 0] \n",
    "Covariance matrix of the said arrays-\n",
    "[[ 1. -1.] \n",
    "[-1. 1.]] "
   ]
  },
  {
   "cell_type": "code",
   "execution_count": 118,
   "metadata": {},
   "outputs": [
    {
     "name": "stdout",
     "output_type": "stream",
     "text": [
      "Original array 1 :\n",
      " [0 1 2]\n",
      "Original array 2 :\n",
      " [2 1 0]\n",
      "Covariance matrix of the said arrays :\n",
      " [[ 1. -1.]\n",
      " [-1.  1.]]\n"
     ]
    }
   ],
   "source": [
    "import numpy as np\n",
    "arr1=np.arange(3)\n",
    "arr2=np.array(range(2,-1,-1))\n",
    "print(\"Original array 1 :\\n\",arr1)\n",
    "print(\"Original array 2 :\\n\",arr2)\n",
    "print(\"Covariance matrix of the said arrays :\\n\",np.cov(arr1,arr2))"
   ]
  },
  {
   "cell_type": "markdown",
   "metadata": {},
   "source": [
    "Q97. Write a NumPy program to compute the cross-correlation of two given arrays ?\n",
    "\n",
    "Sample Output-\n",
    "Original array1-\n",
    "[0 1 3]\n",
    "Original array2\n",
    "- [2 4 5] \n",
    "Cross-correlation of the said arrays-\n",
    "[ [ 2.33333333 2.16666667 ]\n",
    "[ 2.16666667 2.33333333 ] ] "
   ]
  },
  {
   "cell_type": "code",
   "execution_count": 120,
   "metadata": {},
   "outputs": [
    {
     "name": "stdout",
     "output_type": "stream",
     "text": [
      "Original array 1 :\n",
      " [0 1 3]\n",
      "\n",
      "Original array 2 :\n",
      " [2 4 5]\n",
      "\n",
      "Cross-correlation of the said arrays :\n",
      " [[2.33333333 2.16666667]\n",
      " [2.16666667 2.33333333]]\n"
     ]
    }
   ],
   "source": [
    "import numpy as np\n",
    "arr1=np.array([0,1,3])\n",
    "arr2=np.array([2,4,5])\n",
    "print(\"Original array 1 :\\n\",arr1)\n",
    "print(\"\\nOriginal array 2 :\\n\",arr2)\n",
    "print(\"\\nCross-correlation of the said arrays :\\n\",np.cov(arr1,arr2))\n"
   ]
  },
  {
   "cell_type": "markdown",
   "metadata": {},
   "source": [
    "Q98. Write the NumPy program to compute Pearson product-moment correlation coefficients of two given arrays?\n",
    "Sample Output- \n",
    "Original array1- \n",
    "[0 1 3] \n",
    "Original array1- \n",
    "[2 4 5] \n",
    "Pearson product-moment correlation coefficients of the said arrays-\n",
    "[[1. 0.92857143] [0.92857143 1. ]]\n"
   ]
  },
  {
   "cell_type": "code",
   "execution_count": 121,
   "metadata": {},
   "outputs": [
    {
     "name": "stdout",
     "output_type": "stream",
     "text": [
      "Original array 1 :\n",
      " [0 1 3]\n",
      "\n",
      "Original array 2 :\n",
      " [2 4 5]\n",
      "\n",
      " Pearson product-moment correlation coefficients of the said arrays :\n",
      " [[1.         0.92857143]\n",
      " [0.92857143 1.        ]]\n"
     ]
    }
   ],
   "source": [
    "import numpy as np\n",
    "arr1=np.array([0,1,3])\n",
    "arr2=np.array([2,4,5])\n",
    "print(\"Original array 1 :\\n\",arr1)\n",
    "print(\"\\nOriginal array 2 :\\n\",arr2)\n",
    "print(\"\\n Pearson product-moment correlation coefficients of the said arrays :\\n\",np.corrcoef(arr1,arr2))"
   ]
  },
  {
   "cell_type": "markdown",
   "metadata": {},
   "source": [
    "Q99. Write the python program to count the number of occurrences of each value in a given array of non-negative integers?\n",
    "Note: bincount() Function- It count the occurrence of each value in an array of the non- negative integers in the range of the array between the minimum and maximum values including the values that did not occur. \n",
    "Sample Output-\n",
    "Original array- [0, 1, 6, 1, 4, 1, 2, 2, 7] \n",
    "Number of occurrences of each value in array- [1 3 2 0 1 0 1 1] "
   ]
  },
  {
   "cell_type": "code",
   "execution_count": 122,
   "metadata": {},
   "outputs": [
    {
     "name": "stdout",
     "output_type": "stream",
     "text": [
      "Original array 1 :\n",
      " [0 1 6 1 4 1 2 2 7]\n",
      "\n",
      " Number of occurences of each value in the array :\n",
      " [1 3 2 0 1 0 1 1]\n"
     ]
    }
   ],
   "source": [
    "import numpy as np\n",
    "arr1=np.array([0,1,6,1,4,1,2,2,7])\n",
    "print(\"Original array 1 :\\n\",arr1)\n",
    "print(\"\\n Number of occurences of each value in the array :\\n\",np.bincount(arr1))"
   ]
  },
  {
   "cell_type": "markdown",
   "metadata": {},
   "source": [
    "Q100. Write a Numpy program to compute the histogram of nums against the bins?\n",
    "Sample Output- \n",
    "nums- [0.5 0.7 1. 1.2 1.3 2.1]\n",
    "bins- [0 1 2 3]\n",
    "Result- (array([2, 3, 1], dtype=int64), array([0, 1, 2, 3]))"
   ]
  },
  {
   "cell_type": "code",
   "execution_count": 123,
   "metadata": {},
   "outputs": [
    {
     "name": "stdout",
     "output_type": "stream",
     "text": [
      "nums:  [0.5 0.7 1.  1.2 1.3 2.1]\n",
      "bins:  [0 1 2 3]\n",
      "Result: (array([2, 3, 1], dtype=int64), array([0, 1, 2, 3]))\n"
     ]
    },
    {
     "data": {
      "image/png": "[encoded data removed]",
      "text/plain": [
       "<Figure size 432x288 with 1 Axes>"
      ]
     },
     "metadata": {
      "needs_background": "light"
     },
     "output_type": "display_data"
    }
   ],
   "source": [
    "import numpy as np\n",
    "import matplotlib.pyplot as plt\n",
    "nums = np.array([0.5, 0.7, 1.0, 1.2, 1.3, 2.1])\n",
    "bins = np.array([0, 1, 2, 3])\n",
    "print(\"nums: \",nums)\n",
    "print(\"bins: \",bins)\n",
    "print(\"Result:\", np.histogram(nums, bins))\n",
    "plt.hist(nums, bins=bins)\n",
    "plt.show()"
   ]
  },
  {
   "cell_type": "markdown",
   "metadata": {},
   "source": [
    " Q101. Write the Python program to add, subtract, multiply and divide two pandas series ? \n",
    " Sample Series- [2, 4, 6, 8, 10], [1, 3, 5, 7, 9] "
   ]
  },
  {
   "cell_type": "code",
   "execution_count": 126,
   "metadata": {},
   "outputs": [
    {
     "name": "stdout",
     "output_type": "stream",
     "text": [
      "Adding two pandas series :\n",
      "0     3\n",
      "1     7\n",
      "2    11\n",
      "3    15\n",
      "4    19\n",
      "dtype: int64\n",
      "\n",
      "Subtracting two pandas series :\n",
      "0    1\n",
      "1    1\n",
      "2    1\n",
      "3    1\n",
      "4    1\n",
      "dtype: int64\n",
      "\n",
      "Multiplying two pandas series :\n",
      "0     2\n",
      "1    12\n",
      "2    30\n",
      "3    56\n",
      "4    90\n",
      "dtype: int64\n",
      "\n",
      "Dividing two pandas series :\n",
      "0    2.000000\n",
      "1    1.333333\n",
      "2    1.200000\n",
      "3    1.142857\n",
      "4    1.111111\n",
      "dtype: float64\n"
     ]
    }
   ],
   "source": [
    "import pandas as pd\n",
    "series1=pd.Series([2,4,6,8,10])\n",
    "series2=pd.Series([1,3,5,7,9])\n",
    "print(\"Adding two pandas series :\\n\",series1+series2,sep='')\n",
    "print(\"\\nSubtracting two pandas series :\\n\",series1-series2,sep='')\n",
    "print(\"\\nMultiplying two pandas series :\\n\",series1*series2,sep='')\n",
    "print(\"\\nDividing two pandas series :\\n\",series1/series2,sep='')"
   ]
  },
  {
   "cell_type": "markdown",
   "metadata": {},
   "source": [
    "Q102. Write a Python program to convert a dictionary to the Pandas Series?\n",
    "Sample Series- \n",
    "Original dictionary- {'a': 100, 'b': 200, 'c': 300, 'd': 400, 'e': 800}\n",
    "Converted series - \n",
    "a 100\n",
    "b 200\n",
    "c 300\n",
    "d 400\n",
    "e 800 \n",
    "dtype- int64\n"
   ]
  },
  {
   "cell_type": "code",
   "execution_count": 128,
   "metadata": {},
   "outputs": [
    {
     "name": "stdout",
     "output_type": "stream",
     "text": [
      "Original dictionary :\n",
      " {'a': 100, 'b': 200, 'c': 300, 'd': 400, 'e': 800}\n",
      "\n",
      "Converted series:\n",
      "a    100\n",
      "b    200\n",
      "c    300\n",
      "d    400\n",
      "e    800\n",
      "dtype: int64\n"
     ]
    }
   ],
   "source": [
    "import pandas as pd\n",
    "dict1 = {'a': 100, 'b': 200, 'c':300, 'd':400, 'e':800}\n",
    "print(\"Original dictionary :\\n\",dict1)\n",
    "print(\"\\nConverted series:\\n\",pd.Series(dict1),sep='')"
   ]
  },
  {
   "cell_type": "markdown",
   "metadata": {},
   "source": [
    "Q103. Write a python program to change the data type of given a column or a Series?\n",
    "Sample Series- Original Data Series-\n",
    "0 100\n",
    "1 200\n",
    "2 python\n",
    "3 300.12\n",
    "4 400\n",
    "dtype- object\n",
    "\n",
    "Change the said data type to numeric-\n",
    "0 100.00 \n",
    "1 200.00\n",
    "2 NaN \n",
    "3 300.12\n",
    "4 400.00\n",
    "dtype- float64\n"
   ]
  },
  {
   "cell_type": "code",
   "execution_count": 130,
   "metadata": {},
   "outputs": [
    {
     "name": "stdout",
     "output_type": "stream",
     "text": [
      "Original Data series :\n",
      "0       100\n",
      "1       200\n",
      "2    python\n",
      "3    300.12\n",
      "4       400\n",
      "dtype: object\n",
      "\n",
      "Change the said data type to numeric :\n",
      "0    100.00\n",
      "1    200.00\n",
      "2       NaN\n",
      "3    300.12\n",
      "4    400.00\n",
      "dtype: float64\n"
     ]
    }
   ],
   "source": [
    "import pandas as pd\n",
    "series1=pd.Series([100,200,\"python\",300.12,400])\n",
    "print(\"Original Data series :\\n\",series1,sep='')\n",
    "print(\"\\nChange the said data type to numeric :\\n\",pd.to_numeric(series1,errors='coerce'),sep='')"
   ]
  },
  {
   "cell_type": "markdown",
   "metadata": {},
   "source": [
    "Q104. Write the python pandas program to convert the first column of a DataFrame as a Series?\n",
    "Sample Output-\n",
    "Original DataFrame-\n",
    "\n",
    " col1 col2 col3 \n",
    "0 1 4 7 \n",
    "1 2 5 5\n",
    "2 3 6 8\n",
    "3 4 9 12\n",
    "4 7 5 1 \n",
    "5 11 0 11\n",
    "1st column as a Series-\n",
    "0 1 \n",
    "1 2\n",
    "2 3\n",
    "3 4\n",
    "4 7\n",
    "5 11\n",
    "Name- col1, dtype- int64 \n",
    "<class 'pandas.core.series.Series'>\n",
    "\n"
   ]
  },
  {
   "cell_type": "code",
   "execution_count": 131,
   "metadata": {},
   "outputs": [
    {
     "name": "stdout",
     "output_type": "stream",
     "text": [
      "Original DataFrame :\n",
      "    col1  col2  col3\n",
      "0     1     4     7\n",
      "1     2     5     5\n",
      "2     3     6     8\n",
      "3     4     9    12\n",
      "4     7     5     1\n",
      "5    11     0    11\n",
      "1st column as a Series :\n",
      "0     1\n",
      "1     2\n",
      "2     3\n",
      "3     4\n",
      "4     7\n",
      "5    11\n",
      "Name: col1, dtype: int64\n",
      "<class 'pandas.core.series.Series'>\n"
     ]
    }
   ],
   "source": [
    "import pandas as pd\n",
    "df=pd.DataFrame([[1,4,7],[2,5,5],[3,6,8],[4,9,12],[7,5,1],[11,0,11]],columns=['col1','col2','col3'])\n",
    "print(\"Original DataFrame :\\n\",df)\n",
    "print(\"1st column as a Series :\\n\",df['col1'],sep='')\n",
    "print(type(df[\"col1\"]))"
   ]
  },
  {
   "cell_type": "markdown",
   "metadata": {},
   "source": [
    "Q105. Write a pandas program to create the mean and standard deviation of the data of a given Series?\n",
    "Sample Output- \n",
    "Original Data Series-\n",
    "0 1 \n",
    "1 2 \n",
    "2 3 \n",
    "3 4 \n",
    "4 5 \n",
    "5 6 \n",
    "6 7\n",
    "7 8\n",
    "8 9\n",
    "9 5\n",
    "10 3\n",
    "dtype- int64\n",
    "\n",
    "Mean of the said Data Series-\n",
    "4.81818181818 \n",
    "\n",
    "Standard deviation of the said Data Series-\n",
    "2.52262489555 "
   ]
  },
  {
   "cell_type": "code",
   "execution_count": 132,
   "metadata": {},
   "outputs": [
    {
     "name": "stdout",
     "output_type": "stream",
     "text": [
      "Original Data series :\n",
      " 0     1\n",
      "1     2\n",
      "2     3\n",
      "3     4\n",
      "4     5\n",
      "5     6\n",
      "6     7\n",
      "7     8\n",
      "8     9\n",
      "9     5\n",
      "10    3\n",
      "dtype: int64\n",
      "\n",
      "Mean of the said Data Series :\n",
      " 4.818181818181818\n",
      "\n",
      "Standard Deviation of the said Data Series :\n",
      " 2.405228464604173\n"
     ]
    }
   ],
   "source": [
    "import pandas as pd\n",
    "import numpy as np\n",
    "series1=pd.Series([1,2,3,4,5,6,7,8,9,5,3])\n",
    "print(\"Original Data series :\\n\",series1)\n",
    "print(\"\\nMean of the said Data Series :\\n\",np.mean(series1))\n",
    "print(\"\\nStandard Deviation of the said Data Series :\\n\",np.std(series1))"
   ]
  },
  {
   "cell_type": "markdown",
   "metadata": {},
   "source": [
    "Q106. Write a pandas program to get powers of an array values element-wise? Note First array elements raised the powers from the second array. Sample data:\n",
    "{'X ':[78,85,96,80,86], ' Y ':[84,94,89,83,86],'Z':[86,97,96,72,83]}\n",
    "Expected Output: \n",
    "  X Y Z \n",
    "0 78 84 86 \n",
    "1 85 94 97 \n",
    "2 96 89 96\n",
    "3 80 83 72\n",
    "4 86 86 83\n",
    "\n"
   ]
  },
  {
   "cell_type": "code",
   "execution_count": 133,
   "metadata": {},
   "outputs": [
    {
     "name": "stdout",
     "output_type": "stream",
     "text": [
      "    X   Y   Z\n",
      "0  78  84  86\n",
      "1  85  94  97\n",
      "2  96  89  96\n",
      "3  80  83  72\n",
      "4  86  86  83\n"
     ]
    }
   ],
   "source": [
    "import pandas as pd\n",
    "df = pd.DataFrame({'X':[78,85,96,80,86], 'Y':[84,94,89,83,86],'Z':[86,97,96,72,83]});\n",
    "print(df)"
   ]
  },
  {
   "cell_type": "markdown",
   "metadata": {},
   "source": [
    "Q107. Write the pandas program to get the first 3 rows of a given DataFrame?\n",
    "Sample Python dictionary data and list labels- exam_data = {'name': ['Anastasia', 'Dima', 'Katherine', 'James', 'Emily', 'Michael', 'Matthew', 'Laura', 'Kevin', 'Jonas'], 'score': [12.5, 9, 16.5, np.nan, 9, 20, 14.5, np.nan, 8, 19], 'attempts'- [1, 3, 2, 3, 2, 3, 1, 1, 2, 1], 'qualify'- [ 'yes', 'no', 'yes' , 'no', ' no ', ' yes ', 'yes', 'no', 'no', 'yes' ] } labels = ['a', 'b', 'c', 'd', 'e', 'f', 'g', 'h', 'i', 'j' ] \n",
    "Expected Output-\n",
    "First three rows of the data frame-\n",
    "   attempts     name     qualify  score \n",
    "a   1         Anastasia    yes    12.5 \n",
    "b   3          Dima        no     9.0 \n",
    "c   2         Katherine    yes    16.5\n"
   ]
  },
  {
   "cell_type": "code",
   "execution_count": 134,
   "metadata": {},
   "outputs": [
    {
     "name": "stdout",
     "output_type": "stream",
     "text": [
      "First three rows of the dataframe :\n",
      "    attempts       name qualify  score\n",
      "a         1  Anastasia     yes   12.5\n",
      "b         3       Dima      no    9.0\n",
      "c         2  Katherine     yes   16.5\n"
     ]
    }
   ],
   "source": [
    "import pandas as pd\n",
    "exam_data = {\n",
    "'attempts': [1, 3, 2, 3, 2, 3, 1, 1, 2, 1], \n",
    "'name': ['Anastasia', 'Dima', 'Katherine', 'James', 'Emily', 'Michael', 'Matthew', 'Laura', 'Kevin', 'Jonas'],\n",
    "'qualify': ['yes', 'no', 'yes', 'no', 'no', 'yes', 'yes', 'no', 'no', 'yes'],\n",
    "'score': [12.5, 9, 16.5, np.nan, 9, 20, 14.5, np.nan, 8, 19]}\n",
    "labels = ['a', 'b', 'c', 'd', 'e', 'f', 'g', 'h', 'i', 'j']\n",
    "df=pd.DataFrame(exam_data,index=labels)\n",
    "print(\"First three rows of the dataframe :\\n\",df.iloc[:3])"
   ]
  },
  {
   "cell_type": "markdown",
   "metadata": {},
   "source": [
    "Q108: Write the pandas program to select the specified columns and the rows from a given data frame?\n",
    "Sample Python dictionary data and list labels- Select 'name' and 'score' columns in rows 1, 3, 5, 6 from the following data frame. exam_data = {'name ': [ 'Anastasia', 'Dima', 'Katherine', 'James', 'Emily', 'Michael', 'Matthew', 'Laura', 'Kevin', 'Jonas'], 'score'- [12.5, 9, 16.5, np.nan, 9, 20, 14.5, np.nan, 8, 19], 'attempts'- [1, 3, 2, 3, 2, 3, 1, 1, 2, 1], 'qualify'- ['yes', 'no', 'yes', 'no', 'no', 'yes', 'yes', 'no', 'no', 'yes'] } labels = ['a ', ' b ', ' c ', ' d ', ' e ', ' f ', ' g ', 'h', 'i', 'j'] \n",
    "Expected Output-\n",
    "Select specific columns and rows-\n",
    "     name   score\n",
    " b   Dima   9.0\n",
    " d   James  NaN \n",
    " f  Michael 20.0 \n",
    " g  Matthew 14.5"
   ]
  },
  {
   "cell_type": "code",
   "execution_count": 135,
   "metadata": {},
   "outputs": [
    {
     "name": "stdout",
     "output_type": "stream",
     "text": [
      "Select specific columns and rows:\n",
      "      name  score\n",
      "b     Dima    9.0\n",
      "d    James    NaN\n",
      "f  Michael   20.0\n",
      "g  Matthew   14.5\n"
     ]
    }
   ],
   "source": [
    "import pandas as pd\n",
    "exam_data = {'name': ['Anastasia', 'Dima', 'Katherine', 'James', 'Emily', 'Michael', 'Matthew', 'Laura', 'Kevin', 'Jonas'],\n",
    "'score': [12.5, 9, 16.5, np.nan, 9, 20, 14.5, np.nan, 8, 19],\n",
    "'attempts': [1, 3, 2, 3, 2, 3, 1, 1, 2, 1],\n",
    "'qualify': ['yes', 'no', 'yes', 'no', 'no', 'yes', 'yes', 'no', 'no', 'yes']}\n",
    "labels = ['a', 'b', 'c', 'd', 'e', 'f', 'g', 'h', 'i', 'j']\n",
    "df=pd.DataFrame(exam_data,index=labels)\n",
    "print(\"Select specific columns and rows:\\n\",df.iloc[[1,3,5,6],[0,1]],sep='')\n"
   ]
  },
  {
   "cell_type": "markdown",
   "metadata": {},
   "source": [
    "Q109. Write the pandas program to calculate mean score for each different student in DataFrame?\n",
    "Sample Python dictionary data and list labels- exam_data = {'name': ['Anastasia', 'Dima', 'Katherine', 'James', 'Emily', 'Michael', 'Matthew', 'Laura', 'Kevin', 'Jonas'], 'score': [12.5, 9, 16.5, np.nan, 9, 20, 14.5, np.nan, 8, 19], 'attempts'- [1, 3, 2, 3, 2, 3, 1, 1, 2, 1], 'qualify'- ['yes', 'no', ' yes ', ' no ', ' no ', ' yes ', ' yes ', ' no ', ' no ', ' yes '] } labels = ['a', 'b', 'c', 'd', 'e', 'f', 'g', 'h', 'i', 'j'] \n",
    "Expected Output- \n",
    "Mean score for each different student in data frame: \n",
    "13.5625\n"
   ]
  },
  {
   "cell_type": "code",
   "execution_count": 136,
   "metadata": {},
   "outputs": [
    {
     "name": "stdout",
     "output_type": "stream",
     "text": [
      "Mean score for each different student in a data frame:\n",
      " 13.5625\n"
     ]
    }
   ],
   "source": [
    "import pandas as pd\n",
    "exam_data = {'name': ['Anastasia', 'Dima', 'Katherine', 'James', 'Emily', 'Michael', 'Matthew', 'Laura', 'Kevin', 'Jonas'],\n",
    "'score': [12.5, 9, 16.5, np.nan, 9, 20, 14.5, np.nan, 8, 19],\n",
    "'attempts': [1, 3, 2, 3, 2, 3, 1, 1, 2, 1],\n",
    "'qualify': ['yes', 'no', 'yes', 'no', 'no', 'yes', 'yes', 'no', 'no', 'yes']}\n",
    "labels = ['a', 'b', 'c', 'd', 'e', 'f', 'g', 'h', 'i', 'j']\n",
    "df=pd.DataFrame(exam_data)\n",
    "print(\"Mean score for each different student in a data frame:\\n\",np.mean(df[\"score\"]))"
   ]
  },
  {
   "cell_type": "markdown",
   "metadata": {},
   "source": [
    "Q110. Write the Pandas program to rename columns of a given DataFrame ?\n",
    "Sample data-\n",
    "Original data frame \n",
    "   col1 col2 col3\n",
    "0   1    4    7\n",
    "1   2    5    8 \n",
    "2   3    6    9\n",
    "\n",
    "New data frame after renaming columns: \n",
    "   Column1 Column2 Column3\n",
    " 0    1      4       7 \n",
    " 1    2      5       8\n",
    " 2    3      6       9 "
   ]
  },
  {
   "cell_type": "code",
   "execution_count": 137,
   "metadata": {},
   "outputs": [
    {
     "name": "stdout",
     "output_type": "stream",
     "text": [
      "Original DataFrame :\n",
      "    col1  col2  col3\n",
      "0     1     4     7\n",
      "1     2     5     8\n",
      "2     3     6     9\n",
      "\n",
      "New data frame after renaming columns :\n",
      "    Column1  Column2  Column3\n",
      "0        1        4        7\n",
      "1        2        5        8\n",
      "2        3        6        9\n"
     ]
    }
   ],
   "source": [
    "import pandas as pd\n",
    "df=pd.DataFrame([[1,4,7],[2,5,8],[3,6,9]],columns=['col1','col2','col3'])\n",
    "print(\"Original DataFrame :\\n\",df)\n",
    "print(\"\\nNew data frame after renaming columns :\\n\",df.rename(columns={\"col1\":\"Column1\",\"col2\":\"Column2\",\"col3\":\"Column3\"}))"
   ]
  },
  {
   "cell_type": "markdown",
   "metadata": {},
   "source": [
    "Q111. Write a pandas program to count city-wise number of people from a given of data set (city, name of the person)?\n",
    "Sample data-\n",
    "   City  Number of people\n",
    "0   California                 4\n",
    "1      Georgia                 2\n",
    "2  Los Angeles                 4"
   ]
  },
  {
   "cell_type": "code",
   "execution_count": 138,
   "metadata": {},
   "outputs": [
    {
     "name": "stdout",
     "output_type": "stream",
     "text": [
      "          City  Number of people\n",
      "0   California                 4\n",
      "1      Georgia                 2\n",
      "2  Los Angeles                 4\n"
     ]
    }
   ],
   "source": [
    "import pandas as pd\n",
    "df1 = pd.DataFrame({'name': ['pavan', 'jithu', 'sravan','sandeep', 'prayank', 'Ajay', 'prashanth', 'jayavamshi', 'vignesh', 'immanual', ],\n",
    "'City': ['California', 'Georgia', 'Georgia','Los Angeles', 'California', 'California', 'California', 'Los Angeles', 'Los Angeles',  'Los Angeles']})\n",
    "print(df1.groupby([\"City\"]).size().reset_index(name='Number of people'))"
   ]
  },
  {
   "cell_type": "markdown",
   "metadata": {},
   "source": [
    "Q112. Write a pandas program to widen output display to see more columns?\n",
    "Sample data- \n",
    "Original DataFrame:\n",
    "    col1  col2  col3\n",
    "0     1     4     7\n",
    "1     4     5     8\n",
    "2     3     6     9\n",
    "3     4     7     0\n",
    "4     5     8     1"
   ]
  },
  {
   "cell_type": "code",
   "execution_count": 139,
   "metadata": {},
   "outputs": [
    {
     "name": "stdout",
     "output_type": "stream",
     "text": [
      "Original DataFrame:\n",
      "    col1  col2  col3\n",
      "0     1     4     7\n",
      "1     4     5     8\n",
      "2     3     6     9\n",
      "3     4     7     0\n",
      "4     5     8     1\n"
     ]
    }
   ],
   "source": [
    "import pandas as pd\n",
    "df = {'col1': [1, 4, 3, 4, 5], 'col2': [4, 5, 6, 7, 8], 'col3': [7, 8, 9, 0, 1]}\n",
    "df = pd.DataFrame(df)\n",
    "pd.set_option('display.max_rows', 500)\n",
    "pd.set_option('display.max_columns', 500)\n",
    "pd.set_option('display.width', 1000)\n",
    "print(\"Original DataFrame:\\n\",df)"
   ]
  },
  {
   "cell_type": "markdown",
   "metadata": {},
   "source": [
    "Q113. Write a pandas program to convert the data frame column type from string to DateTime?\n",
    "Sample data-\n",
    "String Date :\n",
    "   String Date\n",
    "0   3/11/2000\n",
    "1   3/12/2000\n",
    "2   3/13/2000\n",
    "\n",
    "Original DataFrame(string to datetime)-\n",
    "0   2000-03-11\n",
    "1   2000-03-12\n",
    "2   2000-03-13\n",
    "Name: String Date, dtype: datetime64[ns]"
   ]
  },
  {
   "cell_type": "code",
   "execution_count": 140,
   "metadata": {},
   "outputs": [
    {
     "name": "stdout",
     "output_type": "stream",
     "text": [
      "String Date :\n",
      "   String Date\n",
      "0   3/11/2000\n",
      "1   3/12/2000\n",
      "2   3/13/2000\n",
      "\n",
      "Original DataFrame(string to datetime)-\n",
      "0   2000-03-11\n",
      "1   2000-03-12\n",
      "2   2000-03-13\n",
      "Name: String Date, dtype: datetime64[ns]\n"
     ]
    }
   ],
   "source": [
    "import pandas as pd\n",
    "df=pd.DataFrame([['3/11/2000'],['3/12/2000'],['3/13/2000']],columns=[\"String Date\"])\n",
    "print(\"String Date :\\n\",df)\n",
    "print(\"\\nOriginal DataFrame(string to datetime)-\\n\",pd.to_datetime(df[\"String Date\"]),sep='')"
   ]
  },
  {
   "cell_type": "markdown",
   "metadata": {},
   "source": [
    "Q114. Write a pandas program to append the data to an empty DataFrame?\n",
    "Sample data-\n",
    "Original DataFrame- After appending some data :\n",
    "    col1  col2\n",
    "0     0     0\n",
    "1     1     1\n",
    "2     2     2"
   ]
  },
  {
   "cell_type": "code",
   "execution_count": 141,
   "metadata": {},
   "outputs": [
    {
     "name": "stdout",
     "output_type": "stream",
     "text": [
      "\n",
      "Original DataFrame- After appending some data :\n",
      "    col1  col2\n",
      "0     0     0\n",
      "1     1     1\n",
      "2     2     2\n"
     ]
    }
   ],
   "source": [
    "import pandas as pd\n",
    "df=pd.DataFrame()\n",
    "df1=pd.DataFrame({\"col1\":range(3),\"col2\":range(3)})\n",
    "print(\"\\nOriginal DataFrame- After appending some data :\\n\",df.append(df1))\n"
   ]
  },
  {
   "cell_type": "markdown",
   "metadata": {},
   "source": [
    "Q115. Write a pandas program to count the number of columns of a DataFrame?\n",
    "Sample Output- \n",
    "Original DataFrame :\n",
    "    col1  col2  col3\n",
    "0     1     4     7\n",
    "1     2     5     8\n",
    "2     3     6    12\n",
    "3     4     9     1\n",
    "4     7     5    11\n",
    "\n",
    "Number of columns : 3"
   ]
  },
  {
   "cell_type": "code",
   "execution_count": 142,
   "metadata": {},
   "outputs": [
    {
     "name": "stdout",
     "output_type": "stream",
     "text": [
      "Original DataFrame :\n",
      "    col1  col2  col3\n",
      "0     1     4     7\n",
      "1     2     5     8\n",
      "2     3     6    12\n",
      "3     4     9     1\n",
      "4     7     5    11\n",
      "\n",
      "Number of columns : 3\n"
     ]
    }
   ],
   "source": [
    "import pandas as pd\n",
    "df1=pd.DataFrame({\"col1\":[1,2,3,4,7],\"col2\":[4,5,6,9,5],\"col3\":[7,8,12,1,11]})\n",
    "print(\"Original DataFrame :\\n\",df1)\n",
    "print(\"\\nNumber of columns :\",len(df1.columns))"
   ]
  },
  {
   "cell_type": "markdown",
   "metadata": {},
   "source": [
    "Q116. Write a Pandas program to remove the last n rows of a given DataFrame ?\n",
    "Sample Output:\n",
    "Original DataFrame :\n",
    "    col1  col2  col3\n",
    "0     1     4     7\n",
    "1     2     5     5\n",
    "2     3     6     8\n",
    "3     4     9    12\n",
    "4     7     5     1\n",
    "5    11     0    11\n",
    "\n",
    "After removing last 3 rows of the said DataFrame :\n",
    "    col1  col2  col3\n",
    "0     1     4     7\n",
    "1     2     5     5\n",
    "2     3     6     8"
   ]
  },
  {
   "cell_type": "code",
   "execution_count": 143,
   "metadata": {},
   "outputs": [
    {
     "name": "stdout",
     "output_type": "stream",
     "text": [
      "Original DataFrame :\n",
      "    col1  col2  col3\n",
      "0     1     4     7\n",
      "1     2     5     5\n",
      "2     3     6     8\n",
      "3     4     9    12\n",
      "4     7     5     1\n",
      "5    11     0    11\n",
      "\n",
      "After removing last 3 rows of the said DataFrame :\n",
      "    col1  col2  col3\n",
      "0     1     4     7\n",
      "1     2     5     5\n",
      "2     3     6     8\n"
     ]
    }
   ],
   "source": [
    "import pandas as pd\n",
    "df1=pd.DataFrame({\"col1\":[1,2,3,4,7,11],\"col2\":[4,5,6,9,5,0],\"col3\":[7,5,8,12,1,11]})\n",
    "print(\"Original DataFrame :\\n\",df1)\n",
    "print(\"\\nAfter removing last 3 rows of the said DataFrame :\\n\",df1.iloc[:3])\n"
   ]
  },
  {
   "cell_type": "markdown",
   "metadata": {},
   "source": [
    "Q117. Write a Pandas program to import excel data (coalpublic2013.xlsx ) into a Pandas data frame.\n"
   ]
  },
  {
   "cell_type": "code",
   "execution_count": 144,
   "metadata": {},
   "outputs": [
    {
     "data": {
      "text/html": [
       "<div>\n",
       "<style scoped>\n",
       "    .dataframe tbody tr th:only-of-type {\n",
       "        vertical-align: middle;\n",
       "    }\n",
       "\n",
       "    .dataframe tbody tr th {\n",
       "        vertical-align: top;\n",
       "    }\n",
       "\n",
       "    .dataframe thead th {\n",
       "        text-align: right;\n",
       "    }\n",
       "</style>\n",
       "<table border=\"1\" class=\"dataframe\">\n",
       "  <thead>\n",
       "    <tr style=\"text-align: right;\">\n",
       "      <th></th>\n",
       "      <th>Year</th>\n",
       "      <th>MSHA ID</th>\n",
       "      <th>Mine_Name</th>\n",
       "      <th>Production</th>\n",
       "      <th>Labor_Hours</th>\n",
       "    </tr>\n",
       "  </thead>\n",
       "  <tbody>\n",
       "    <tr>\n",
       "      <td>0</td>\n",
       "      <td>2013</td>\n",
       "      <td>103381</td>\n",
       "      <td>Tacoa Highwall Miner</td>\n",
       "      <td>56004</td>\n",
       "      <td>22392</td>\n",
       "    </tr>\n",
       "    <tr>\n",
       "      <td>1</td>\n",
       "      <td>2013</td>\n",
       "      <td>103404</td>\n",
       "      <td>Reid School Mine</td>\n",
       "      <td>28807</td>\n",
       "      <td>28447</td>\n",
       "    </tr>\n",
       "    <tr>\n",
       "      <td>2</td>\n",
       "      <td>2013</td>\n",
       "      <td>100759</td>\n",
       "      <td>North River #1 Underground Min</td>\n",
       "      <td>1440115</td>\n",
       "      <td>474784</td>\n",
       "    </tr>\n",
       "    <tr>\n",
       "      <td>3</td>\n",
       "      <td>2013</td>\n",
       "      <td>103246</td>\n",
       "      <td>Bear Creek</td>\n",
       "      <td>87587</td>\n",
       "      <td>29193</td>\n",
       "    </tr>\n",
       "    <tr>\n",
       "      <td>4</td>\n",
       "      <td>2013</td>\n",
       "      <td>103451</td>\n",
       "      <td>Knight Mine</td>\n",
       "      <td>147499</td>\n",
       "      <td>46393</td>\n",
       "    </tr>\n",
       "    <tr>\n",
       "      <td>5</td>\n",
       "      <td>2013</td>\n",
       "      <td>103433</td>\n",
       "      <td>Crane Central Mine</td>\n",
       "      <td>69339</td>\n",
       "      <td>47195</td>\n",
       "    </tr>\n",
       "    <tr>\n",
       "      <td>6</td>\n",
       "      <td>2013</td>\n",
       "      <td>100329</td>\n",
       "      <td>Concord Mine</td>\n",
       "      <td>0</td>\n",
       "      <td>144002</td>\n",
       "    </tr>\n",
       "    <tr>\n",
       "      <td>7</td>\n",
       "      <td>2013</td>\n",
       "      <td>100851</td>\n",
       "      <td>Oak Grove Mine</td>\n",
       "      <td>2269014</td>\n",
       "      <td>1001809</td>\n",
       "    </tr>\n",
       "    <tr>\n",
       "      <td>8</td>\n",
       "      <td>2013</td>\n",
       "      <td>102901</td>\n",
       "      <td>Shoal Creek Mine</td>\n",
       "      <td>0</td>\n",
       "      <td>12396</td>\n",
       "    </tr>\n",
       "    <tr>\n",
       "      <td>9</td>\n",
       "      <td>2013</td>\n",
       "      <td>102901</td>\n",
       "      <td>Shoal Creek Mine</td>\n",
       "      <td>1453024</td>\n",
       "      <td>1237415</td>\n",
       "    </tr>\n",
       "  </tbody>\n",
       "</table>\n",
       "</div>"
      ],
      "text/plain": [
       "   Year  MSHA ID                       Mine_Name  Production  Labor_Hours\n",
       "0  2013   103381            Tacoa Highwall Miner       56004        22392\n",
       "1  2013   103404                Reid School Mine       28807        28447\n",
       "2  2013   100759  North River #1 Underground Min     1440115       474784\n",
       "3  2013   103246                      Bear Creek       87587        29193\n",
       "4  2013   103451                     Knight Mine      147499        46393\n",
       "5  2013   103433              Crane Central Mine       69339        47195\n",
       "6  2013   100329                    Concord Mine           0       144002\n",
       "7  2013   100851                  Oak Grove Mine     2269014      1001809\n",
       "8  2013   102901                Shoal Creek Mine           0        12396\n",
       "9  2013   102901                Shoal Creek Mine     1453024      1237415"
      ]
     },
     "execution_count": 144,
     "metadata": {},
     "output_type": "execute_result"
    }
   ],
   "source": [
    "import pandas as pd\n",
    "import numpy as np\n",
    "ed=pd.read_excel('C:/Users/Thanniru Srinivas/Desktop/ineuron ml course/py sub and obj/data for subjective questions/coalpublic2013.xlsx')\n",
    "ed.head(10)"
   ]
  },
  {
   "cell_type": "markdown",
   "metadata": {},
   "source": [
    "Q118. Write a Pandas program to import excel data (coalpublic2013.xlsx ) into a data frame and find details where \"Mine Name\" starts with \"P.\n"
   ]
  },
  {
   "cell_type": "code",
   "execution_count": 145,
   "metadata": {},
   "outputs": [
    {
     "data": {
      "text/html": [
       "<div>\n",
       "<style scoped>\n",
       "    .dataframe tbody tr th:only-of-type {\n",
       "        vertical-align: middle;\n",
       "    }\n",
       "\n",
       "    .dataframe tbody tr th {\n",
       "        vertical-align: top;\n",
       "    }\n",
       "\n",
       "    .dataframe thead th {\n",
       "        text-align: right;\n",
       "    }\n",
       "</style>\n",
       "<table border=\"1\" class=\"dataframe\">\n",
       "  <thead>\n",
       "    <tr style=\"text-align: right;\">\n",
       "      <th></th>\n",
       "      <th>Year</th>\n",
       "      <th>MSHA ID</th>\n",
       "      <th>Mine_Name</th>\n",
       "      <th>Production</th>\n",
       "      <th>Labor_Hours</th>\n",
       "    </tr>\n",
       "  </thead>\n",
       "  <tbody>\n",
       "    <tr>\n",
       "      <td>13</td>\n",
       "      <td>2013</td>\n",
       "      <td>103332</td>\n",
       "      <td>Powhatan Mine</td>\n",
       "      <td>140521</td>\n",
       "      <td>61394</td>\n",
       "    </tr>\n",
       "    <tr>\n",
       "      <td>18</td>\n",
       "      <td>2013</td>\n",
       "      <td>102976</td>\n",
       "      <td>Piney Woods Preparation Plant</td>\n",
       "      <td>0</td>\n",
       "      <td>14828</td>\n",
       "    </tr>\n",
       "    <tr>\n",
       "      <td>19</td>\n",
       "      <td>2013</td>\n",
       "      <td>102976</td>\n",
       "      <td>Piney Woods Preparation Plant</td>\n",
       "      <td>0</td>\n",
       "      <td>23193</td>\n",
       "    </tr>\n",
       "    <tr>\n",
       "      <td>46</td>\n",
       "      <td>2013</td>\n",
       "      <td>103321</td>\n",
       "      <td>Poplar Springs</td>\n",
       "      <td>189370</td>\n",
       "      <td>76366</td>\n",
       "    </tr>\n",
       "  </tbody>\n",
       "</table>\n",
       "</div>"
      ],
      "text/plain": [
       "    Year  MSHA ID                      Mine_Name  Production  Labor_Hours\n",
       "13  2013   103332                  Powhatan Mine      140521        61394\n",
       "18  2013   102976  Piney Woods Preparation Plant           0        14828\n",
       "19  2013   102976  Piney Woods Preparation Plant           0        23193\n",
       "46  2013   103321                 Poplar Springs      189370        76366"
      ]
     },
     "execution_count": 145,
     "metadata": {},
     "output_type": "execute_result"
    }
   ],
   "source": [
    "import pandas as pd\n",
    "import numpy as np\n",
    "ed=pd.read_excel('C:/Users/Thanniru Srinivas/Desktop/ineuron ml course/py sub and obj/data for subjective questions/coalpublic2013.xlsx')\n",
    "ed[ed['Mine_Name'].map(lambda x:x.startswith('P'))]"
   ]
  },
  {
   "cell_type": "markdown",
   "metadata": {},
   "source": [
    "Q119. Write a Pandas program to import excel data (employee.xlsx ) into a Pandas dataframe and find the list of employees where hire_date> 01-01-07.\n"
   ]
  },
  {
   "cell_type": "code",
   "execution_count": 146,
   "metadata": {},
   "outputs": [
    {
     "data": {
      "text/html": [
       "<div>\n",
       "<style scoped>\n",
       "    .dataframe tbody tr th:only-of-type {\n",
       "        vertical-align: middle;\n",
       "    }\n",
       "\n",
       "    .dataframe tbody tr th {\n",
       "        vertical-align: top;\n",
       "    }\n",
       "\n",
       "    .dataframe thead th {\n",
       "        text-align: right;\n",
       "    }\n",
       "</style>\n",
       "<table border=\"1\" class=\"dataframe\">\n",
       "  <thead>\n",
       "    <tr style=\"text-align: right;\">\n",
       "      <th></th>\n",
       "      <th>emp_id</th>\n",
       "      <th>first_name</th>\n",
       "      <th>last_name</th>\n",
       "      <th>hire_date</th>\n",
       "    </tr>\n",
       "  </thead>\n",
       "  <tbody>\n",
       "    <tr>\n",
       "      <td>4</td>\n",
       "      <td>104</td>\n",
       "      <td>Bruce</td>\n",
       "      <td>Ernst</td>\n",
       "      <td>2007-05-21</td>\n",
       "    </tr>\n",
       "    <tr>\n",
       "      <td>7</td>\n",
       "      <td>107</td>\n",
       "      <td>Diana</td>\n",
       "      <td>Lorentz</td>\n",
       "      <td>2007-02-07</td>\n",
       "    </tr>\n",
       "    <tr>\n",
       "      <td>13</td>\n",
       "      <td>113</td>\n",
       "      <td>Luis</td>\n",
       "      <td>Popp</td>\n",
       "      <td>2007-12-07</td>\n",
       "    </tr>\n",
       "    <tr>\n",
       "      <td>19</td>\n",
       "      <td>119</td>\n",
       "      <td>Karen</td>\n",
       "      <td>Colmenares</td>\n",
       "      <td>2007-08-10</td>\n",
       "    </tr>\n",
       "  </tbody>\n",
       "</table>\n",
       "</div>"
      ],
      "text/plain": [
       "    emp_id first_name   last_name  hire_date\n",
       "4      104      Bruce       Ernst 2007-05-21\n",
       "7      107      Diana     Lorentz 2007-02-07\n",
       "13     113       Luis        Popp 2007-12-07\n",
       "19     119      Karen  Colmenares 2007-08-10"
      ]
     },
     "execution_count": 146,
     "metadata": {},
     "output_type": "execute_result"
    }
   ],
   "source": [
    "import pandas as pd\n",
    "import numpy as np\n",
    "ed=pd.read_excel('C:/Users/Thanniru Srinivas/Desktop/ineuron ml course/py sub and obj/data for subjective questions/employee.xlsx')\n",
    "ed[ed['hire_date']> pd.to_datetime('2007-01-01')]"
   ]
  },
  {
   "cell_type": "markdown",
   "metadata": {},
   "source": [
    "Q120. Write a Pandas program to import excel data (employee.xlsx ) into a Pandas dataframe and find a list of the employees of a specified year\n"
   ]
  },
  {
   "cell_type": "code",
   "execution_count": 147,
   "metadata": {},
   "outputs": [
    {
     "data": {
      "text/html": [
       "<div>\n",
       "<style scoped>\n",
       "    .dataframe tbody tr th:only-of-type {\n",
       "        vertical-align: middle;\n",
       "    }\n",
       "\n",
       "    .dataframe tbody tr th {\n",
       "        vertical-align: top;\n",
       "    }\n",
       "\n",
       "    .dataframe thead th {\n",
       "        text-align: right;\n",
       "    }\n",
       "</style>\n",
       "<table border=\"1\" class=\"dataframe\">\n",
       "  <thead>\n",
       "    <tr style=\"text-align: right;\">\n",
       "      <th></th>\n",
       "      <th>emp_id</th>\n",
       "      <th>first_name</th>\n",
       "      <th>last_name</th>\n",
       "    </tr>\n",
       "    <tr>\n",
       "      <th>hire_date</th>\n",
       "      <th></th>\n",
       "      <th></th>\n",
       "      <th></th>\n",
       "    </tr>\n",
       "  </thead>\n",
       "  <tbody>\n",
       "    <tr>\n",
       "      <td>2005-09-21</td>\n",
       "      <td>101</td>\n",
       "      <td>Neena</td>\n",
       "      <td>Kochhar</td>\n",
       "    </tr>\n",
       "    <tr>\n",
       "      <td>2005-06-25</td>\n",
       "      <td>105</td>\n",
       "      <td>David</td>\n",
       "      <td>Austin</td>\n",
       "    </tr>\n",
       "    <tr>\n",
       "      <td>2005-09-28</td>\n",
       "      <td>110</td>\n",
       "      <td>John</td>\n",
       "      <td>Chen</td>\n",
       "    </tr>\n",
       "    <tr>\n",
       "      <td>2005-09-30</td>\n",
       "      <td>111</td>\n",
       "      <td>Ismael</td>\n",
       "      <td>Sciarra</td>\n",
       "    </tr>\n",
       "    <tr>\n",
       "      <td>2005-12-24</td>\n",
       "      <td>116</td>\n",
       "      <td>Shelli</td>\n",
       "      <td>Baida</td>\n",
       "    </tr>\n",
       "    <tr>\n",
       "      <td>2005-07-24</td>\n",
       "      <td>117</td>\n",
       "      <td>Sigal</td>\n",
       "      <td>Tobias</td>\n",
       "    </tr>\n",
       "  </tbody>\n",
       "</table>\n",
       "</div>"
      ],
      "text/plain": [
       "            emp_id first_name last_name\n",
       "hire_date                              \n",
       "2005-09-21     101      Neena   Kochhar\n",
       "2005-06-25     105      David    Austin\n",
       "2005-09-28     110       John      Chen\n",
       "2005-09-30     111     Ismael   Sciarra\n",
       "2005-12-24     116     Shelli     Baida\n",
       "2005-07-24     117      Sigal    Tobias"
      ]
     },
     "execution_count": 147,
     "metadata": {},
     "output_type": "execute_result"
    }
   ],
   "source": [
    "\n",
    "import pandas as pd\n",
    "import numpy as np\n",
    "ed=pd.read_excel('C:/Users/Thanniru Srinivas/Desktop/ineuron ml course/py sub and obj/data for subjective questions/employee.xlsx')\n",
    "df=ed.set_index('hire_date')\n",
    "result=df['2005']\n",
    "result"
   ]
  },
  {
   "cell_type": "markdown",
   "metadata": {},
   "source": [
    "Q121. Write a pandas program to import three datasheets from a given excel data (coalpublic2013.xlsx ) in to a single dataframe. Note: Structure of three datasheets are same.\n"
   ]
  },
  {
   "cell_type": "code",
   "execution_count": 148,
   "metadata": {},
   "outputs": [
    {
     "name": "stdout",
     "output_type": "stream",
     "text": [
      "    emp_id   first_name    last_name  hire_date\n",
      "0      100       Steven         King 2003-06-17\n",
      "1      101        Neena      Kochhar 2005-09-21\n",
      "2      102          Lex      De Haan 2001-01-13\n",
      "3      103    Alexander       Hunold 2006-01-03\n",
      "4      104        Bruce        Ernst 2007-05-21\n",
      "5      105        David       Austin 2005-06-25\n",
      "6      106        Valli    Pataballa 2006-02-05\n",
      "7      107        Diana      Lorentz 2007-02-07\n",
      "8      108        Nancy    Greenberg 2002-08-17\n",
      "9      109       Daniel       Faviet 2002-08-16\n",
      "10     110         John         Chen 2005-09-28\n",
      "11     111       Ismael      Sciarra 2005-09-30\n",
      "12     112  Jose Manuel        Urman 2006-03-07\n",
      "13     113         Luis         Popp 2007-12-07\n",
      "14     114          Den     Raphaely 2002-12-07\n",
      "15     115    Alexander         Khoo 2003-05-18\n",
      "16     116       Shelli        Baida 2005-12-24\n",
      "17     117        Sigal       Tobias 2005-07-24\n",
      "18     118          Guy       Himuro 2006-11-15\n",
      "19     119        Karen   Colmenares 2007-08-10\n",
      "0      120      Matthew        Weiss 2004-07-18\n",
      "1      121         Adam        Fripp 2005-04-10\n",
      "2      122        Payam     Kaufling 2003-05-01\n",
      "3      123       Shanta      Vollman 2005-10-10\n",
      "4      124        Kevin      Mourgos 2007-11-16\n",
      "5      125        Julia        Nayer 2005-07-16\n",
      "6      126        Irene  Mikkilineni 2006-09-28\n",
      "7      127        James       Landry 2007-01-14\n",
      "8      128       Steven       Markle 2008-03-08\n",
      "9      129        Laura       Bissot 2005-08-20\n",
      "10     130        Mozhe     Atkinson 2005-10-30\n",
      "11     131        James       Marlow 2005-02-16\n",
      "12     132           TJ        Olson 2007-04-10\n",
      "13     133        Jason       Mallin 2004-06-14\n",
      "14     134      Michael       Rogers 2006-08-26\n",
      "15     135           Ki          Gee 2007-12-12\n",
      "16     136        Hazel   Philtanker 2008-02-06\n",
      "17     137       Renske       Ladwig 2003-07-14\n",
      "18     138      Stephen       Stiles 2005-10-26\n",
      "0      141       Trenna         Rajs 2003-10-17\n",
      "1      142       Curtis       Davies 2005-01-29\n",
      "2      143      Randall        Matos 2006-03-15\n",
      "3      144        Peter       Vargas 2006-07-09\n",
      "4      145         John      Russell 2004-10-01\n",
      "5      146        Karen     Partners 2005-01-05\n",
      "6      147      Alberto    Errazuriz 2005-03-10\n",
      "7      148       Gerald    Cambrault 2007-10-15\n",
      "8      149        Eleni      Zlotkey 2008-01-29\n"
     ]
    }
   ],
   "source": [
    "import pandas as pd\n",
    "df1=pd.read_excel('C:/Users/Thanniru Srinivas/Desktop/ineuron ml course/py sub and obj/data for subjective questions/employee.xlsx',sheet_name='Sheet1')\n",
    "df2=pd.read_excel('C:/Users/Thanniru Srinivas/Desktop/ineuron ml course/py sub and obj/data for subjective questions/employee.xlsx',sheet_name='Sheet2')\n",
    "df3=pd.read_excel('C:/Users/Thanniru Srinivas/Desktop/ineuron ml course/py sub and obj/data for subjective questions/employee.xlsx',sheet_name='Sheet3')\n",
    "print(pd.concat([df1,df2,df3]))\n"
   ]
  },
  {
   "cell_type": "markdown",
   "metadata": {},
   "source": [
    "Q 122. Write a pandas program to import three datasheets from a given excel data (employee.xlsx ) into a single data frame and export the result into new Excel file. Note: Structure of three datasheets are same.\n"
   ]
  },
  {
   "cell_type": "code",
   "execution_count": 149,
   "metadata": {},
   "outputs": [],
   "source": [
    "import pandas as pd\n",
    "df1=pd.read_excel('C:/Users/Thanniru Srinivas/Desktop/ineuron ml course/py sub and obj/data for subjective questions/employee.xlsx',sheet_name='Sheet1')\n",
    "df2=pd.read_excel('C:/Users/Thanniru Srinivas/Desktop/ineuron ml course/py sub and obj/data for subjective questions/employee.xlsx',sheet_name='Sheet2')\n",
    "df3=pd.read_excel('C:/Users/Thanniru Srinivas/Desktop/ineuron ml course/py sub and obj/data for subjective questions/employee.xlsx',sheet_name='Sheet3')\n",
    "df=pd.concat([df1,df2,df3])\n",
    "df.to_excel('C:/Users/Thanniru Srinivas/Desktop/ineuron ml course/py sub and obj/data for subjective questions/employeenew.xlsx',index=False)\n"
   ]
  },
  {
   "cell_type": "markdown",
   "metadata": {},
   "source": [
    "Q123. Write a pandas program to create the Pivot table with multiple indexes from the data set of the titanic.csv.\n",
    "\n"
   ]
  },
  {
   "cell_type": "code",
   "execution_count": 150,
   "metadata": {},
   "outputs": [
    {
     "data": {
      "text/html": [
       "<div>\n",
       "<style scoped>\n",
       "    .dataframe tbody tr th:only-of-type {\n",
       "        vertical-align: middle;\n",
       "    }\n",
       "\n",
       "    .dataframe tbody tr th {\n",
       "        vertical-align: top;\n",
       "    }\n",
       "\n",
       "    .dataframe thead th {\n",
       "        text-align: right;\n",
       "    }\n",
       "</style>\n",
       "<table border=\"1\" class=\"dataframe\">\n",
       "  <thead>\n",
       "    <tr style=\"text-align: right;\">\n",
       "      <th></th>\n",
       "      <th></th>\n",
       "      <th>adult_male</th>\n",
       "      <th>age</th>\n",
       "      <th>alone</th>\n",
       "      <th>fare</th>\n",
       "      <th>parch</th>\n",
       "      <th>sibsp</th>\n",
       "    </tr>\n",
       "    <tr>\n",
       "      <th>survived</th>\n",
       "      <th>pclass</th>\n",
       "      <th></th>\n",
       "      <th></th>\n",
       "      <th></th>\n",
       "      <th></th>\n",
       "      <th></th>\n",
       "      <th></th>\n",
       "    </tr>\n",
       "  </thead>\n",
       "  <tbody>\n",
       "    <tr>\n",
       "      <td rowspan=\"3\" valign=\"top\">0</td>\n",
       "      <td>1</td>\n",
       "      <td>0.962500</td>\n",
       "      <td>43.695312</td>\n",
       "      <td>0.637500</td>\n",
       "      <td>64.684008</td>\n",
       "      <td>0.300000</td>\n",
       "      <td>0.287500</td>\n",
       "    </tr>\n",
       "    <tr>\n",
       "      <td>2</td>\n",
       "      <td>0.938144</td>\n",
       "      <td>33.544444</td>\n",
       "      <td>0.701031</td>\n",
       "      <td>19.412328</td>\n",
       "      <td>0.144330</td>\n",
       "      <td>0.319588</td>\n",
       "    </tr>\n",
       "    <tr>\n",
       "      <td>3</td>\n",
       "      <td>0.755376</td>\n",
       "      <td>26.555556</td>\n",
       "      <td>0.685484</td>\n",
       "      <td>13.669364</td>\n",
       "      <td>0.384409</td>\n",
       "      <td>0.672043</td>\n",
       "    </tr>\n",
       "    <tr>\n",
       "      <td rowspan=\"3\" valign=\"top\">1</td>\n",
       "      <td>1</td>\n",
       "      <td>0.308824</td>\n",
       "      <td>35.368197</td>\n",
       "      <td>0.426471</td>\n",
       "      <td>95.608029</td>\n",
       "      <td>0.389706</td>\n",
       "      <td>0.492647</td>\n",
       "    </tr>\n",
       "    <tr>\n",
       "      <td>2</td>\n",
       "      <td>0.091954</td>\n",
       "      <td>25.901566</td>\n",
       "      <td>0.413793</td>\n",
       "      <td>22.055700</td>\n",
       "      <td>0.643678</td>\n",
       "      <td>0.494253</td>\n",
       "    </tr>\n",
       "    <tr>\n",
       "      <td>3</td>\n",
       "      <td>0.319328</td>\n",
       "      <td>20.646118</td>\n",
       "      <td>0.579832</td>\n",
       "      <td>13.694887</td>\n",
       "      <td>0.420168</td>\n",
       "      <td>0.436975</td>\n",
       "    </tr>\n",
       "  </tbody>\n",
       "</table>\n",
       "</div>"
      ],
      "text/plain": [
       "                 adult_male        age     alone       fare     parch     sibsp\n",
       "survived pclass                                                                \n",
       "0        1         0.962500  43.695312  0.637500  64.684008  0.300000  0.287500\n",
       "         2         0.938144  33.544444  0.701031  19.412328  0.144330  0.319588\n",
       "         3         0.755376  26.555556  0.685484  13.669364  0.384409  0.672043\n",
       "1        1         0.308824  35.368197  0.426471  95.608029  0.389706  0.492647\n",
       "         2         0.091954  25.901566  0.413793  22.055700  0.643678  0.494253\n",
       "         3         0.319328  20.646118  0.579832  13.694887  0.420168  0.436975"
      ]
     },
     "execution_count": 150,
     "metadata": {},
     "output_type": "execute_result"
    }
   ],
   "source": [
    "import pandas as pd\n",
    "ed=pd.read_csv('C:/Users/Thanniru Srinivas/Desktop/ineuron ml course/py sub and obj/data for subjective questions/titanic.csv')\n",
    "ed.pivot_table(ed,index=['survived','pclass'])"
   ]
  },
  {
   "cell_type": "markdown",
   "metadata": {},
   "source": [
    "Q124. Write a Pandas program to create the Pivot table and find survival rate by gender? \n"
   ]
  },
  {
   "cell_type": "code",
   "execution_count": 151,
   "metadata": {},
   "outputs": [
    {
     "data": {
      "text/html": [
       "<div>\n",
       "<style scoped>\n",
       "    .dataframe tbody tr th:only-of-type {\n",
       "        vertical-align: middle;\n",
       "    }\n",
       "\n",
       "    .dataframe tbody tr th {\n",
       "        vertical-align: top;\n",
       "    }\n",
       "\n",
       "    .dataframe thead th {\n",
       "        text-align: right;\n",
       "    }\n",
       "</style>\n",
       "<table border=\"1\" class=\"dataframe\">\n",
       "  <thead>\n",
       "    <tr style=\"text-align: right;\">\n",
       "      <th></th>\n",
       "      <th>survived</th>\n",
       "    </tr>\n",
       "    <tr>\n",
       "      <th>sex</th>\n",
       "      <th></th>\n",
       "    </tr>\n",
       "  </thead>\n",
       "  <tbody>\n",
       "    <tr>\n",
       "      <td>female</td>\n",
       "      <td>0.742038</td>\n",
       "    </tr>\n",
       "    <tr>\n",
       "      <td>male</td>\n",
       "      <td>0.188908</td>\n",
       "    </tr>\n",
       "  </tbody>\n",
       "</table>\n",
       "</div>"
      ],
      "text/plain": [
       "        survived\n",
       "sex             \n",
       "female  0.742038\n",
       "male    0.188908"
      ]
     },
     "execution_count": 151,
     "metadata": {},
     "output_type": "execute_result"
    }
   ],
   "source": [
    "import pandas as pd\n",
    "ed=pd.read_csv('C:/Users/Thanniru Srinivas/Desktop/ineuron ml course/py sub and obj/data for subjective questions/titanic.csv')\n",
    "ed.pivot_table('survived',index=['sex'])"
   ]
  },
  {
   "cell_type": "markdown",
   "metadata": {},
   "source": [
    "Q125. Write a pandas program to make partition each of the passengers into 4 categories based on their age. Note: Age categories- (0, 10), (10, 30), (30, 60), (60, 80)"
   ]
  },
  {
   "cell_type": "code",
   "execution_count": 153,
   "metadata": {},
   "outputs": [
    {
     "name": "stdout",
     "output_type": "stream",
     "text": [
      "Age group:  (0, 10]\n",
      "    survived  pclass     sex  age  sibsp  parch     fare embarked   class    who  adult_male deck  embark_town alive  alone  Unnamed: 15\n",
      "7          0       3    male  2.0      3      1  21.0750        S   Third  child       False  NaN  Southampton    no  False          NaN\n",
      "10         1       3  female  4.0      1      1  16.7000        S   Third  child       False    G  Southampton   yes  False          NaN\n",
      "16         0       3    male  2.0      4      1  29.1250        Q   Third  child       False  NaN   Queenstown    no  False          NaN\n",
      "24         0       3  female  8.0      3      1  21.0750        S   Third  child       False  NaN  Southampton    no  False          NaN\n",
      "43         1       2  female  3.0      1      2  41.5792        C  Second  child       False  NaN    Cherbourg   yes  False          NaN\n",
      "\n",
      "\n",
      "\n",
      "\n",
      "Age group:  (10, 30]\n",
      "    survived  pclass     sex   age  sibsp  parch     fare embarked   class    who  adult_male deck  embark_town alive  alone  Unnamed: 15\n",
      "0          0       3    male  22.0      1      0   7.2500        S   Third    man        True  NaN  Southampton    no  False          NaN\n",
      "2          1       3  female  26.0      0      0   7.9250        S   Third  woman       False  NaN  Southampton   yes   True          NaN\n",
      "8          1       3  female  27.0      0      2  11.1333        S   Third  woman       False  NaN  Southampton   yes  False          NaN\n",
      "9          1       2  female  14.0      1      0  30.0708        C  Second  child       False  NaN    Cherbourg   yes  False          NaN\n",
      "12         0       3    male  20.0      0      0   8.0500        S   Third    man        True  NaN  Southampton    no   True          NaN\n",
      "\n",
      "\n",
      "\n",
      "\n",
      "Age group:  (30, 60]\n",
      "    survived  pclass     sex   age  sibsp  parch     fare embarked  class    who  adult_male deck  embark_town alive  alone  Unnamed: 15\n",
      "1          1       1  female  38.0      1      0  71.2833        C  First  woman       False    C    Cherbourg   yes  False          NaN\n",
      "3          1       1  female  35.0      1      0  53.1000        S  First  woman       False    C  Southampton   yes  False          NaN\n",
      "4          0       3    male  35.0      0      0   8.0500        S  Third    man        True  NaN  Southampton    no   True          NaN\n",
      "6          0       1    male  54.0      0      0  51.8625        S  First    man        True    E  Southampton    no   True          NaN\n",
      "11         1       1  female  58.0      0      0  26.5500        S  First  woman       False    C  Southampton   yes   True          NaN\n",
      "\n",
      "\n",
      "\n",
      "\n",
      "Age group:  (60, 80]\n",
      "     survived  pclass   sex   age  sibsp  parch     fare embarked   class  who  adult_male deck  embark_town alive  alone  Unnamed: 15\n",
      "33          0       2  male  66.0      0      0  10.5000        S  Second  man        True  NaN  Southampton    no   True          NaN\n",
      "54          0       1  male  65.0      0      1  61.9792        C   First  man        True    B    Cherbourg    no  False          NaN\n",
      "96          0       1  male  71.0      0      0  34.6542        C   First  man        True    A    Cherbourg    no   True          NaN\n",
      "116         0       3  male  70.5      0      0   7.7500        Q   Third  man        True  NaN   Queenstown    no   True          NaN\n",
      "170         0       1  male  61.0      0      0  33.5000        S   First  man        True    B  Southampton    no   True          NaN\n",
      "\n",
      "\n",
      "\n",
      "\n"
     ]
    }
   ],
   "source": [
    "import pandas as pd\n",
    "ed=pd.read_csv('C:/Users/Thanniru Srinivas/Desktop/ineuron ml course/py sub and obj/data for subjective questions/titanic.csv')\n",
    "age=pd.cut(ed['age'],[0,10,30,60,80])\n",
    "ed.groupby(age)\n",
    "\n",
    "for age, frame in ed.groupby(age):\n",
    "    print(\"Age group: \",age)\n",
    "    print(frame.head())\n",
    "    print('\\n\\n\\n')"
   ]
  },
  {
   "cell_type": "markdown",
   "metadata": {},
   "source": [
    "Q126. Write a pandas program to create the Pivot table and find survival rate by the gender, age of the different categories of various classes.\n"
   ]
  },
  {
   "cell_type": "code",
   "execution_count": 154,
   "metadata": {},
   "outputs": [
    {
     "data": {
      "text/html": [
       "<div>\n",
       "<style scoped>\n",
       "    .dataframe tbody tr th:only-of-type {\n",
       "        vertical-align: middle;\n",
       "    }\n",
       "\n",
       "    .dataframe tbody tr th {\n",
       "        vertical-align: top;\n",
       "    }\n",
       "\n",
       "    .dataframe thead th {\n",
       "        text-align: right;\n",
       "    }\n",
       "</style>\n",
       "<table border=\"1\" class=\"dataframe\">\n",
       "  <thead>\n",
       "    <tr style=\"text-align: right;\">\n",
       "      <th></th>\n",
       "      <th>class</th>\n",
       "      <th>First</th>\n",
       "      <th>Second</th>\n",
       "      <th>Third</th>\n",
       "    </tr>\n",
       "    <tr>\n",
       "      <th>sex</th>\n",
       "      <th>age</th>\n",
       "      <th></th>\n",
       "      <th></th>\n",
       "      <th></th>\n",
       "    </tr>\n",
       "  </thead>\n",
       "  <tbody>\n",
       "    <tr>\n",
       "      <td rowspan=\"7\" valign=\"top\">female</td>\n",
       "      <td>(0, 10]</td>\n",
       "      <td>0.000000</td>\n",
       "      <td>1.000000</td>\n",
       "      <td>0.500000</td>\n",
       "    </tr>\n",
       "    <tr>\n",
       "      <td>(10, 20]</td>\n",
       "      <td>1.000000</td>\n",
       "      <td>1.000000</td>\n",
       "      <td>0.520000</td>\n",
       "    </tr>\n",
       "    <tr>\n",
       "      <td>(20, 30]</td>\n",
       "      <td>0.952381</td>\n",
       "      <td>0.892857</td>\n",
       "      <td>0.500000</td>\n",
       "    </tr>\n",
       "    <tr>\n",
       "      <td>(30, 40]</td>\n",
       "      <td>1.000000</td>\n",
       "      <td>0.941176</td>\n",
       "      <td>0.428571</td>\n",
       "    </tr>\n",
       "    <tr>\n",
       "      <td>(40, 50]</td>\n",
       "      <td>0.923077</td>\n",
       "      <td>0.900000</td>\n",
       "      <td>0.000000</td>\n",
       "    </tr>\n",
       "    <tr>\n",
       "      <td>(50, 60]</td>\n",
       "      <td>1.000000</td>\n",
       "      <td>0.666667</td>\n",
       "      <td>NaN</td>\n",
       "    </tr>\n",
       "    <tr>\n",
       "      <td>(60, 70]</td>\n",
       "      <td>1.000000</td>\n",
       "      <td>NaN</td>\n",
       "      <td>1.000000</td>\n",
       "    </tr>\n",
       "    <tr>\n",
       "      <td rowspan=\"8\" valign=\"top\">male</td>\n",
       "      <td>(0, 10]</td>\n",
       "      <td>1.000000</td>\n",
       "      <td>1.000000</td>\n",
       "      <td>0.363636</td>\n",
       "    </tr>\n",
       "    <tr>\n",
       "      <td>(10, 20]</td>\n",
       "      <td>0.400000</td>\n",
       "      <td>0.100000</td>\n",
       "      <td>0.129630</td>\n",
       "    </tr>\n",
       "    <tr>\n",
       "      <td>(20, 30]</td>\n",
       "      <td>0.473684</td>\n",
       "      <td>0.000000</td>\n",
       "      <td>0.144330</td>\n",
       "    </tr>\n",
       "    <tr>\n",
       "      <td>(30, 40]</td>\n",
       "      <td>0.520000</td>\n",
       "      <td>0.115385</td>\n",
       "      <td>0.142857</td>\n",
       "    </tr>\n",
       "    <tr>\n",
       "      <td>(40, 50]</td>\n",
       "      <td>0.375000</td>\n",
       "      <td>0.111111</td>\n",
       "      <td>0.090909</td>\n",
       "    </tr>\n",
       "    <tr>\n",
       "      <td>(50, 60]</td>\n",
       "      <td>0.285714</td>\n",
       "      <td>0.000000</td>\n",
       "      <td>0.000000</td>\n",
       "    </tr>\n",
       "    <tr>\n",
       "      <td>(60, 70]</td>\n",
       "      <td>0.000000</td>\n",
       "      <td>0.333333</td>\n",
       "      <td>0.000000</td>\n",
       "    </tr>\n",
       "    <tr>\n",
       "      <td>(70, 80]</td>\n",
       "      <td>0.333333</td>\n",
       "      <td>NaN</td>\n",
       "      <td>0.000000</td>\n",
       "    </tr>\n",
       "  </tbody>\n",
       "</table>\n",
       "</div>"
      ],
      "text/plain": [
       "class               First    Second     Third\n",
       "sex    age                                   \n",
       "female (0, 10]   0.000000  1.000000  0.500000\n",
       "       (10, 20]  1.000000  1.000000  0.520000\n",
       "       (20, 30]  0.952381  0.892857  0.500000\n",
       "       (30, 40]  1.000000  0.941176  0.428571\n",
       "       (40, 50]  0.923077  0.900000  0.000000\n",
       "       (50, 60]  1.000000  0.666667       NaN\n",
       "       (60, 70]  1.000000       NaN  1.000000\n",
       "male   (0, 10]   1.000000  1.000000  0.363636\n",
       "       (10, 20]  0.400000  0.100000  0.129630\n",
       "       (20, 30]  0.473684  0.000000  0.144330\n",
       "       (30, 40]  0.520000  0.115385  0.142857\n",
       "       (40, 50]  0.375000  0.111111  0.090909\n",
       "       (50, 60]  0.285714  0.000000  0.000000\n",
       "       (60, 70]  0.000000  0.333333  0.000000\n",
       "       (70, 80]  0.333333       NaN  0.000000"
      ]
     },
     "execution_count": 154,
     "metadata": {},
     "output_type": "execute_result"
    }
   ],
   "source": [
    "import pandas as pd\n",
    "ed=pd.read_csv('C:/Users/Thanniru Srinivas/Desktop/ineuron ml course/py sub and obj/data for subjective questions/titanic.csv')\n",
    "df=pd.cut(ed['age'],[0,10,20,30,40,50,60,70,80])\n",
    "ed.pivot_table('survived',index=['sex',df],columns=['class'])"
   ]
  },
  {
   "cell_type": "markdown",
   "metadata": {},
   "source": [
    "Q127. Write a pandas program to create the Pivot table and calculate number of women and men were in a particular cabin class.\n"
   ]
  },
  {
   "cell_type": "code",
   "execution_count": 155,
   "metadata": {},
   "outputs": [
    {
     "data": {
      "text/html": [
       "<div>\n",
       "<style scoped>\n",
       "    .dataframe tbody tr th:only-of-type {\n",
       "        vertical-align: middle;\n",
       "    }\n",
       "\n",
       "    .dataframe tbody tr th {\n",
       "        vertical-align: top;\n",
       "    }\n",
       "\n",
       "    .dataframe thead th {\n",
       "        text-align: right;\n",
       "    }\n",
       "</style>\n",
       "<table border=\"1\" class=\"dataframe\">\n",
       "  <thead>\n",
       "    <tr style=\"text-align: right;\">\n",
       "      <th>class</th>\n",
       "      <th>First</th>\n",
       "      <th>Second</th>\n",
       "      <th>Third</th>\n",
       "    </tr>\n",
       "    <tr>\n",
       "      <th>sex</th>\n",
       "      <th></th>\n",
       "      <th></th>\n",
       "      <th></th>\n",
       "    </tr>\n",
       "  </thead>\n",
       "  <tbody>\n",
       "    <tr>\n",
       "      <td>female</td>\n",
       "      <td>94</td>\n",
       "      <td>76</td>\n",
       "      <td>144</td>\n",
       "    </tr>\n",
       "    <tr>\n",
       "      <td>male</td>\n",
       "      <td>122</td>\n",
       "      <td>108</td>\n",
       "      <td>347</td>\n",
       "    </tr>\n",
       "  </tbody>\n",
       "</table>\n",
       "</div>"
      ],
      "text/plain": [
       "class   First  Second  Third\n",
       "sex                         \n",
       "female     94      76    144\n",
       "male      122     108    347"
      ]
     },
     "execution_count": 155,
     "metadata": {},
     "output_type": "execute_result"
    }
   ],
   "source": [
    "import pandas as pd\n",
    "ed=pd.read_csv('C:/Users/Thanniru Srinivas/Desktop/ineuron ml course/py sub and obj/data for subjective questions/titanic.csv')\n",
    "df=pd.cut(ed['pclass'],[0,1,2,3])\n",
    "ed.pivot_table('survived',index=['sex'],columns=['class'],aggfunc='count')"
   ]
  },
  {
   "cell_type": "markdown",
   "metadata": {},
   "source": [
    "Q128. Write a pandas program to create the Pivot table and separate the gender according to whether they travelled alone or not to get the probability of survival\n"
   ]
  },
  {
   "cell_type": "code",
   "execution_count": 156,
   "metadata": {},
   "outputs": [
    {
     "data": {
      "text/html": [
       "<div>\n",
       "<style scoped>\n",
       "    .dataframe tbody tr th:only-of-type {\n",
       "        vertical-align: middle;\n",
       "    }\n",
       "\n",
       "    .dataframe tbody tr th {\n",
       "        vertical-align: top;\n",
       "    }\n",
       "\n",
       "    .dataframe thead th {\n",
       "        text-align: right;\n",
       "    }\n",
       "</style>\n",
       "<table border=\"1\" class=\"dataframe\">\n",
       "  <thead>\n",
       "    <tr style=\"text-align: right;\">\n",
       "      <th></th>\n",
       "      <th>class</th>\n",
       "      <th>First</th>\n",
       "      <th>Second</th>\n",
       "      <th>Third</th>\n",
       "    </tr>\n",
       "    <tr>\n",
       "      <th>sex</th>\n",
       "      <th>alone</th>\n",
       "      <th></th>\n",
       "      <th></th>\n",
       "      <th></th>\n",
       "    </tr>\n",
       "  </thead>\n",
       "  <tbody>\n",
       "    <tr>\n",
       "      <td rowspan=\"2\" valign=\"top\">female</td>\n",
       "      <td>False</td>\n",
       "      <td>0.966667</td>\n",
       "      <td>0.931818</td>\n",
       "      <td>0.416667</td>\n",
       "    </tr>\n",
       "    <tr>\n",
       "      <td>True</td>\n",
       "      <td>0.970588</td>\n",
       "      <td>0.906250</td>\n",
       "      <td>0.616667</td>\n",
       "    </tr>\n",
       "    <tr>\n",
       "      <td rowspan=\"2\" valign=\"top\">male</td>\n",
       "      <td>False</td>\n",
       "      <td>0.425532</td>\n",
       "      <td>0.277778</td>\n",
       "      <td>0.180723</td>\n",
       "    </tr>\n",
       "    <tr>\n",
       "      <td>True</td>\n",
       "      <td>0.333333</td>\n",
       "      <td>0.097222</td>\n",
       "      <td>0.121212</td>\n",
       "    </tr>\n",
       "  </tbody>\n",
       "</table>\n",
       "</div>"
      ],
      "text/plain": [
       "class            First    Second     Third\n",
       "sex    alone                              \n",
       "female False  0.966667  0.931818  0.416667\n",
       "       True   0.970588  0.906250  0.616667\n",
       "male   False  0.425532  0.277778  0.180723\n",
       "       True   0.333333  0.097222  0.121212"
      ]
     },
     "execution_count": 156,
     "metadata": {},
     "output_type": "execute_result"
    }
   ],
   "source": [
    "import pandas as pd\n",
    "ed=pd.read_csv('C:/Users/Thanniru Srinivas/Desktop/ineuron ml course/py sub and obj/data for subjective questions/titanic.csv')\n",
    "df=pd.cut(ed['pclass'],[0,1,2,3])\n",
    "ed.pivot_table('survived',index=['sex','alone'],columns=['class'])"
   ]
  },
  {
   "cell_type": "markdown",
   "metadata": {},
   "source": [
    "Q129. Write a pandas program to create the Pivot table and find the probability of survival by class, gender, solo boarding, and the port of embarkation.\n"
   ]
  },
  {
   "cell_type": "code",
   "execution_count": 157,
   "metadata": {},
   "outputs": [
    {
     "data": {
      "text/html": [
       "<div>\n",
       "<style scoped>\n",
       "    .dataframe tbody tr th:only-of-type {\n",
       "        vertical-align: middle;\n",
       "    }\n",
       "\n",
       "    .dataframe tbody tr th {\n",
       "        vertical-align: top;\n",
       "    }\n",
       "\n",
       "    .dataframe thead th {\n",
       "        text-align: right;\n",
       "    }\n",
       "</style>\n",
       "<table border=\"1\" class=\"dataframe\">\n",
       "  <thead>\n",
       "    <tr style=\"text-align: right;\">\n",
       "      <th></th>\n",
       "      <th></th>\n",
       "      <th>class</th>\n",
       "      <th>First</th>\n",
       "      <th>Second</th>\n",
       "      <th>Third</th>\n",
       "    </tr>\n",
       "    <tr>\n",
       "      <th>sex</th>\n",
       "      <th>alone</th>\n",
       "      <th>embark_town</th>\n",
       "      <th></th>\n",
       "      <th></th>\n",
       "      <th></th>\n",
       "    </tr>\n",
       "  </thead>\n",
       "  <tbody>\n",
       "    <tr>\n",
       "      <td rowspan=\"6\" valign=\"top\">female</td>\n",
       "      <td rowspan=\"3\" valign=\"top\">False</td>\n",
       "      <td>Cherbourg</td>\n",
       "      <td>1.000000</td>\n",
       "      <td>1.000000</td>\n",
       "      <td>0.611111</td>\n",
       "    </tr>\n",
       "    <tr>\n",
       "      <td>Queenstown</td>\n",
       "      <td>1.000000</td>\n",
       "      <td>NaN</td>\n",
       "      <td>0.625000</td>\n",
       "    </tr>\n",
       "    <tr>\n",
       "      <td>Southampton</td>\n",
       "      <td>0.941176</td>\n",
       "      <td>0.923077</td>\n",
       "      <td>0.327586</td>\n",
       "    </tr>\n",
       "    <tr>\n",
       "      <td rowspan=\"3\" valign=\"top\">True</td>\n",
       "      <td>Cherbourg</td>\n",
       "      <td>0.944444</td>\n",
       "      <td>1.000000</td>\n",
       "      <td>0.800000</td>\n",
       "    </tr>\n",
       "    <tr>\n",
       "      <td>Queenstown</td>\n",
       "      <td>NaN</td>\n",
       "      <td>1.000000</td>\n",
       "      <td>0.760000</td>\n",
       "    </tr>\n",
       "    <tr>\n",
       "      <td>Southampton</td>\n",
       "      <td>1.000000</td>\n",
       "      <td>0.892857</td>\n",
       "      <td>0.466667</td>\n",
       "    </tr>\n",
       "    <tr>\n",
       "      <td rowspan=\"6\" valign=\"top\">male</td>\n",
       "      <td rowspan=\"3\" valign=\"top\">False</td>\n",
       "      <td>Cherbourg</td>\n",
       "      <td>0.473684</td>\n",
       "      <td>0.166667</td>\n",
       "      <td>0.500000</td>\n",
       "    </tr>\n",
       "    <tr>\n",
       "      <td>Queenstown</td>\n",
       "      <td>0.000000</td>\n",
       "      <td>NaN</td>\n",
       "      <td>0.100000</td>\n",
       "    </tr>\n",
       "    <tr>\n",
       "      <td>Southampton</td>\n",
       "      <td>0.407407</td>\n",
       "      <td>0.300000</td>\n",
       "      <td>0.142857</td>\n",
       "    </tr>\n",
       "    <tr>\n",
       "      <td rowspan=\"3\" valign=\"top\">True</td>\n",
       "      <td>Cherbourg</td>\n",
       "      <td>0.347826</td>\n",
       "      <td>0.250000</td>\n",
       "      <td>0.151515</td>\n",
       "    </tr>\n",
       "    <tr>\n",
       "      <td>Queenstown</td>\n",
       "      <td>NaN</td>\n",
       "      <td>0.000000</td>\n",
       "      <td>0.068966</td>\n",
       "    </tr>\n",
       "    <tr>\n",
       "      <td>Southampton</td>\n",
       "      <td>0.326923</td>\n",
       "      <td>0.089552</td>\n",
       "      <td>0.123762</td>\n",
       "    </tr>\n",
       "  </tbody>\n",
       "</table>\n",
       "</div>"
      ],
      "text/plain": [
       "class                        First    Second     Third\n",
       "sex    alone embark_town                              \n",
       "female False Cherbourg    1.000000  1.000000  0.611111\n",
       "             Queenstown   1.000000       NaN  0.625000\n",
       "             Southampton  0.941176  0.923077  0.327586\n",
       "       True  Cherbourg    0.944444  1.000000  0.800000\n",
       "             Queenstown        NaN  1.000000  0.760000\n",
       "             Southampton  1.000000  0.892857  0.466667\n",
       "male   False Cherbourg    0.473684  0.166667  0.500000\n",
       "             Queenstown   0.000000       NaN  0.100000\n",
       "             Southampton  0.407407  0.300000  0.142857\n",
       "       True  Cherbourg    0.347826  0.250000  0.151515\n",
       "             Queenstown        NaN  0.000000  0.068966\n",
       "             Southampton  0.326923  0.089552  0.123762"
      ]
     },
     "execution_count": 157,
     "metadata": {},
     "output_type": "execute_result"
    }
   ],
   "source": [
    "import pandas as pd\n",
    "ed=pd.read_csv('C:/Users/Thanniru Srinivas/Desktop/ineuron ml course/py sub and obj/data for subjective questions/titanic.csv')\n",
    "df=pd.cut(ed['pclass'],[0,1,2,3])\n",
    "ed.pivot_table('survived',index=['sex','alone','embark_town'],columns=['class'])\n"
   ]
  },
  {
   "cell_type": "markdown",
   "metadata": {},
   "source": [
    "Q130. Write a pandas program to get current date, oldest date and number of days between Current date and the oldest date of Ufo dataset."
   ]
  },
  {
   "cell_type": "code",
   "execution_count": 158,
   "metadata": {},
   "outputs": [
    {
     "name": "stdout",
     "output_type": "stream",
     "text": [
      "Original Dataframe:\n",
      "           Date_time                  city state/province country UFO_shape length_of_encounter_seconds described_duration_of_encounter                                        description date_documented    latitude   longitude\n",
      "0  10/10/1949 20:30            san marcos             tx      us  cylinder                        2700                      45 minutes  This event took place in early fall around 194...       4/27/2004  29.8830556  -97.941111\n",
      "1  10/10/1949 21:00          lackland afb             tx     NaN     light                        7200                         1-2 hrs  1949 Lackland AFB&#44 TX.  Lights racing acros...      12/16/2005    29.38421  -98.581082\n",
      "2  10/10/1955 17:00  chester (uk/england)            NaN      gb    circle                          20                      20 seconds  Green/Orange circular disc over Chester&#44 En...       1/21/2008        53.2   -2.916667\n",
      "3  10/10/1956 21:00                  edna             tx      us    circle                          20                        1/2 hour  My older brother and twin sister were leaving ...       1/17/2004  28.9783333  -96.645833\n",
      "4  10/10/1960 20:00               kaneohe             hi      us     light                         900                      15 minutes  AS a Marine 1st Lt. flying an FJ4B fighter/att...       1/22/2004  21.4180556 -157.803611\n",
      "\n",
      "Current date of Ufo dataset:\n",
      " 9/9/2013 9:51\n",
      "\n",
      "Oldest date of Ufo dataset:\n",
      " 1/1/1944 12:00\n",
      "\n",
      "Number of days between Current date and oldest date of Ufo dataset:\n",
      "25453 days 21:51:00\n"
     ]
    }
   ],
   "source": [
    "df=pd.read_csv('C:/Users/Thanniru Srinivas/Desktop/ineuron ml course/py sub and obj/data for subjective questions/ufo_sighting_data.csv')\n",
    "print(\"Original Dataframe:\\n\",df.head())\n",
    "print(\"\\nCurrent date of Ufo dataset:\\n\",df.Date_time.max())\n",
    "print(\"\\nOldest date of Ufo dataset:\\n\",df.Date_time.min())\n",
    "print(\"\\nNumber of days between Current date and oldest date of Ufo dataset:\")\n",
    "print(pd.to_datetime(df.Date_time.max()) - pd.to_datetime(df.Date_time.min()))"
   ]
  },
  {
   "cell_type": "markdown",
   "metadata": {},
   "source": [
    "Q131. Write a pandas program to get all sighting days of the unidentified flying object (ufo) between 1950-10-10 and 1960-10- 10.\n"
   ]
  },
  {
   "cell_type": "code",
   "execution_count": 4,
   "metadata": {},
   "outputs": [
    {
     "data": {
      "text/html": [
       "<div>\n",
       "<style scoped>\n",
       "    .dataframe tbody tr th:only-of-type {\n",
       "        vertical-align: middle;\n",
       "    }\n",
       "\n",
       "    .dataframe tbody tr th {\n",
       "        vertical-align: top;\n",
       "    }\n",
       "\n",
       "    .dataframe thead th {\n",
       "        text-align: right;\n",
       "    }\n",
       "</style>\n",
       "<table border=\"1\" class=\"dataframe\">\n",
       "  <thead>\n",
       "    <tr style=\"text-align: right;\">\n",
       "      <th></th>\n",
       "      <th>City</th>\n",
       "      <th>Colors Reported</th>\n",
       "      <th>Shape Reported</th>\n",
       "      <th>State</th>\n",
       "      <th>Date_Time</th>\n",
       "    </tr>\n",
       "  </thead>\n",
       "  <tbody>\n",
       "    <tr>\n",
       "      <td>147</td>\n",
       "      <td>Sandy Hook</td>\n",
       "      <td>NaN</td>\n",
       "      <td>TRIANGLE</td>\n",
       "      <td>NJ</td>\n",
       "      <td>1950-10-15 15:00:00</td>\n",
       "    </tr>\n",
       "    <tr>\n",
       "      <td>148</td>\n",
       "      <td>Half Moon Bay</td>\n",
       "      <td>NaN</td>\n",
       "      <td>OTHER</td>\n",
       "      <td>CA</td>\n",
       "      <td>1950-12-12 22:00:00</td>\n",
       "    </tr>\n",
       "    <tr>\n",
       "      <td>149</td>\n",
       "      <td>Palm Springs</td>\n",
       "      <td>NaN</td>\n",
       "      <td>CIGAR</td>\n",
       "      <td>CA</td>\n",
       "      <td>1951-01-20 04:30:00</td>\n",
       "    </tr>\n",
       "    <tr>\n",
       "      <td>150</td>\n",
       "      <td>Thompsonville</td>\n",
       "      <td>NaN</td>\n",
       "      <td>DISK</td>\n",
       "      <td>CT</td>\n",
       "      <td>1951-02-03 22:00:00</td>\n",
       "    </tr>\n",
       "    <tr>\n",
       "      <td>151</td>\n",
       "      <td>Los Angeles</td>\n",
       "      <td>NaN</td>\n",
       "      <td>DISK</td>\n",
       "      <td>CA</td>\n",
       "      <td>1951-02-15 11:00:00</td>\n",
       "    </tr>\n",
       "    <tr>\n",
       "      <td>...</td>\n",
       "      <td>...</td>\n",
       "      <td>...</td>\n",
       "      <td>...</td>\n",
       "      <td>...</td>\n",
       "      <td>...</td>\n",
       "    </tr>\n",
       "    <tr>\n",
       "      <td>637</td>\n",
       "      <td>Buffalo</td>\n",
       "      <td>NaN</td>\n",
       "      <td>OVAL</td>\n",
       "      <td>NY</td>\n",
       "      <td>1960-09-05 21:00:00</td>\n",
       "    </tr>\n",
       "    <tr>\n",
       "      <td>638</td>\n",
       "      <td>Wichita</td>\n",
       "      <td>NaN</td>\n",
       "      <td>OVAL</td>\n",
       "      <td>KS</td>\n",
       "      <td>1960-09-10 10:00:00</td>\n",
       "    </tr>\n",
       "    <tr>\n",
       "      <td>639</td>\n",
       "      <td>Kingsport</td>\n",
       "      <td>ORANGE</td>\n",
       "      <td>CIRCLE</td>\n",
       "      <td>TN</td>\n",
       "      <td>1960-09-15 19:00:00</td>\n",
       "    </tr>\n",
       "    <tr>\n",
       "      <td>640</td>\n",
       "      <td>Seattle</td>\n",
       "      <td>NaN</td>\n",
       "      <td>DISK</td>\n",
       "      <td>WA</td>\n",
       "      <td>1960-09-15 20:30:00</td>\n",
       "    </tr>\n",
       "    <tr>\n",
       "      <td>641</td>\n",
       "      <td>Susanville</td>\n",
       "      <td>NaN</td>\n",
       "      <td>NaN</td>\n",
       "      <td>CA</td>\n",
       "      <td>1960-09-15 21:00:00</td>\n",
       "    </tr>\n",
       "  </tbody>\n",
       "</table>\n",
       "<p>495 rows × 5 columns</p>\n",
       "</div>"
      ],
      "text/plain": [
       "              City Colors Reported Shape Reported State           Date_Time\n",
       "147     Sandy Hook             NaN       TRIANGLE    NJ 1950-10-15 15:00:00\n",
       "148  Half Moon Bay             NaN          OTHER    CA 1950-12-12 22:00:00\n",
       "149   Palm Springs             NaN          CIGAR    CA 1951-01-20 04:30:00\n",
       "150  Thompsonville             NaN           DISK    CT 1951-02-03 22:00:00\n",
       "151    Los Angeles             NaN           DISK    CA 1951-02-15 11:00:00\n",
       "..             ...             ...            ...   ...                 ...\n",
       "637        Buffalo             NaN           OVAL    NY 1960-09-05 21:00:00\n",
       "638        Wichita             NaN           OVAL    KS 1960-09-10 10:00:00\n",
       "639      Kingsport          ORANGE         CIRCLE    TN 1960-09-15 19:00:00\n",
       "640        Seattle             NaN           DISK    WA 1960-09-15 20:30:00\n",
       "641     Susanville             NaN            NaN    CA 1960-09-15 21:00:00\n",
       "\n",
       "[495 rows x 5 columns]"
      ]
     },
     "execution_count": 4,
     "metadata": {},
     "output_type": "execute_result"
    }
   ],
   "source": [
    "import pandas as pd\n",
    "df = pd.read_csv('C:/Users/Thanniru Srinivas/Desktop/ineuron ml course/py sub and obj/data for subjective questions/ufo_data.csv')\n",
    "df['Date_Time'] = df['Date_Time'].astype('datetime64')\n",
    "df.loc[(df['Date_Time'] > '1950-10-10') & (df['Date_Time'] < '1960-10-10')]"
   ]
  },
  {
   "cell_type": "markdown",
   "metadata": {},
   "source": [
    "Q132. Write a Pandas program to extract the year, month, day, hour, minute, second, and weekday from unidentified flying object (UFO) reporting date.\n"
   ]
  },
  {
   "cell_type": "code",
   "execution_count": 163,
   "metadata": {},
   "outputs": [
    {
     "data": {
      "text/html": [
       "<div>\n",
       "<style scoped>\n",
       "    .dataframe tbody tr th:only-of-type {\n",
       "        vertical-align: middle;\n",
       "    }\n",
       "\n",
       "    .dataframe tbody tr th {\n",
       "        vertical-align: top;\n",
       "    }\n",
       "\n",
       "    .dataframe thead th {\n",
       "        text-align: right;\n",
       "    }\n",
       "</style>\n",
       "<table border=\"1\" class=\"dataframe\">\n",
       "  <thead>\n",
       "    <tr style=\"text-align: right;\">\n",
       "      <th></th>\n",
       "      <th>Date_time</th>\n",
       "      <th>Year</th>\n",
       "      <th>Month</th>\n",
       "      <th>Day</th>\n",
       "      <th>Hour</th>\n",
       "      <th>Minute</th>\n",
       "      <th>Second</th>\n",
       "      <th>Day Name</th>\n",
       "    </tr>\n",
       "  </thead>\n",
       "  <tbody>\n",
       "    <tr>\n",
       "      <td>0</td>\n",
       "      <td>1949-10-10 20:30:00</td>\n",
       "      <td>1949.0</td>\n",
       "      <td>10.0</td>\n",
       "      <td>10.0</td>\n",
       "      <td>20.0</td>\n",
       "      <td>30.0</td>\n",
       "      <td>0.0</td>\n",
       "      <td>Monday</td>\n",
       "    </tr>\n",
       "    <tr>\n",
       "      <td>1</td>\n",
       "      <td>1949-10-10 21:00:00</td>\n",
       "      <td>1949.0</td>\n",
       "      <td>10.0</td>\n",
       "      <td>10.0</td>\n",
       "      <td>21.0</td>\n",
       "      <td>0.0</td>\n",
       "      <td>0.0</td>\n",
       "      <td>Monday</td>\n",
       "    </tr>\n",
       "    <tr>\n",
       "      <td>2</td>\n",
       "      <td>1955-10-10 17:00:00</td>\n",
       "      <td>1955.0</td>\n",
       "      <td>10.0</td>\n",
       "      <td>10.0</td>\n",
       "      <td>17.0</td>\n",
       "      <td>0.0</td>\n",
       "      <td>0.0</td>\n",
       "      <td>Monday</td>\n",
       "    </tr>\n",
       "    <tr>\n",
       "      <td>3</td>\n",
       "      <td>1956-10-10 21:00:00</td>\n",
       "      <td>1956.0</td>\n",
       "      <td>10.0</td>\n",
       "      <td>10.0</td>\n",
       "      <td>21.0</td>\n",
       "      <td>0.0</td>\n",
       "      <td>0.0</td>\n",
       "      <td>Wednesday</td>\n",
       "    </tr>\n",
       "    <tr>\n",
       "      <td>4</td>\n",
       "      <td>1960-10-10 20:00:00</td>\n",
       "      <td>1960.0</td>\n",
       "      <td>10.0</td>\n",
       "      <td>10.0</td>\n",
       "      <td>20.0</td>\n",
       "      <td>0.0</td>\n",
       "      <td>0.0</td>\n",
       "      <td>Monday</td>\n",
       "    </tr>\n",
       "  </tbody>\n",
       "</table>\n",
       "</div>"
      ],
      "text/plain": [
       "            Date_time    Year  Month   Day  Hour  Minute  Second   Day Name\n",
       "0 1949-10-10 20:30:00  1949.0   10.0  10.0  20.0    30.0     0.0     Monday\n",
       "1 1949-10-10 21:00:00  1949.0   10.0  10.0  21.0     0.0     0.0     Monday\n",
       "2 1955-10-10 17:00:00  1955.0   10.0  10.0  17.0     0.0     0.0     Monday\n",
       "3 1956-10-10 21:00:00  1956.0   10.0  10.0  21.0     0.0     0.0  Wednesday\n",
       "4 1960-10-10 20:00:00  1960.0   10.0  10.0  20.0     0.0     0.0     Monday"
      ]
     },
     "execution_count": 163,
     "metadata": {},
     "output_type": "execute_result"
    }
   ],
   "source": [
    "import pandas as pd\n",
    "df=pd.read_csv('C:/Users/Thanniru Srinivas/Desktop/ineuron ml course/py sub and obj/data for subjective questions/ufo_sighting_data.csv')\n",
    "df['Date_time'] = pd.to_datetime(df['Date_time'], errors='coerce')\n",
    "nDf = pd.DataFrame(df['Date_time'], columns = ['Date_time'])\n",
    "nDf['Year'] = df['Date_time'].dt.year\n",
    "nDf['Month'] = df['Date_time'].dt.month\n",
    "nDf['Day'] = df['Date_time'].dt.day\n",
    "nDf['Hour'] = df['Date_time'].dt.hour\n",
    "nDf['Minute'] = df['Date_time'].dt.minute\n",
    "nDf['Second'] = df['Date_time'].dt.second\n",
    "nDf['Day Name'] = df['Date_time'].dt.weekday_name\n",
    "nDf.head()"
   ]
  },
  {
   "cell_type": "markdown",
   "metadata": {},
   "source": [
    "Q133. Write a pandas program to count year-country wise frequency of reporting dates of the unidentified flying object(UFO).\n"
   ]
  },
  {
   "cell_type": "code",
   "execution_count": 5,
   "metadata": {},
   "outputs": [
    {
     "name": "stdout",
     "output_type": "stream",
     "text": [
      "Country-year wise frequency of reporting dates of UFO :\n",
      " country  Year\n",
      "au       1975     1\n",
      "         1986     1\n",
      "         1988     1\n",
      "         2001     1\n",
      "         2002     1\n",
      "                 ..\n",
      "us       2009    28\n",
      "         2010    37\n",
      "         2011    36\n",
      "         2012    45\n",
      "         2013    51\n",
      "Length: 98, dtype: int64\n"
     ]
    },
    {
     "name": "stderr",
     "output_type": "stream",
     "text": [
      "C:\\Users\\Thanniru Srinivas\\Anaconda3\\lib\\site-packages\\ipykernel_launcher.py:4: SettingWithCopyWarning: \n",
      "A value is trying to be set on a copy of a slice from a DataFrame.\n",
      "Try using .loc[row_indexer,col_indexer] = value instead\n",
      "\n",
      "See the caveats in the documentation: http://pandas.pydata.org/pandas-docs/stable/user_guide/indexing.html#returning-a-view-versus-a-copy\n",
      "  after removing the cwd from sys.path.\n"
     ]
    }
   ],
   "source": [
    "import pandas as pd\n",
    "df=pd.read_csv('C:/Users/Thanniru Srinivas/Desktop/ineuron ml course/py sub and obj/data for subjective questions/ufo_sighting_data.csv')\n",
    "newDf=df.head(1000)\n",
    "newDf['Year']=pd.to_datetime(newDf['Date_time']).dt.year\n",
    "frequency=newDf.groupby(['country','Year']).size()\n",
    "print(\"Country-year wise frequency of reporting dates of UFO :\\n\",frequency)"
   ]
  },
  {
   "cell_type": "markdown",
   "metadata": {},
   "source": [
    "Q134. Write a pandas program to get the difference (in days) between documented date and reporting date of unidentified flying object (UFO).\n"
   ]
  },
  {
   "cell_type": "code",
   "execution_count": 6,
   "metadata": {},
   "outputs": [
    {
     "name": "stdout",
     "output_type": "stream",
     "text": [
      "Difference between documented date and reporting date of UFO\n",
      "0   19922 days 03:30:00\n",
      "1   20520 days 03:00:00\n",
      "2   19095 days 07:00:00\n",
      "3   17264 days 03:00:00\n",
      "4   15808 days 04:00:00\n",
      "5   16634 days 05:00:00\n",
      "6   14736 days 03:00:00\n",
      "7   12409 days 00:15:00\n",
      "8   15500 days 04:00:00\n",
      "9   14092 days 03:00:00\n",
      "dtype: timedelta64[ns]\n"
     ]
    }
   ],
   "source": [
    "import pandas as pd\n",
    "df=pd.read_csv('C:/Users/Thanniru Srinivas/Desktop/ineuron ml course/py sub and obj/data for subjective questions/ufo_sighting_data.csv')\n",
    "newDf=df.head(1000)\n",
    "print(\"Difference between documented date and reporting date of UFO\")\n",
    "print((pd.to_datetime(newDf['date_documented'])-pd.to_datetime(newDf['Date_time'])).head(10))"
   ]
  },
  {
   "cell_type": "markdown",
   "metadata": {},
   "source": [
    "Q135. Write a pandas program to generate sequences of fixed- frequency dates and time spans.\n"
   ]
  },
  {
   "cell_type": "code",
   "execution_count": 7,
   "metadata": {},
   "outputs": [
    {
     "name": "stdout",
     "output_type": "stream",
     "text": [
      "Hourly frequency:\n",
      "DatetimeIndex(['2020-01-01 00:00:00', '2020-01-01 01:00:00',\n",
      "               '2020-01-01 02:00:00', '2020-01-01 03:00:00',\n",
      "               '2020-01-01 04:00:00', '2020-01-01 05:00:00',\n",
      "               '2020-01-01 06:00:00', '2020-01-01 07:00:00',\n",
      "               '2020-01-01 08:00:00', '2020-01-01 09:00:00',\n",
      "               '2020-01-01 10:00:00', '2020-01-01 11:00:00'],\n",
      "              dtype='datetime64[ns]', freq='H')\n",
      "\n",
      "Minutely frequency:\n",
      "DatetimeIndex(['2020-01-01 00:00:00', '2020-01-01 00:01:00',\n",
      "               '2020-01-01 00:02:00', '2020-01-01 00:03:00',\n",
      "               '2020-01-01 00:04:00', '2020-01-01 00:05:00',\n",
      "               '2020-01-01 00:06:00', '2020-01-01 00:07:00',\n",
      "               '2020-01-01 00:08:00', '2020-01-01 00:09:00',\n",
      "               '2020-01-01 00:10:00', '2020-01-01 00:11:00'],\n",
      "              dtype='datetime64[ns]', freq='T')\n",
      "\n",
      "Secondly frequency:\n",
      "DatetimeIndex(['2020-01-01 00:00:00', '2020-01-01 00:00:01',\n",
      "               '2020-01-01 00:00:02', '2020-01-01 00:00:03',\n",
      "               '2020-01-01 00:00:04', '2020-01-01 00:00:05',\n",
      "               '2020-01-01 00:00:06', '2020-01-01 00:00:07',\n",
      "               '2020-01-01 00:00:08', '2020-01-01 00:00:09',\n",
      "               '2020-01-01 00:00:10', '2020-01-01 00:00:11'],\n",
      "              dtype='datetime64[ns]', freq='S')\n",
      "nMultiple Hourly frequency:\n",
      "DatetimeIndex(['2020-01-01 00:00:00', '2020-01-01 02:00:00',\n",
      "               '2020-01-01 04:00:00', '2020-01-01 06:00:00',\n",
      "               '2020-01-01 08:00:00', '2020-01-01 10:00:00',\n",
      "               '2020-01-01 12:00:00', '2020-01-01 14:00:00',\n",
      "               '2020-01-01 16:00:00', '2020-01-01 18:00:00',\n",
      "               '2020-01-01 20:00:00', '2020-01-01 22:00:00'],\n",
      "              dtype='datetime64[ns]', freq='2H')\n",
      "\n",
      "Multiple Minutely frequency:\n",
      "DatetimeIndex(['2020-01-01 00:00:00', '2020-01-01 00:05:00',\n",
      "               '2020-01-01 00:10:00', '2020-01-01 00:15:00',\n",
      "               '2020-01-01 00:20:00', '2020-01-01 00:25:00',\n",
      "               '2020-01-01 00:30:00', '2020-01-01 00:35:00',\n",
      "               '2020-01-01 00:40:00', '2020-01-01 00:45:00',\n",
      "               '2020-01-01 00:50:00', '2020-01-01 00:55:00'],\n",
      "              dtype='datetime64[ns]', freq='5T')\n",
      "\n",
      "Multiple Secondly frequency:\n",
      "DatetimeIndex(['2020-01-01 00:00:00', '2020-01-01 00:00:05',\n",
      "               '2020-01-01 00:00:10', '2020-01-01 00:00:15',\n",
      "               '2020-01-01 00:00:20', '2020-01-01 00:00:25',\n",
      "               '2020-01-01 00:00:30', '2020-01-01 00:00:35',\n",
      "               '2020-01-01 00:00:40', '2020-01-01 00:00:45',\n",
      "               '2020-01-01 00:00:50', '2020-01-01 00:00:55'],\n",
      "              dtype='datetime64[ns]', freq='5S')\n",
      "\n",
      "Weekly frequency:\n",
      "DatetimeIndex(['2020-01-05', '2020-01-12', '2020-01-19', '2020-01-26',\n",
      "               '2020-02-02', '2020-02-09', '2020-02-16', '2020-02-23',\n",
      "               '2020-03-01', '2020-03-08', '2020-03-15', '2020-03-22'],\n",
      "              dtype='datetime64[ns]', freq='W-SUN')\n",
      "\n",
      "Combine together day and intraday offsets-1:\n",
      "DatetimeIndex(['2020-01-01 00:00:00', '2020-01-01 23:20:00',\n",
      "               '2020-01-02 22:40:00', '2020-01-03 22:00:00',\n",
      "               '2020-01-04 21:20:00', '2020-01-05 20:40:00',\n",
      "               '2020-01-06 20:00:00', '2020-01-07 19:20:00',\n",
      "               '2020-01-08 18:40:00', '2020-01-09 18:00:00',\n",
      "               '2020-01-10 17:20:00', '2020-01-11 16:40:00'],\n",
      "              dtype='datetime64[ns]', freq='1400T')\n",
      "\n",
      "Combine together day and intraday offsets-2:\n",
      "DatetimeIndex([       '2020-01-01 00:00:00', '2020-01-02 00:00:00.000010',\n",
      "               '2020-01-03 00:00:00.000020', '2020-01-04 00:00:00.000030',\n",
      "               '2020-01-05 00:00:00.000040', '2020-01-06 00:00:00.000050',\n",
      "               '2020-01-07 00:00:00.000060', '2020-01-08 00:00:00.000070',\n",
      "               '2020-01-09 00:00:00.000080', '2020-01-10 00:00:00.000090',\n",
      "               '2020-01-11 00:00:00.000100', '2020-01-12 00:00:00.000110'],\n",
      "              dtype='datetime64[ns]', freq='86400000010U')\n"
     ]
    }
   ],
   "source": [
    "import pandas as pd\n",
    "\n",
    "dtr = pd.date_range('2020-01-01', periods=12, freq='H')\n",
    "print(\"Hourly frequency:\")\n",
    "print(dtr)\n",
    "\n",
    "dtr = pd.date_range('2020-01-01', periods=12, freq='min')\n",
    "\n",
    "print(\"\\nMinutely frequency:\")\n",
    "print(dtr)\n",
    "\n",
    "dtr = pd.date_range('2020-01-01', periods=12, freq='S')\n",
    "print(\"\\nSecondly frequency:\")\n",
    "print(dtr)\n",
    "\n",
    "dtr = pd.date_range('2020-01-01', periods=12, freq='2H')\n",
    "print(\"nMultiple Hourly frequency:\")\n",
    "\n",
    "print(dtr)\n",
    "\n",
    "dtr = pd.date_range('2020-01-01', periods=12, freq='5min')\n",
    "print(\"\\nMultiple Minutely frequency:\")\n",
    "print(dtr)\n",
    "\n",
    "dtr = pd.date_range('2020-01-01', periods=12, freq='5S')\n",
    "print(\"\\nMultiple Secondly frequency:\")\n",
    "print(dtr)\n",
    "\n",
    "dtr = pd.date_range('2020-01-01', periods=12, freq='w')\n",
    "print(\"\\nWeekly frequency:\")\n",
    "\n",
    "print(dtr)\n",
    "\n",
    "dtr = pd.date_range('2020-01-01', periods=12, freq='23h20min')\n",
    "print(\"\\nCombine together day and intraday offsets-1:\")\n",
    "print(dtr)\n",
    "\n",
    "dtr = pd.date_range('2020-01-01', periods=12, freq='1D10U')\n",
    "\n",
    "print(\"\\nCombine together day and intraday offsets-2:\")\n",
    "print(dtr)\n"
   ]
  },
  {
   "cell_type": "markdown",
   "metadata": {},
   "source": [
    "Q136. Write a pandas program to manipulate and convert date times with timezone information.\n"
   ]
  },
  {
   "cell_type": "code",
   "execution_count": 8,
   "metadata": {},
   "outputs": [
    {
     "name": "stdout",
     "output_type": "stream",
     "text": [
      "DatetimeIndex(['2018-01-01 00:00:00+00:00', '2018-01-01 01:00:00+00:00',\n",
      "               '2018-01-01 02:00:00+00:00'],\n",
      "              dtype='datetime64[ns, UTC]', freq='H')\n",
      "\n",
      "From UTC to Asia/Calcutta:\n",
      "DatetimeIndex(['2018-01-01 05:30:00+05:30', '2018-01-01 06:30:00+05:30',\n",
      "               '2018-01-01 07:30:00+05:30'],\n",
      "              dtype='datetime64[ns, Asia/Calcutta]', freq='H')\n",
      "\n",
      "From UTC to America/Los_Angeles:\n",
      "DatetimeIndex(['2017-12-31 16:00:00-08:00', '2017-12-31 17:00:00-08:00',\n",
      "               '2017-12-31 18:00:00-08:00'],\n",
      "              dtype='datetime64[ns, America/Los_Angeles]', freq='H')\n"
     ]
    }
   ],
   "source": [
    "import pandas as pd\n",
    "\n",
    "dtt = pd.date_range('2018-01-01', periods=3, freq='H')\n",
    "dtt = dtt.tz_localize('UTC')\n",
    "print(dtt)\n",
    "print(\"\\nFrom UTC to Asia/Calcutta:\")\n",
    "dtz=dtt.tz_convert('Asia/Calcutta')\n",
    "print(dtz)\n",
    "print(\"\\nFrom UTC to America/Los_Angeles:\")\n",
    "dtt = dtt.tz_convert('America/Los_Angeles')\n",
    "\n",
    "print(dtt)"
   ]
  },
  {
   "cell_type": "markdown",
   "metadata": {},
   "source": [
    "Q137. Write a pandas program to create the graphical analysis of UFO (unidentified flying object) Sightings year.\n"
   ]
  },
  {
   "cell_type": "code",
   "execution_count": 10,
   "metadata": {},
   "outputs": [
    {
     "name": "stderr",
     "output_type": "stream",
     "text": [
      "C:\\Users\\Thanniru Srinivas\\Anaconda3\\lib\\site-packages\\ipykernel_launcher.py:9: SettingWithCopyWarning: \n",
      "A value is trying to be set on a copy of a slice from a DataFrame.\n",
      "Try using .loc[row_indexer,col_indexer] = value instead\n",
      "\n",
      "See the caveats in the documentation: http://pandas.pydata.org/pandas-docs/stable/user_guide/indexing.html#returning-a-view-versus-a-copy\n",
      "  if __name__ == '__main__':\n",
      "C:\\Users\\Thanniru Srinivas\\Anaconda3\\lib\\site-packages\\ipykernel_launcher.py:11: SettingWithCopyWarning: \n",
      "A value is trying to be set on a copy of a slice from a DataFrame.\n",
      "Try using .loc[row_indexer,col_indexer] = value instead\n",
      "\n",
      "See the caveats in the documentation: http://pandas.pydata.org/pandas-docs/stable/user_guide/indexing.html#returning-a-view-versus-a-copy\n",
      "  # This is added back by InteractiveShellApp.init_path()\n",
      "C:\\Users\\Thanniru Srinivas\\Anaconda3\\lib\\site-packages\\ipykernel_launcher.py:15: FutureWarning: The 'get_values' method is deprecated and will be removed in a future version. Use '.to_numpy()' or '.array' instead.\n",
      "  from ipykernel import kernelapp as app\n"
     ]
    },
    {
     "data": {
      "text/plain": [
       "<matplotlib.axes._subplots.AxesSubplot at 0x1949449aa08>"
      ]
     },
     "execution_count": 10,
     "metadata": {},
     "output_type": "execute_result"
    },
    {
     "data": {
      "image/png": "[encoded data removed]",
      "text/plain": [
       "<Figure size 1080x576 with 1 Axes>"
      ]
     },
     "metadata": {
      "needs_background": "light"
     },
     "output_type": "display_data"
    }
   ],
   "source": [
    "import pandas as pd\n",
    "\n",
    "import matplotlib.pyplot as plt\n",
    "\n",
    "import seaborn as sns\n",
    "\n",
    "data=pd.read_csv('C:/Users/Thanniru Srinivas/Desktop/ineuron ml course/py sub and obj/data for subjective questions/ufo_sighting_data.csv')\n",
    "df=data.head(1000)\n",
    "df['Date_time'] = df['Date_time'].astype('datetime64[ns]')\n",
    "\n",
    "df[\"ufo_yr\"] = df.Date_time.dt.year\n",
    "years_data = df.ufo_yr.value_counts()\n",
    "\n",
    "years_index = years_data.index \n",
    "years_values = years_data.get_values()\n",
    "plt.figure(figsize=(15,8))\n",
    "\n",
    "plt.xticks(rotation = 60)\n",
    "plt.title('UFO Sightings by Year')\n",
    "plt.xlabel(\"Year\")\n",
    "plt.ylabel(\"Number of reports\")\n",
    "\n",
    "years_plot = sns.barplot(x=years_index[:60],y=years_values[:60], palette = \"Blues\")\n",
    "years_plot"
   ]
  },
  {
   "cell_type": "markdown",
   "metadata": {},
   "source": [
    "Q138. Write a pandas program to create a comparison of the top 10 years in which the (UFO) was sighted VS each Month.\n",
    "\n"
   ]
  },
  {
   "cell_type": "code",
   "execution_count": 11,
   "metadata": {},
   "outputs": [
    {
     "name": "stdout",
     "output_type": "stream",
     "text": [
      "\n",
      "Comparison of the top 10 years in which the UFO was sighted vs each month:\n"
     ]
    },
    {
     "data": {
      "text/html": [
       "<div>\n",
       "<style scoped>\n",
       "    .dataframe tbody tr th:only-of-type {\n",
       "        vertical-align: middle;\n",
       "    }\n",
       "\n",
       "    .dataframe tbody tr th {\n",
       "        vertical-align: top;\n",
       "    }\n",
       "\n",
       "    .dataframe thead tr th {\n",
       "        text-align: left;\n",
       "    }\n",
       "\n",
       "    .dataframe thead tr:last-of-type th {\n",
       "        text-align: right;\n",
       "    }\n",
       "</style>\n",
       "<table border=\"1\" class=\"dataframe\">\n",
       "  <thead>\n",
       "    <tr>\n",
       "      <th></th>\n",
       "      <th colspan=\"12\" halign=\"left\">Date_Time</th>\n",
       "    </tr>\n",
       "    <tr>\n",
       "      <th>Month</th>\n",
       "      <th>1</th>\n",
       "      <th>2</th>\n",
       "      <th>3</th>\n",
       "      <th>4</th>\n",
       "      <th>5</th>\n",
       "      <th>6</th>\n",
       "      <th>7</th>\n",
       "      <th>8</th>\n",
       "      <th>9</th>\n",
       "      <th>10</th>\n",
       "      <th>11</th>\n",
       "      <th>12</th>\n",
       "    </tr>\n",
       "    <tr>\n",
       "      <th>Year</th>\n",
       "      <th></th>\n",
       "      <th></th>\n",
       "      <th></th>\n",
       "      <th></th>\n",
       "      <th></th>\n",
       "      <th></th>\n",
       "      <th></th>\n",
       "      <th></th>\n",
       "      <th></th>\n",
       "      <th></th>\n",
       "      <th></th>\n",
       "      <th></th>\n",
       "    </tr>\n",
       "  </thead>\n",
       "  <tbody>\n",
       "    <tr>\n",
       "      <td>1975.0</td>\n",
       "      <td>13</td>\n",
       "      <td>3</td>\n",
       "      <td>8</td>\n",
       "      <td>15</td>\n",
       "      <td>13</td>\n",
       "      <td>88</td>\n",
       "      <td>47</td>\n",
       "      <td>40</td>\n",
       "      <td>21</td>\n",
       "      <td>31</td>\n",
       "      <td>19</td>\n",
       "      <td>14</td>\n",
       "    </tr>\n",
       "    <tr>\n",
       "      <td>1978.0</td>\n",
       "      <td>14</td>\n",
       "      <td>8</td>\n",
       "      <td>12</td>\n",
       "      <td>12</td>\n",
       "      <td>12</td>\n",
       "      <td>70</td>\n",
       "      <td>74</td>\n",
       "      <td>50</td>\n",
       "      <td>18</td>\n",
       "      <td>25</td>\n",
       "      <td>19</td>\n",
       "      <td>12</td>\n",
       "    </tr>\n",
       "    <tr>\n",
       "      <td>1993.0</td>\n",
       "      <td>12</td>\n",
       "      <td>12</td>\n",
       "      <td>14</td>\n",
       "      <td>12</td>\n",
       "      <td>26</td>\n",
       "      <td>76</td>\n",
       "      <td>38</td>\n",
       "      <td>37</td>\n",
       "      <td>19</td>\n",
       "      <td>18</td>\n",
       "      <td>14</td>\n",
       "      <td>14</td>\n",
       "    </tr>\n",
       "    <tr>\n",
       "      <td>1994.0</td>\n",
       "      <td>17</td>\n",
       "      <td>8</td>\n",
       "      <td>18</td>\n",
       "      <td>28</td>\n",
       "      <td>26</td>\n",
       "      <td>69</td>\n",
       "      <td>47</td>\n",
       "      <td>53</td>\n",
       "      <td>29</td>\n",
       "      <td>54</td>\n",
       "      <td>25</td>\n",
       "      <td>32</td>\n",
       "    </tr>\n",
       "    <tr>\n",
       "      <td>1995.0</td>\n",
       "      <td>90</td>\n",
       "      <td>113</td>\n",
       "      <td>120</td>\n",
       "      <td>88</td>\n",
       "      <td>98</td>\n",
       "      <td>152</td>\n",
       "      <td>121</td>\n",
       "      <td>181</td>\n",
       "      <td>120</td>\n",
       "      <td>95</td>\n",
       "      <td>116</td>\n",
       "      <td>50</td>\n",
       "    </tr>\n",
       "    <tr>\n",
       "      <td>1996.0</td>\n",
       "      <td>53</td>\n",
       "      <td>66</td>\n",
       "      <td>60</td>\n",
       "      <td>91</td>\n",
       "      <td>74</td>\n",
       "      <td>117</td>\n",
       "      <td>63</td>\n",
       "      <td>66</td>\n",
       "      <td>54</td>\n",
       "      <td>54</td>\n",
       "      <td>78</td>\n",
       "      <td>75</td>\n",
       "    </tr>\n",
       "    <tr>\n",
       "      <td>1997.0</td>\n",
       "      <td>46</td>\n",
       "      <td>38</td>\n",
       "      <td>174</td>\n",
       "      <td>86</td>\n",
       "      <td>93</td>\n",
       "      <td>170</td>\n",
       "      <td>199</td>\n",
       "      <td>99</td>\n",
       "      <td>49</td>\n",
       "      <td>105</td>\n",
       "      <td>113</td>\n",
       "      <td>65</td>\n",
       "    </tr>\n",
       "    <tr>\n",
       "      <td>1998.0</td>\n",
       "      <td>75</td>\n",
       "      <td>74</td>\n",
       "      <td>130</td>\n",
       "      <td>112</td>\n",
       "      <td>95</td>\n",
       "      <td>178</td>\n",
       "      <td>156</td>\n",
       "      <td>144</td>\n",
       "      <td>215</td>\n",
       "      <td>205</td>\n",
       "      <td>189</td>\n",
       "      <td>170</td>\n",
       "    </tr>\n",
       "    <tr>\n",
       "      <td>1999.0</td>\n",
       "      <td>126</td>\n",
       "      <td>157</td>\n",
       "      <td>149</td>\n",
       "      <td>139</td>\n",
       "      <td>171</td>\n",
       "      <td>236</td>\n",
       "      <td>262</td>\n",
       "      <td>274</td>\n",
       "      <td>362</td>\n",
       "      <td>285</td>\n",
       "      <td>418</td>\n",
       "      <td>195</td>\n",
       "    </tr>\n",
       "    <tr>\n",
       "      <td>2000.0</td>\n",
       "      <td>198</td>\n",
       "      <td>178</td>\n",
       "      <td>202</td>\n",
       "      <td>171</td>\n",
       "      <td>154</td>\n",
       "      <td>233</td>\n",
       "      <td>322</td>\n",
       "      <td>250</td>\n",
       "      <td>257</td>\n",
       "      <td>278</td>\n",
       "      <td>200</td>\n",
       "      <td>192</td>\n",
       "    </tr>\n",
       "  </tbody>\n",
       "</table>\n",
       "</div>"
      ],
      "text/plain": [
       "       Date_Time                                                       \n",
       "Month         1    2    3    4    5    6    7    8    9    10   11   12\n",
       "Year                                                                   \n",
       "1975.0        13    3    8   15   13   88   47   40   21   31   19   14\n",
       "1978.0        14    8   12   12   12   70   74   50   18   25   19   12\n",
       "1993.0        12   12   14   12   26   76   38   37   19   18   14   14\n",
       "1994.0        17    8   18   28   26   69   47   53   29   54   25   32\n",
       "1995.0        90  113  120   88   98  152  121  181  120   95  116   50\n",
       "1996.0        53   66   60   91   74  117   63   66   54   54   78   75\n",
       "1997.0        46   38  174   86   93  170  199   99   49  105  113   65\n",
       "1998.0        75   74  130  112   95  178  156  144  215  205  189  170\n",
       "1999.0       126  157  149  139  171  236  262  274  362  285  418  195\n",
       "2000.0       198  178  202  171  154  233  322  250  257  278  200  192"
      ]
     },
     "execution_count": 11,
     "metadata": {},
     "output_type": "execute_result"
    }
   ],
   "source": [
    "import pandas as pd\n",
    "df = pd.read_csv('C:/Users/Thanniru Srinivas/Desktop/ineuron ml course/py sub and obj/data for subjective questions/ufo_data.csv')\n",
    "df['Date_Time'] = df['Date_Time'].astype('datetime64')\n",
    "df['Year'] = df['Date_Time'].dt.year\n",
    "df['Month'] = df['Date_Time'].dt.month\n",
    "top_years = df['Year'].value_counts().nlargest(10).index\n",
    "def find_top_years(year):\n",
    "    if year in top_years:\n",
    "        return year\n",
    "\n",
    "year_vs_month = pd.pivot_table(df, index = df['Year'].apply(find_top_years), columns = ['Month'], values = ['Date_Time'], aggfunc = 'count')\n",
    "print(\"\\nComparison of the top 10 years in which the UFO was sighted vs each month:\")\n",
    "year_vs_month"
   ]
  },
  {
   "cell_type": "markdown",
   "metadata": {},
   "source": [
    "Q139. Write a pandas program to create a heatmap (rectangular data as a colour-encoded matrix) for comparison of top 10 years in which (UFO ) was sighted VS each Month.\n"
   ]
  },
  {
   "cell_type": "code",
   "execution_count": 12,
   "metadata": {},
   "outputs": [
    {
     "data": {
      "text/plain": [
       "[Text(0.5, 15.0, 'Month')]"
      ]
     },
     "execution_count": 12,
     "metadata": {},
     "output_type": "execute_result"
    },
    {
     "data": {
      "image/png": "[encoded data removed]",
      "text/plain": [
       "<Figure size 432x288 with 2 Axes>"
      ]
     },
     "metadata": {
      "needs_background": "light"
     },
     "output_type": "display_data"
    }
   ],
   "source": [
    "import pandas as pd\n",
    "import seaborn as sns\n",
    "df = pd.read_csv('C:/Users/Thanniru Srinivas/Desktop/ineuron ml course/py sub and obj/data for subjective questions/ufo_data.csv')\n",
    "df['Date_Time'] = df['Date_Time'].astype('datetime64')\n",
    "df['Year'] = df['Date_Time'].dt.year\n",
    "df['Month'] = df['Date_Time'].dt.month\n",
    "top_years = df['Year'].value_counts().nlargest(10).index\n",
    "def find_top_years(year):\n",
    "    if year in top_years:\n",
    "        return year\n",
    "\n",
    "year_vs_month = pd.pivot_table(df, index = df['Year'].apply(find_top_years), columns = ['Month'], values = ['Date_Time'], aggfunc = 'count')\n",
    "\n",
    "heat_map = sns.heatmap(year_vs_month, cmap =\"Spectral\", xticklabels = range(1,13))\n",
    "heat_map.set(xlabel = 'Month')\n",
    "\n"
   ]
  },
  {
   "cell_type": "markdown",
   "metadata": {},
   "source": [
    "Q140. Write a pandas program to create a Timewheel of Hour VS Year comparison of the top 10 years in which the (UFO) was sighted."
   ]
  },
  {
   "cell_type": "code",
   "execution_count": null,
   "metadata": {},
   "outputs": [],
   "source": []
  },
  {
   "cell_type": "markdown",
   "metadata": {},
   "source": [
    "Q141. Write a python program to draw the line using given axis values with the suitable label in the x-axis, y-axis, and a title."
   ]
  },
  {
   "cell_type": "code",
   "execution_count": 13,
   "metadata": {},
   "outputs": [
    {
     "data": {
      "image/png": "[encoded data removed]",
      "text/plain": [
       "<Figure size 432x288 with 1 Axes>"
      ]
     },
     "metadata": {
      "needs_background": "light"
     },
     "output_type": "display_data"
    }
   ],
   "source": [
    "import matplotlib.pyplot as plt\n",
    "x=[1,2,3]\n",
    "y=[2,4,1]\n",
    "plt.plot(x,y)\n",
    "plt.xlabel('X-axis')\n",
    "plt.ylabel('Y-axis')\n",
    "plt.title('Sample Graph')\n",
    "plt.show()"
   ]
  },
  {
   "cell_type": "markdown",
   "metadata": {},
   "source": [
    "Q142. Write a python program to draw the line charts of the financial data of the Alphabet Inc., between October.\n",
    "3, 2016 to October 7 2016. Sample Financial data (fdata.csv)- Date,Open,High,Low,Close \n",
    "10-03-16,774.25,776.065002,769.5,772.559998\n",
    "10-04-16 , 776.030029, 778.710022,772.890015,776.429993\n",
    "10-05-16 , 779.309998, 782.070007,775.650024,776.469971 \n",
    "10-06-16 , 779 , 780.47998,775.539978,776.859985\n",
    "10-07-16,779.659973, 779.659973 , 770.75 , 775.080017 "
   ]
  },
  {
   "cell_type": "code",
   "execution_count": 14,
   "metadata": {},
   "outputs": [
    {
     "data": {
      "text/plain": [
       "<matplotlib.axes._subplots.AxesSubplot at 0x1949590c908>"
      ]
     },
     "execution_count": 14,
     "metadata": {},
     "output_type": "execute_result"
    },
    {
     "data": {
      "image/png": "[encoded data removed]",
      "text/plain": [
       "<Figure size 432x288 with 1 Axes>"
      ]
     },
     "metadata": {
      "needs_background": "light"
     },
     "output_type": "display_data"
    }
   ],
   "source": [
    "import pandas as pd\n",
    "fdata = [[774.25,776.065002,769.5,772.559998], \n",
    "        [776.030029, 778.710022,772.890015,776.429993], \n",
    "        [779.309998, 782.070007,775.650024,776.469971],\n",
    "        [779 , 780.47998,775.539978,776.859985], [779.659973, 779.659973 , 770.75 , 775.080017]]\n",
    "df=pd.DataFrame(fdata,index=pd.date_range('10-03-2016',periods=5),columns=['Open','High','Low','Close'])\n",
    "df.plot()\n",
    "\n"
   ]
  },
  {
   "cell_type": "markdown",
   "metadata": {},
   "source": [
    "Q143. Write a Python program to plot two or more lines on same plot with the suitable legends of each line."
   ]
  },
  {
   "cell_type": "code",
   "execution_count": 15,
   "metadata": {},
   "outputs": [
    {
     "data": {
      "image/png": "[encoded data removed]",
      "text/plain": [
       "<Figure size 432x288 with 1 Axes>"
      ]
     },
     "metadata": {
      "needs_background": "light"
     },
     "output_type": "display_data"
    }
   ],
   "source": [
    "import matplotlib.pyplot as plt\n",
    "x1=[10,20,30]\n",
    "y1=[20,40,10]\n",
    "plt.plot(x1,y1,label='line1')\n",
    "x2=[10,20,30]\n",
    "y2=[40,10,30]\n",
    "plt.plot(x2,y2,label='line2')\n",
    "plt.xlabel('X-axis')\n",
    "plt.ylabel('Y-axis')\n",
    "plt.title('Two lines on the same plot with suitable legends')\n",
    "plt.legend()\n",
    "plt.show()"
   ]
  },
  {
   "cell_type": "markdown",
   "metadata": {},
   "source": [
    "Q144. Write a python programming to display a bar chart of the popularity of programming languages.\n",
    "Sample data: \n",
    "programming languages- Java, Python, PHP, JavaScript, C#, C++\n",
    "Popularity- 22.2, 17.6, 8.8, 8, 7.7 , 6.7"
   ]
  },
  {
   "cell_type": "code",
   "execution_count": 16,
   "metadata": {},
   "outputs": [
    {
     "data": {
      "image/png": "[encoded data removed]",
      "text/plain": [
       "<Figure size 432x288 with 1 Axes>"
      ]
     },
     "metadata": {
      "needs_background": "light"
     },
     "output_type": "display_data"
    }
   ],
   "source": [
    "import matplotlib.pyplot as plt\n",
    "x = ['Java', 'Python', 'PHP', 'JavaScript', 'C#', 'C++']\n",
    "y = [22.2, 17.6, 8.8, 8, 7.7, 6.7] \n",
    "plt.bar(x, y, color='blue')\n",
    "plt.xlabel(\"Languages\")\n",
    "plt.ylabel(\"Popularity\")\n",
    "plt.title(\"Popularity of Programming Language\\n\" + \"Worldwide, Oct 2017 compared to a year ago\")\n",
    "plt.xticks(x)\n",
    "plt.minorticks_on()\n",
    "plt.grid(which='major', linestyle='-', linewidth='0.5', color='red')\n",
    "plt.grid(which='minor', linestyle=':', linewidth='0.5', color='green')\n",
    "plt.show()\n"
   ]
  },
  {
   "cell_type": "markdown",
   "metadata": {},
   "source": [
    "Q145. Write a python programming to display a horizontal bar chart of the popularity of programming languages.\n",
    "Sample data:\n",
    "programming languages- Java, Python, PHP, JavaScript, C#, C++\n",
    "Popularity- 22.2, 17.6, 8.8, 8, 7.7 , 6.7"
   ]
  },
  {
   "cell_type": "code",
   "execution_count": 17,
   "metadata": {},
   "outputs": [
    {
     "data": {
      "image/png": "[encoded data removed]",
      "text/plain": [
       "<Figure size 432x288 with 1 Axes>"
      ]
     },
     "metadata": {
      "needs_background": "light"
     },
     "output_type": "display_data"
    }
   ],
   "source": [
    "\n",
    "import matplotlib.pyplot as plt\n",
    "x = ['Java', 'Python', 'PHP', 'JavaScript', 'C#', 'C++']\n",
    "y = [22.2, 17.6, 8.8, 8, 7.7, 6.7] \n",
    "plt.barh(x, y, color='green')\n",
    "plt.xlabel(\"Languages\")\n",
    "plt.ylabel(\"Popularity\")\n",
    "plt.title(\"PopularitY of Programming Language\\n\" + \"Worldwide, Oct 2017 compared to a year ago\")\n",
    "plt.yticks(x)\n",
    "plt.minorticks_on()\n",
    "plt.grid(which='major', linestyle='-', linewidth='0.5', color='red')\n",
    "plt.grid(which='minor', linestyle=':', linewidth='0.5', color='blue')\n",
    "plt.show()\n"
   ]
  },
  {
   "cell_type": "markdown",
   "metadata": {},
   "source": [
    "Q146. Write a python programming to display a bar chart of the Popularity of programming languages. Increase bottom margin.\n",
    "Sample data:\n",
    "programming languages: Java, Python, PHP, JavaScript, C#, C++\n",
    "Popularity: 22.2, 17.6, 8.8, 8, 7.7 , 6.7"
   ]
  },
  {
   "cell_type": "code",
   "execution_count": 18,
   "metadata": {},
   "outputs": [
    {
     "data": {
      "image/png": "[encoded data removed]",
      "text/plain": [
       "<Figure size 432x288 with 1 Axes>"
      ]
     },
     "metadata": {
      "needs_background": "light"
     },
     "output_type": "display_data"
    }
   ],
   "source": [
    "\n",
    "import matplotlib.pyplot as plt\n",
    "x = ['Java', 'Python', 'PHP', 'JavaScript', 'C#', 'C++']\n",
    "y = [22.2, 17.6, 8.8, 8, 7.7, 6.7] \n",
    "plt.bar(x, y,color=(0.4, 0.6, 0.8, 1.0))\n",
    "plt.xlabel(\"Languages\")\n",
    "plt.ylabel(\"Popularity\")\n",
    "plt.title(\"PopularitY of Programming Language\\n\" + \"Worldwide, Oct 2017 compared to a year ago\")\n",
    "plt.xticks(x, rotation=90)\n",
    "plt.subplots_adjust(bottom=0.4, top=.8)\n",
    "plt.minorticks_on()\n",
    "plt.grid(which='major', linestyle='-', linewidth='0.5', color='red')\n",
    "plt.grid(which='minor', linestyle=':', linewidth='0.5', color='black')\n",
    "plt.show()"
   ]
  },
  {
   "cell_type": "markdown",
   "metadata": {},
   "source": [
    "Q147. Write a python program to create the bar plot from a DataFrame.\n",
    "      a b c d  e \n",
    "      2 4,8,5,7,6 \n",
    "      4 2,3,4,2,6 \n",
    "      6 4,7,4,7,8\n",
    "      8 2,6,4,8,6\n",
    "      10 2,4,3,3,2 \n"
   ]
  },
  {
   "cell_type": "code",
   "execution_count": 29,
   "metadata": {},
   "outputs": [
    {
     "data": {
      "image/png": "[encoded data removed]",
      "text/plain": [
       "<Figure size 432x288 with 1 Axes>"
      ]
     },
     "metadata": {
      "needs_background": "light"
     },
     "output_type": "display_data"
    }
   ],
   "source": [
    "import pandas as pd\n",
    "import matplotlib.pyplot as plt\n",
    "data = [[4, 8, 5, 7, 6], [2, 3, 4, 2, 6], [4, 7, 4, 7, 8], [2, 6, 4, 8, 6], [2, 4, 3, 3, 2]]\n",
    "columns = ['a', 'b', 'c', 'd', 'e']\n",
    "indexes = [2, 4, 6, 8, 10]\n",
    "df = pd.DataFrame(data, columns = columns, index = indexes)\n",
    "df.plot(kind='bar')\n",
    "plt.minorticks_on()\n",
    "plt.grid(which='major',linestyle='-',linewidth='0.5',color='red')\n",
    "plt.grid(which='minor',linestyle=':',linewidth='0.5',color='green')\n",
    "plt.show()"
   ]
  },
  {
   "cell_type": "markdown",
   "metadata": {},
   "source": [
    "Q148. Write a python program to draw the scatter plot comparing two subject marks of Mathematics and Science. Use marks of 10 students.\n",
    "Sample data: \n",
    "Test Data-\n",
    "math_marks = [88, 92 , 80, 89, 100, 80, 60, 100, 80, 34]\n",
    "science_marks = [35, 79, 79 , 48, 100, 88, 32, 45, 20, 30]\n",
    "marks_range = [10, 20, 30, 40, 50, 60, 70, 80, 90, 100]"
   ]
  },
  {
   "cell_type": "code",
   "execution_count": 25,
   "metadata": {},
   "outputs": [
    {
     "data": {
      "image/png": "[encoded data removed]",
      "text/plain": [
       "<Figure size 432x288 with 1 Axes>"
      ]
     },
     "metadata": {
      "needs_background": "light"
     },
     "output_type": "display_data"
    }
   ],
   "source": [
    "import pandas as pd\n",
    "import matplotlib.pyplot as plt\n",
    "math_marks=[88,92,80,89,100,80,60,100,80,34]\n",
    "science_marks=[35,79,79,48,100,88,32,45,20,30]\n",
    "marks_range=[10,20,30,40,50,60,70,80,90,100]\n",
    "plt.scatter(marks_range,math_marks,label='Math marks',color='r')\n",
    "plt.scatter(marks_range,science_marks,label='Science marks',color='g')\n",
    "plt.title('Scatter Plot')\n",
    "plt.xlabel('Marks Range')\n",
    "plt.ylabel('Marks Scored')\n",
    "plt.legend()\n",
    "plt.show()"
   ]
  },
  {
   "cell_type": "markdown",
   "metadata": {},
   "source": [
    "Q149. Write a python program to draw the scatter plot for three different groups comparing weights and heights."
   ]
  },
  {
   "cell_type": "code",
   "execution_count": 26,
   "metadata": {},
   "outputs": [
    {
     "data": {
      "image/png": "[encoded data removed]",
      "text/plain": [
       "<Figure size 432x288 with 1 Axes>"
      ]
     },
     "metadata": {
      "needs_background": "light"
     },
     "output_type": "display_data"
    }
   ],
   "source": [
    "import pandas as pd\n",
    "import matplotlib.pyplot as plt\n",
    "weight1=[67,57.2,59.6,59.64,55.8,61.2,60.45,61,56.23,56]\n",
    "height1=[101.7,197.6,98.3,125.1,113.7,157.7,136,148.9,125.3,114.9]\n",
    "weight2=[61.9,64,62.1,64.2,62.3,65.4,62.4,61.4,62.5,63.6]\n",
    "height2=[152.8,155.3,135.1,125.2,151.3,135,182.2,195.9,165.1,125.1]\n",
    "weight3=[68.2,67.2,68.4,68.7,71,71.3,70.8,70,71.1,71.7]\n",
    "height3=[165.8,170.9,192.8,135.4,161.4,136.1,167.1,235.1,181.1,177.3]\n",
    "plt.scatter(weight1,height1)\n",
    "plt.scatter(weight2,height2)\n",
    "plt.scatter(weight3,height3)\n",
    "plt.legend([1,2,3])\n",
    "plt.xlabel('weight',fontsize=16)\n",
    "plt.ylabel('height',fontsize=16)\n",
    "plt.title('Group wise Weight vs Height scatter plot',fontsize=20)\n",
    "plt.show()\n"
   ]
  },
  {
   "cell_type": "markdown",
   "metadata": {},
   "source": [
    "Q150. Write a python program to draw a scatter plot to find sea-level rise in past 100 years."
   ]
  },
  {
   "cell_type": "code",
   "execution_count": 27,
   "metadata": {},
   "outputs": [
    {
     "data": {
      "text/plain": [
       "Text(0.5, 1.0, 'Rise in Sealevel')"
      ]
     },
     "execution_count": 27,
     "metadata": {},
     "output_type": "execute_result"
    },
    {
     "data": {
      "image/png": "[encoded data removed]",
      "text/plain": [
       "<Figure size 432x288 with 1 Axes>"
      ]
     },
     "metadata": {
      "needs_background": "light"
     },
     "output_type": "display_data"
    }
   ],
   "source": [
    "import pandas as pd\n",
    "import matplotlib.pyplot as plt\n",
    "a=pd.read_csv('C:/Users/Thanniru Srinivas/Desktop/ineuron ml course/py sub and obj/csvdata.csv')\n",
    "a.plot(x='Year',y='CSIRO_sea_level',kind='scatter')\n",
    "plt.ylabel('Sea Level (inches)')\n",
    "plt.title('Rise in Sealevel')"
   ]
  },
  {
   "cell_type": "markdown",
   "metadata": {},
   "source": []
  },
  {
   "cell_type": "markdown",
   "metadata": {},
   "source": []
  }
 ],
 "metadata": {
  "kernelspec": {
   "display_name": "Python 3",
   "language": "python",
   "name": "python3"
  },
  "language_info": {
   "codemirror_mode": {
    "name": "ipython",
    "version": 3
   },
   "file_extension": ".py",
   "mimetype": "text/x-python",
   "name": "python",
   "nbconvert_exporter": "python",
   "pygments_lexer": "ipython3",
   "version": "3.7.4"
  }
 },
 "nbformat": 4,
 "nbformat_minor": 2
}
