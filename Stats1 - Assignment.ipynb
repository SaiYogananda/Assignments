{
 "cells": [
  {
   "cell_type": "raw",
   "metadata": {},
   "source": [
    "Problem Statement 1:\n",
    "\n",
    "You survey households in your area to find the average rent they are paying. Find the standard deviation from the following data:\n",
    "$1550, $1700, $900, $850, $1000, $950.\n",
    "\n"
   ]
  },
  {
   "cell_type": "code",
   "execution_count": 8,
   "metadata": {},
   "outputs": [
    {
     "name": "stdout",
     "output_type": "stream",
     "text": [
      "The standard deviation for the following data is : $335.92740617910624\n"
     ]
    }
   ],
   "source": [
    "import numpy as np\n",
    "data=np.array([1550,1700,900,850,1000,950])\n",
    "result=np.std(data)\n",
    "print(\"The standard deviation for the following data is : \"+'$'+str(result))"
   ]
  },
  {
   "cell_type": "code",
   "execution_count": null,
   "metadata": {},
   "outputs": [],
   "source": []
  },
  {
   "cell_type": "raw",
   "metadata": {},
   "source": [
    "Problem Statement 2:\n",
    "\n",
    "Find the variance for the following set of data representing trees in California (heights in feet):\n",
    "\n",
    "3, 21, 98, 203, 17, 9\n",
    "\n"
   ]
  },
  {
   "cell_type": "code",
   "execution_count": 10,
   "metadata": {},
   "outputs": [
    {
     "name": "stdout",
     "output_type": "stream",
     "text": [
      "The variance for the following data is : 5183.25feet\n"
     ]
    }
   ],
   "source": [
    "import numpy as np\n",
    "data=np.array([3,21,98,203,17,9])\n",
    "result=np.var(data)\n",
    "print(\"The variance for the following data is : \"+str(result)+'feet')"
   ]
  },
  {
   "cell_type": "code",
   "execution_count": null,
   "metadata": {},
   "outputs": [],
   "source": []
  },
  {
   "cell_type": "markdown",
   "metadata": {},
   "source": [
    "Problem Statement 3:\n",
    "\n",
    "In a class on 100 students, 80 students passed in all subjects, 10 failed in one subject, 7 failed in two subjects and 3 failed in three subjects. Find the probability distribution of the variable for number of subjects a student from the given class has failed in.\n"
   ]
  },
  {
   "cell_type": "markdown",
   "metadata": {},
   "source": []
  },
  {
   "cell_type": "markdown",
   "metadata": {},
   "source": [
    "In a class on 100 students, 80 students passed in all subjects,\n",
    "\n",
    "Failed in 0 subjects  = 80\n",
    "\n",
    "Failed in 1 subject  = 10\n",
    "\n",
    "Failed in 2 subjects  = 7\n",
    "\n",
    "Failed in 3 Subjects = 3\n",
    "\n",
    "Probability of Failing in 0 subjects  = 80/100\n",
    "\n",
    "Probability of Failing in 1 subjects  = 10/100\n",
    "\n",
    "Probability of Failing in 2 subjects  = 7/100\n",
    "\n",
    "Probability of Failing in 3 subjects  = 3/100\n",
    "\n",
    "Expected number of subjects in which failed   = 0 * (80/100) + 1(10/100) + 2(7/100) + 3(3/100)\n",
    "\n",
    "= (0 + 10 + 14 + 9)/100\n",
    "\n",
    "= 33/100\n",
    "\n",
    "=0.33\n",
    "\n"
   ]
  },
  {
   "cell_type": "code",
   "execution_count": null,
   "metadata": {},
   "outputs": [],
   "source": []
  }
 ],
 "metadata": {
  "kernelspec": {
   "display_name": "Python 3",
   "language": "python",
   "name": "python3"
  },
  "language_info": {
   "codemirror_mode": {
    "name": "ipython",
    "version": 3
   },
   "file_extension": ".py",
   "mimetype": "text/x-python",
   "name": "python",
   "nbconvert_exporter": "python",
   "pygments_lexer": "ipython3",
   "version": "3.7.4"
  }
 },
 "nbformat": 4,
 "nbformat_minor": 2
}
